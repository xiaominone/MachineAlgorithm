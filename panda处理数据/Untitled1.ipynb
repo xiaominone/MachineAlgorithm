{
 "cells": [
  {
   "cell_type": "code",
   "execution_count": 1,
   "metadata": {
    "collapsed": true
   },
   "outputs": [],
   "source": [
    "import numpy as np\n",
    "import pandas as pd\n",
    "from pandas import Series,DataFrame\n",
    "import xlrd, xlwt"
   ]
  },
  {
   "cell_type": "code",
   "execution_count": 211,
   "metadata": {
    "collapsed": true
   },
   "outputs": [],
   "source": [
    "neng_data = pd.ExcelFile('countries.xlsx')\n",
    "f1 = lambda x:(x.max()-x)/(x.max()-x.min())\n",
    "f2 = lambda x:(x-x.min())/(x.max()-x.min())"
   ]
  },
  {
   "cell_type": "code",
   "execution_count": 212,
   "metadata": {},
   "outputs": [],
   "source": [
    "def read_sheet(data,sheetname):\n",
    "    table_data = data.parse(sheetname)\n",
    "    table_data = table_data.T\n",
    "    table_data_ = table_data[1:]\n",
    "    tabel_data_ = table_data_.dropna(axis=1,how='all')\n",
    "    table_data_mean = table_data_.mean()\n",
    "    #print(table_data_mean)\n",
    "    t0 = table_data.fillna(dict(table_data_mean))\n",
    "    t0 = t0.ix[1:].dropna(axis=1,how='all')\n",
    "    #print(t0.ix[:,19])\n",
    "    t1 = t0.ix[:,0:14].apply(f1)\n",
    "    #print(t1)\n",
    "    t2 = t0.ix[:,15:25].apply(f2)\n",
    "    #print(t2)\n",
    "    t3 = t1.add(t2,fill_value=0)\n",
    "    t3 = t3.T\n",
    "    t4 = t3.reindex(index=range(26),fill_value=0)\n",
    "    INDEX = table_data.ix[0]\n",
    "    t4.index = INDEX\n",
    "    #print(t4)\n",
    "    t4.to_excel(sheetname + '.xlsx',sheet_name=sheetname)"
   ]
  },
  {
   "cell_type": "code",
   "execution_count": 231,
   "metadata": {},
   "outputs": [
    {
     "data": {
      "text/plain": [
       "'SSD'"
      ]
     },
     "execution_count": 231,
     "metadata": {},
     "output_type": "execute_result"
    }
   ],
   "source": [
    "names= neng_data.sheet_names\n",
    "names[11]"
   ]
  },
  {
   "cell_type": "code",
   "execution_count": 214,
   "metadata": {},
   "outputs": [
    {
     "name": "stderr",
     "output_type": "stream",
     "text": [
      "/home/onexiaomin/anaconda3/lib/python3.5/site-packages/ipykernel/__main__.py:9: DeprecationWarning: \n",
      ".ix is deprecated. Please use\n",
      ".loc for label based indexing or\n",
      ".iloc for positional indexing\n",
      "\n",
      "See the documentation here:\n",
      "http://pandas.pydata.org/pandas-docs/stable/indexing.html#ix-indexer-is-deprecated\n",
      "/home/onexiaomin/anaconda3/lib/python3.5/site-packages/ipykernel/__main__.py:11: DeprecationWarning: \n",
      ".ix is deprecated. Please use\n",
      ".loc for label based indexing or\n",
      ".iloc for positional indexing\n",
      "\n",
      "See the documentation here:\n",
      "http://pandas.pydata.org/pandas-docs/stable/indexing.html#ix-indexer-is-deprecated\n",
      "/home/onexiaomin/anaconda3/lib/python3.5/site-packages/ipykernel/__main__.py:18: DeprecationWarning: \n",
      ".ix is deprecated. Please use\n",
      ".loc for label based indexing or\n",
      ".iloc for positional indexing\n",
      "\n",
      "See the documentation here:\n",
      "http://pandas.pydata.org/pandas-docs/stable/indexing.html#ix-indexer-is-deprecated\n"
     ]
    }
   ],
   "source": [
    "read_sheet(neng_data,names[38])"
   ]
  },
  {
   "cell_type": "code",
   "execution_count": 251,
   "metadata": {
    "collapsed": true
   },
   "outputs": [],
   "source": [
    "def read_sheet_two(data,sheetname):\n",
    "    table_data = data.parse(sheetname)\n",
    "    table_data = table_data.T\n",
    "    table_data_ = table_data[1:]\n",
    "    tabel_data_ = table_data_.dropna(axis=1,how='all')\n",
    "    table_data_mean = table_data_.mean()\n",
    "    t0 = table_data_.fillna(dict(table_data_mean))\n",
    "    t0 = t0.dropna(axis = 1,how ='all')\n",
    "    table_data_std = t0.std()\n",
    "    table_data_mean= t0.mean()\n",
    "    #print(table_data_mean)\n",
    "    #print(table_data_std)\n",
    "    tabel_data_A = table_data_std/table_data_mean\n",
    "    #print(tabel_data_A)\n",
    "    tabel_data_A_sum = sum(tabel_data_A)\n",
    "    table_data_w = tabel_data_A/tabel_data_A_sum\n",
    "    \n",
    "    table_data_w = table_data_w.reindex(index=range(26),fill_value=0)\n",
    "    #print(table_data_w)\n",
    "    INDEX = table_data.ix[0]\n",
    "    table_data_w.index=INDEX\n",
    "    #print(table_data_w)\n",
    "    table_data_w.to_excel(sheetname + '.xlsx',sheet_name=sheetname)"
   ]
  },
  {
   "cell_type": "code",
   "execution_count": 254,
   "metadata": {},
   "outputs": [
    {
     "name": "stderr",
     "output_type": "stream",
     "text": [
      "/home/onexiaomin/anaconda3/lib/python3.5/site-packages/ipykernel/__main__.py:19: DeprecationWarning: \n",
      ".ix is deprecated. Please use\n",
      ".loc for label based indexing or\n",
      ".iloc for positional indexing\n",
      "\n",
      "See the documentation here:\n",
      "http://pandas.pydata.org/pandas-docs/stable/indexing.html#ix-indexer-is-deprecated\n"
     ]
    }
   ],
   "source": [
    "for i in range(54): \n",
    "    read_sheet_two(neng_data,names[i])"
   ]
  },
  {
   "cell_type": "code",
   "execution_count": 263,
   "metadata": {
    "collapsed": true
   },
   "outputs": [],
   "source": [
    "def read_sheet_three(data,sheetname):\n",
    "    table_data = data.parse(sheetname)\n",
    "    table_data = table_data.T\n",
    "    table_data_ = table_data[1:]\n",
    "    tabel_data_ = table_data_.dropna(axis=1,how='all')\n",
    "    table_data_mean = table_data_.mean()\n",
    "    #print(table_data_mean)\n",
    "    t0 = table_data.fillna(dict(table_data_mean))\n",
    "    t0 = t0.ix[1:].dropna(axis=1,how='all')\n",
    "    \n",
    "    table_data_std = t0.std()\n",
    "    table_data_mean= t0.mean()\n",
    "    tabel_data_A = table_data_std/table_data_mean\n",
    "    tabel_data_A_sum = sum(tabel_data_A)\n",
    "    table_data_w = tabel_data_A/tabel_data_A_sum\n",
    "    \n",
    "    t1 = t0.ix[:,0:14].apply(f1)\n",
    "    t2 = t0.ix[:,15:25].apply(f2)\n",
    "    t3 = t1.add(t2,fill_value=0)\n",
    "    \n",
    "    #print(t3)\n",
    "    #print(table_data_w)\n",
    "    t4 = t3*table_data_w\n",
    "    #print(t4)\n",
    "    t4 = t4.T\n",
    "    t4 = t4.reindex(index=range(26),fill_value=0)\n",
    "    INDEX = table_data.ix[0]\n",
    "    t4.index = INDEX\n",
    "    #print(t4)\n",
    "    t4.to_excel(sheetname + '.xlsx',sheet_name=sheetname)"
   ]
  },
  {
   "cell_type": "code",
   "execution_count": 265,
   "metadata": {},
   "outputs": [
    {
     "name": "stderr",
     "output_type": "stream",
     "text": [
      "/home/onexiaomin/anaconda3/lib/python3.5/site-packages/ipykernel/__main__.py:9: DeprecationWarning: \n",
      ".ix is deprecated. Please use\n",
      ".loc for label based indexing or\n",
      ".iloc for positional indexing\n",
      "\n",
      "See the documentation here:\n",
      "http://pandas.pydata.org/pandas-docs/stable/indexing.html#ix-indexer-is-deprecated\n",
      "/home/onexiaomin/anaconda3/lib/python3.5/site-packages/ipykernel/__main__.py:17: DeprecationWarning: \n",
      ".ix is deprecated. Please use\n",
      ".loc for label based indexing or\n",
      ".iloc for positional indexing\n",
      "\n",
      "See the documentation here:\n",
      "http://pandas.pydata.org/pandas-docs/stable/indexing.html#ix-indexer-is-deprecated\n",
      "/home/onexiaomin/anaconda3/lib/python3.5/site-packages/ipykernel/__main__.py:27: DeprecationWarning: \n",
      ".ix is deprecated. Please use\n",
      ".loc for label based indexing or\n",
      ".iloc for positional indexing\n",
      "\n",
      "See the documentation here:\n",
      "http://pandas.pydata.org/pandas-docs/stable/indexing.html#ix-indexer-is-deprecated\n"
     ]
    }
   ],
   "source": [
    "for i in range(54):\n",
    "    read_sheet_three(neng_data,names[i])"
   ]
  },
  {
   "cell_type": "code",
   "execution_count": null,
   "metadata": {
    "collapsed": true
   },
   "outputs": [],
   "source": []
  }
 ],
 "metadata": {
  "anaconda-cloud": {},
  "kernelspec": {
   "display_name": "Python [conda root]",
   "language": "python",
   "name": "conda-root-py"
  },
  "language_info": {
   "codemirror_mode": {
    "name": "ipython",
    "version": 3
   },
   "file_extension": ".py",
   "mimetype": "text/x-python",
   "name": "python",
   "nbconvert_exporter": "python",
   "pygments_lexer": "ipython3",
   "version": "3.5.4"
  }
 },
 "nbformat": 4,
 "nbformat_minor": 2
}
