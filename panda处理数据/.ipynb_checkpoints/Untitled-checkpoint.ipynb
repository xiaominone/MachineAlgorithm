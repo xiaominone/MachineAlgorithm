{
 "cells": [
  {
   "cell_type": "code",
   "execution_count": 22,
   "metadata": {
    "collapsed": false
   },
   "outputs": [
    {
     "ename": "IndentationError",
     "evalue": "unexpected unindent (<ipython-input-22-a38d1383ea9d>, line 11)",
     "output_type": "error",
     "traceback": [
      "\u001b[0;36m  File \u001b[0;32m\"<ipython-input-22-a38d1383ea9d>\"\u001b[0;36m, line \u001b[0;32m11\u001b[0m\n\u001b[0;31m    def excel_table_byindex(file= 'file.xls',colnameindex=0,by_index=0)：\u001b[0m\n\u001b[0m                                                                        ^\u001b[0m\n\u001b[0;31mIndentationError\u001b[0m\u001b[0;31m:\u001b[0m unexpected unindent\n"
     ]
    }
   ],
   "source": [
    "# -*- coding: utf-8 -*- \n",
    "import  xdrlib ,sys\n",
    "import xlrd\n",
    "def open_excel(file):\n",
    "    try:\n",
    "        data = xlrd.open_workbook(file)\n",
    "        return data\n",
    "    \n",
    "\n",
    "\n",
    "def excel_table_byindex(file= 'file.xls',colnameindex=0,by_index=0)：\n",
    "    data = open_excel(file)\n",
    "    table = data.sheets()[by_index]\n",
    "    nrows = table.nrows #行数\n",
    "    ncols = table.ncols #列数\n",
    "    colnames =  table.row_values(colnameindex) #某一行数据 \n",
    "    list =[]\n",
    "    for rownum in range(1,nrows):\n",
    "        row = table.row_values(rownum)\n",
    "        if row:\n",
    "            app = {}\n",
    "            for i in range(len(colnames)):\n",
    "                app[colnames[i]] = row[i] \n",
    "             list.append(app)\n",
    "    return list\n",
    "def main():\n",
    "    tables = excel_table_byindex()\n",
    "    for row in tables:\n",
    "       print row\n",
    "\n",
    "if __name__==\"__main__\":\n",
    "    main()"
   ]
  },
  {
   "cell_type": "code",
   "execution_count": 9,
   "metadata": {
    "collapsed": false
   },
   "outputs": [
    {
     "data": {
      "text/plain": [
       "<xlrd.book.Book at 0x7f01e76c5f28>"
      ]
     },
     "execution_count": 9,
     "metadata": {},
     "output_type": "execute_result"
    }
   ],
   "source": [
    "data"
   ]
  },
  {
   "cell_type": "code",
   "execution_count": null,
   "metadata": {
    "collapsed": true
   },
   "outputs": [],
   "source": []
  },
  {
   "cell_type": "code",
   "execution_count": null,
   "metadata": {
    "collapsed": true
   },
   "outputs": [],
   "source": []
  }
 ],
 "metadata": {
  "anaconda-cloud": {},
  "celltoolbar": "Slideshow",
  "kernelspec": {
   "display_name": "Python [conda root]",
   "language": "python",
   "name": "conda-root-py"
  },
  "language_info": {
   "codemirror_mode": {
    "name": "ipython",
    "version": 3
   },
   "file_extension": ".py",
   "mimetype": "text/x-python",
   "name": "python",
   "nbconvert_exporter": "python",
   "pygments_lexer": "ipython3",
   "version": "3.5.3"
  }
 },
 "nbformat": 4,
 "nbformat_minor": 1
}
