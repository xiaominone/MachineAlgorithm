{
 "cells": [
  {
   "cell_type": "code",
   "execution_count": 2,
   "metadata": {
    "collapsed": false
   },
   "outputs": [
    {
     "name": "stdout",
     "output_type": "stream",
     "text": [
      "Automatically created module for IPython interactive environment\n",
      "Corr(X)\n",
      "[[ 1.    0.44  0.    0.03]\n",
      " [ 0.44  1.   -0.01  0.08]\n",
      " [ 0.   -0.01  1.    0.55]\n",
      " [ 0.03  0.08  0.55  1.  ]]\n",
      "Corr(Y)\n",
      "[[ 1.    0.39 -0.09 -0.01]\n",
      " [ 0.39  1.    0.01  0.02]\n",
      " [-0.09  0.01  1.    0.54]\n",
      " [-0.01  0.02  0.54  1.  ]]\n"
     ]
    }
   ],
   "source": [
    "#PLS分析的是2组数据，每组数据维度不同，但2组数据之间有联系 \n",
    "print(__doc__)\n",
    "\n",
    "import numpy as np\n",
    "import matplotlib.pyplot as plt\n",
    "from sklearn.cross_decomposition import PLSCanonical, PLSRegression, CCA\n",
    "\n",
    "# #############################################################################\n",
    "# Dataset based latent variables model  建立数据集之间与数据集内部的相关参数分析\n",
    "\n",
    "n = 500\n",
    "# 2 latents vars: 2个潜在的变量\n",
    "l1 = np.random.normal(size=n)\n",
    "l2 = np.random.normal(size=n)\n",
    "\n",
    "latents = np.array([l1, l1, l2, l2]).T   \n",
    "X = latents + np.random.normal(size=4 * n).reshape((n, 4))  #X，Y 的 size=（500,4）\n",
    "Y = latents + np.random.normal(size=4 * n).reshape((n, 4))\n",
    "\n",
    "X_train = X[:n // 2] #将数据集X和数据集Y切分  X分为X_train和Y_train  同理Y\n",
    "Y_train = Y[:n // 2]#  X_train、X_test 的size=（250,4）\n",
    "X_test = X[n // 2:] \n",
    "Y_test = Y[n // 2:]\n",
    "\n",
    "print(\"Corr(X)\")\n",
    "print(np.round(np.corrcoef(X.T), 2)) #1 round() 浮点数的四舍五入 2 表示保留2为小数 corrcoef() 求相关系数（矩阵）\n",
    "print(\"Corr(Y)\")\n",
    "print(np.round(np.corrcoef(Y.T), 2))"
   ]
  },
  {
   "cell_type": "code",
   "execution_count": 15,
   "metadata": {
    "collapsed": false
   },
   "outputs": [
    {
     "data": {
      "text/plain": [
       "(500, 4)"
      ]
     },
     "execution_count": 15,
     "metadata": {},
     "output_type": "execute_result"
    }
   ],
   "source": [
    "X.shape"
   ]
  },
  {
   "cell_type": "code",
   "execution_count": 3,
   "metadata": {
    "collapsed": false
   },
   "outputs": [],
   "source": [
    "# Transform data #处理数据 首先调用PLSCanonical()类\n",
    "# ~~~~~~~~~~~~~~\n",
    "plsca = PLSCanonical(n_components=2) #1 建立一个PLSCanonical实例\n",
    "plsca.fit(X_train, Y_train)  # 2 调用函数fit \n",
    "X_train_r, Y_train_r = plsca.transform(X_train, Y_train) #3降维度处理数据   \n",
    "X_test_r, Y_test_r = plsca.transform(X_test, Y_test)#X_train_r、Y_train_r 的size = (250,2) 对应为2种成分的数据矩阵  其他一样"
   ]
  },
  {
   "cell_type": "code",
   "execution_count": 12,
   "metadata": {
    "collapsed": false
   },
   "outputs": [
    {
     "data": {
      "text/plain": [
       "(250, 2)"
      ]
     },
     "execution_count": 12,
     "metadata": {},
     "output_type": "execute_result"
    }
   ],
   "source": [
    "Y_test_r.shape"
   ]
  },
  {
   "cell_type": "code",
   "execution_count": 16,
   "metadata": {
    "collapsed": false
   },
   "outputs": [
    {
     "data": {
      "text/plain": [
       "<matplotlib.legend.Legend at 0x7f358ccdbe48>"
      ]
     },
     "execution_count": 16,
     "metadata": {},
     "output_type": "execute_result"
    }
   ],
   "source": [
    "# 1) On diagonal plot X vs Y scores on each components 在对角线上是X与Y的主成分1的相关性分析\n",
    "plt.figure(figsize=(12, 8))\n",
    "plt.subplot(221)\n",
    "plt.scatter(X_train_r[:, 0], Y_train_r[:, 0], label=\"train\",\n",
    "            marker=\"o\", c=\"b\", s=25)\n",
    "plt.scatter(X_test_r[:, 0], Y_test_r[:, 0], label=\"test\",\n",
    "            marker=\"o\", c=\"r\", s=25)\n",
    "plt.xlabel(\"x scores\")\n",
    "plt.ylabel(\"y scores\")\n",
    "plt.title('Comp. 1: X vs Y (test corr = %.2f)' % \n",
    "          np.corrcoef(X_test_r[:, 0], Y_test_r[:, 0])[0, 1])#第一种成分 X_test_r[:, 0], Y_test_r[:, 0]相应的最大相关系数\n",
    "plt.xticks(())\n",
    "plt.yticks(())\n",
    "plt.legend(loc=\"best\")\n",
    "\n",
    "plt.subplot(224)\n",
    "plt.scatter(X_train_r[:, 1], Y_train_r[:, 1], label=\"train\",\n",
    "            marker=\"o\", c=\"b\", s=25)\n",
    "plt.scatter(X_test_r[:, 1], Y_test_r[:, 1], label=\"test\",\n",
    "            marker=\"o\", c=\"r\", s=25)\n",
    "plt.xlabel(\"x scores\")\n",
    "plt.ylabel(\"y scores\")\n",
    "plt.title('Comp. 2: X vs Y (test corr = %.2f)' %\n",
    "          np.corrcoef(X_test_r[:, 1], Y_test_r[:, 1])[0, 1])##第二种成分 X_test_r[:, 1], Y_test_r[:, 1]相应的最大相关系数\n",
    "plt.xticks(())\n",
    "plt.yticks(())\n",
    "plt.legend(loc=\"best\")\n",
    "plt.show()\n",
    "\n",
    "# 2) Off diagonal plot components 1 vs 2 for X and Y  非对角线上是数据集X上内部成分1 和 成分2的相关系分析\n",
    "plt.subplot(222)\n",
    "plt.scatter(X_train_r[:, 0], X_train_r[:, 1], label=\"train\",\n",
    "            marker=\"*\", c=\"b\", s=50)\n",
    "plt.scatter(X_test_r[:, 0], X_test_r[:, 1], label=\"test\",\n",
    "            marker=\"*\", c=\"r\", s=50)\n",
    "plt.xlabel(\"X comp. 1\"\n",
    "plt.ylabel(\"X comp. 2\")\n",
    "plt.title('X comp. 1 vs X comp. 2 (test corr = %.2f)'\n",
    "          % np.corrcoef(X_test_r[:, 0], X_test_r[:, 1])[0, 1])\n",
    "plt.legend(loc=\"best\")\n",
    "plt.xticks(())\n",
    "plt.yticks(())\n",
    "\n",
    "plt.subplot(223) #非对角线上是数据集Y上内部成分1 和 成分2的相关系分析\n",
    "plt.scatter(Y_train_r[:, 0], Y_train_r[:, 1], label=\"train\",\n",
    "            marker=\"*\", c=\"b\", s=50)\n",
    "plt.scatter(Y_test_r[:, 0], Y_test_r[:, 1], label=\"test\",\n",
    "            marker=\"*\", c=\"r\", s=50)\n",
    "plt.xlabel(\"Y comp. 1\")\n",
    "plt.ylabel(\"Y comp. 2\")\n",
    "plt.title('Y comp. 1 vs Y comp. 2 , (test corr = %.2f)'\n",
    "          % np.corrcoef(Y_test_r[:, 0], Y_test_r[:, 1])[0, 1])\n",
    "plt.legend(loc=\"best\")\n",
    "plt.xticks(())\n",
    "plt.yticks(())\n",
    "plt.show()"
   ]
  },
  {
   "cell_type": "code",
   "execution_count": 18,
   "metadata": {
    "collapsed": false
   },
   "outputs": [
    {
     "name": "stdout",
     "output_type": "stream",
     "text": [
      "True B (such that: Y = XB + Err)\n",
      "[[1 1 1]\n",
      " [2 2 2]\n",
      " [0 0 0]\n",
      " [0 0 0]\n",
      " [0 0 0]\n",
      " [0 0 0]\n",
      " [0 0 0]\n",
      " [0 0 0]\n",
      " [0 0 0]\n",
      " [0 0 0]]\n",
      "Estimated B\n",
      "[[ 1.   1.   1. ]\n",
      " [ 2.   2.   2. ]\n",
      " [-0.  -0.1 -0. ]\n",
      " [ 0.   0.   0. ]\n",
      " [ 0.   0.1  0. ]\n",
      " [ 0.   0.1  0. ]\n",
      " [-0.  -0.  -0. ]\n",
      " [ 0.   0.   0. ]\n",
      " [-0.  -0.  -0. ]\n",
      " [-0.   0.  -0. ]]\n"
     ]
    },
    {
     "data": {
      "text/plain": [
       "array([[ 11.21766342,  11.17820073,  11.23946269],\n",
       "       [ 10.26093161,  10.36890095,  10.31673387],\n",
       "       [  5.10036084,   5.41543701,   5.16181511],\n",
       "       ..., \n",
       "       [  6.61104897,   6.55847013,   6.60367931],\n",
       "       [  4.26116591,   4.17009048,   4.23844096],\n",
       "       [  7.16917081,   7.36383648,   7.22391533]])"
      ]
     },
     "execution_count": 18,
     "metadata": {},
     "output_type": "execute_result"
    }
   ],
   "source": [
    "# PLS regression, with multivariate response, a.k.a. PLS2 多变量PLS  求解矩阵B\n",
    "n = 1000\n",
    "q = 3\n",
    "p = 10\n",
    "X = np.random.normal(size=n * p).reshape((n, p)) #X组数据size=(1000,10)\n",
    "B = np.array([[1, 2] + [0] * (p - 2)] * q).T#初始B矩阵 size=(10,3)\n",
    "# each Yj = 1*X1 + 2*X2 + noize\n",
    "Y = np.dot(X, B) + np.random.normal(size=n * q).reshape((n, q)) + 5#Y组数据size=(1000,3)\n",
    "#使用算法 2个变量组\n",
    "pls2 = PLSRegression(n_components=3)#1 建立PLSRegression类\n",
    "pls2.fit(X, Y)#2 将数据放入模型\n",
    "print(\"True B (such that: Y = XB + Err)\")\n",
    "print(B)\n",
    "# compare pls2.coef_ with B\n",
    "print(\"Estimated B\")\n",
    "print(np.round(pls2.coef_, 1))#3.计算B值 使用coef_属性计算B值 对应方程系数\n",
    "pls2.predict(X)#4 对数据X进行预测 可以与Y进行对比\n"
   ]
  },
  {
   "cell_type": "code",
   "execution_count": 19,
   "metadata": {
    "collapsed": false
   },
   "outputs": [
    {
     "data": {
      "text/plain": [
       "array([[ 12.99191204,   9.69847327,  10.43729544],\n",
       "       [ 11.19854231,  10.7012581 ,  10.34205222],\n",
       "       [  5.3577617 ,   4.37670438,   5.14891213],\n",
       "       ..., \n",
       "       [  6.787191  ,   7.67052644,   5.99125415],\n",
       "       [  3.36314466,   4.41601134,   7.56772785],\n",
       "       [  8.16989952,   8.60363434,   8.39949284]])"
      ]
     },
     "execution_count": 19,
     "metadata": {},
     "output_type": "execute_result"
    }
   ],
   "source": [
    "Y\n"
   ]
  },
  {
   "cell_type": "code",
   "execution_count": 25,
   "metadata": {
    "collapsed": false
   },
   "outputs": [
    {
     "name": "stdout",
     "output_type": "stream",
     "text": [
      "Estimated betas\n",
      "[[ 1. ]\n",
      " [ 2. ]\n",
      " [-0. ]\n",
      " [ 0. ]\n",
      " [ 0. ]\n",
      " [-0. ]\n",
      " [ 0. ]\n",
      " [ 0. ]\n",
      " [ 0.1]\n",
      " [-0. ]]\n"
     ]
    },
    {
     "data": {
      "text/plain": [
       "(1000, 1)"
      ]
     },
     "execution_count": 25,
     "metadata": {},
     "output_type": "execute_result"
    }
   ],
   "source": [
    "# PLS regression, with univariate response, a.k.a. PLS1 单变量的pls\n",
    "n = 1000\n",
    "p = 10\n",
    "X = np.random.normal(size=n * p).reshape((n, p)) #X数据集size=(1000,10)\n",
    "y = X[:, 0] + 2 * X[:, 1] + np.random.normal(size=n * 1) + 5 #Y数据集size=(1000,1)\n",
    "#1 建立实例\n",
    "pls1 = PLSRegression(n_components=3)\n",
    "pls1.fit(X, y)#2 加载模型\n",
    "# note that the number of components exceeds 1 (the dimension of y)\n",
    "print(\"Estimated betas\")\n",
    "print(np.round(pls1.coef_, 1))#3 计算B值\n",
    "pls1.predict(X)#4预测X值对应的值  可以与y进行对比\n",
    "pls1.predict(X).shape "
   ]
  },
  {
   "cell_type": "code",
   "execution_count": 26,
   "metadata": {
    "collapsed": false
   },
   "outputs": [
    {
     "data": {
      "text/plain": [
       "(1000,)"
      ]
     },
     "execution_count": 26,
     "metadata": {},
     "output_type": "execute_result"
    }
   ],
   "source": [
    "y.shape"
   ]
  },
  {
   "cell_type": "code",
   "execution_count": null,
   "metadata": {
    "collapsed": true
   },
   "outputs": [],
   "source": []
  }
 ],
 "metadata": {
  "anaconda-cloud": {},
  "celltoolbar": "Edit Metadata",
  "kernelspec": {
   "display_name": "Python [default]",
   "language": "python",
   "name": "python3"
  },
  "language_info": {
   "codemirror_mode": {
    "name": "ipython",
    "version": 3
   },
   "file_extension": ".py",
   "mimetype": "text/x-python",
   "name": "python",
   "nbconvert_exporter": "python",
   "pygments_lexer": "ipython3",
   "version": "3.5.3"
  }
 },
 "nbformat": 4,
 "nbformat_minor": 1
}
