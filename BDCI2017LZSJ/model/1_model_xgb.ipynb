{
 "cells": [
  {
   "cell_type": "code",
   "execution_count": 1,
   "metadata": {
    "collapsed": false
   },
   "outputs": [
    {
     "name": "stderr",
     "output_type": "stream",
     "text": [
      "D:\\Tools\\Anaconda3\\lib\\site-packages\\sklearn\\cross_validation.py:41: DeprecationWarning: This module was deprecated in version 0.18 in favor of the model_selection module into which all the refactored classes and functions are moved. Also note that the interface of the new CV iterators are different from that of this module. This module will be removed in 0.20.\n",
      "  \"This module will be removed in 0.20.\", DeprecationWarning)\n"
     ]
    }
   ],
   "source": [
    "import xgboost as xgb\n",
    "import pandas as pd\n",
    "import numpy as np\n",
    "from sklearn.model_selection import KFold\n",
    "from sklearn.model_selection import train_test_split\n"
   ]
  },
  {
   "cell_type": "markdown",
   "metadata": {
    "collapsed": true
   },
   "source": [
    "目前最好的参数：\n",
    "ESP = 40\n",
    "max_depth = 5\n"
   ]
  },
  {
   "cell_type": "code",
   "execution_count": 2,
   "metadata": {
    "collapsed": true
   },
   "outputs": [],
   "source": [
    "#seed = np.random.randint(99999)\n",
    "seed = 71\n",
    "\n",
    "np.random.seed(seed)\n",
    "valid_size = 0.2\n",
    "LOOP = 1\n",
    "ESR = 40\n",
    "# XGB param\n",
    "nround = 1500\n",
    "#nround = 10\n",
    "\n",
    "param = {'max_depth':5, \n",
    "         'eta':0.05,\n",
    "         'gamma ':0.1,\n",
    "         'colsample_bytree':0.8,\n",
    "         'subsample':0.8,\n",
    "         'silent':1,\n",
    "         'eval_metric':'auc',\n",
    "         'objective':'binary:logistic',\n",
    "        }\n",
    "\n",
    "nofeatrue = ['PROJECT_END_FIRST_DIFF','BREAKFAITH_FIRST_RGYEAR_DIFF','BREAKFAITH_FIRST_END_FIRST_DIFF',\n",
    "             'RIGHT_TYPE_RATE','RGYEAR_DIFF','PROJECT_INHOME_RATE','BREAKFAITH_FIRST_END_TIME',\n",
    "             'PROJECT_INHOME_CNT','PROJECT_END_TIME','BREAKFAITH_END_FIRST_TIME','PROJECT_TYPECODE_CNT']\n",
    "\n"
   ]
  },
  {
   "cell_type": "code",
   "execution_count": 24,
   "metadata": {
    "collapsed": true
   },
   "outputs": [],
   "source": [
    "df_all = pd.read_csv('../data/alldata/df_data12.csv')"
   ]
  },
  {
   "cell_type": "code",
   "execution_count": 4,
   "metadata": {
    "collapsed": false,
    "scrolled": true
   },
   "outputs": [
    {
     "data": {
      "text/plain": [
       "Index(['EID', 'RGYEAR', 'HY', 'ZCZB', 'ETYPE', 'MPNUM', 'INUM', 'FINZB',\n",
       "       'FSTINUM', 'TZINUM', 'HY_ZCZB_AVG', 'HY_ZCZB_AVG_RATE', 'MPNUM_HY_AVG',\n",
       "       'INUM_HY_AVG', 'FINZB_HY_AVG', 'FSTINUM_HY_AVG', 'TZINUM_HY_AVG',\n",
       "       'ETYPE_ZCZB_AVG', 'ETYPE_ZCZB_AVG_RATE', 'RGYEAR_DIFF', 'ZCZB_RATE',\n",
       "       'ETYPE_RATE', 'MPNUM_HY_AVG_RATE', 'INUM_HY_AVG_RATE',\n",
       "       'FINZB_HY_AVG_RATE', 'FSTINUM_HY_AVG_RATE', 'TZINUM_HY_AVG_RATE',\n",
       "       'MPNUM_HY_RATE', 'INUM_HY_RATE', 'FINZB_HY_RATE', 'FSTINUM_HY_RATE',\n",
       "       'TZINUM_HY_RATE', 'ALTERNO_SUM', 'ALTERNO_CNT', 'ALTERNO_CNT_RATE',\n",
       "       'FIRST_CHANGE_TIME', 'END_CHANGE_TIME', 'IS_CHANGE',\n",
       "       'CHANGE_FIRST_ALTERNO', 'CHANGE_END_ALTERNO', 'CHANGE_ALTERNO_MUCNID',\n",
       "       'FIRST_CHANGE_TIME_DIFF', 'END_CHANGE_TIME_DIFF',\n",
       "       'END_FIRST_CHANGE_TIME_DIFF', 'CHANGE_PRE_CNT', 'CHANGE_CNT_RATE',\n",
       "       'CHANGE_HY_CNT_AVG', 'CHANGE_HY_CNT_ALL_AVG'],\n",
       "      dtype='object')"
      ]
     },
     "execution_count": 4,
     "metadata": {},
     "output_type": "execute_result"
    }
   ],
   "source": [
    "df_all.columns"
   ]
  },
  {
   "cell_type": "code",
   "execution_count": 25,
   "metadata": {
    "collapsed": true
   },
   "outputs": [],
   "source": [
    "timeType = ['RGYEAR','FIRST_CHANGE_TIME','END_CHANGE_TIME','BRANCH_FIRST_YEAR','BRANCH_END_YEAR',\n",
    "            'BRANCH_FIRST_CLOSE_YEAR','TZ_QY_FIRST_TIME','TZ_QY_END_TIME','TZ_FIRST_CLOSE_TIME',\n",
    "           'RIGHT_FIRST_ASK_TIME', 'RIGHT_FIRST_FB_TIME','RIGHT_END_ASK_TIME', 'RIGHT_END_FB_TIME',\n",
    "           'PROJECT_FIRST_TIME', 'PROJECT_END_TIME', 'LAWSUIT_FIRST_TIME', 'LAWSUIT_END_TIME',            \n",
    "            'BREAKFAITH_FIRST_FIRST_TIME', 'BREAKFAITH_FIRST_END_TIME','BREAKFAITH_END_FIRST_TIME',\n",
    "           'RECRUIT_FIRST_TIME', 'RECRUIT_END_TIME']\n",
    "\n",
    "timeType = ['RGYEAR','FIRST_CHANGE_TIME','END_CHANGE_TIME',]\n",
    "\n",
    "def time2int(x):\n",
    "    '''\n",
    "    将时间转化为整数，加入训练\n",
    "    2018-01 - x\n",
    "    '''\n",
    "    y = int(x[:x.find('-')])\n",
    "    m = int(x[x.find('-')+1:])\n",
    "    s = 12*(2018-y) + (1-m)\n",
    "    \n",
    "    return s\n",
    "\n",
    "for t in timeType:\n",
    "    df_all[t] = df_all[t].apply(time2int)\n",
    "\n"
   ]
  },
  {
   "cell_type": "code",
   "execution_count": null,
   "metadata": {
    "collapsed": true
   },
   "outputs": [],
   "source": []
  },
  {
   "cell_type": "code",
   "execution_count": 28,
   "metadata": {
    "collapsed": false
   },
   "outputs": [
    {
     "data": {
      "text/plain": [
       "93"
      ]
     },
     "execution_count": 28,
     "metadata": {},
     "output_type": "execute_result"
    }
   ],
   "source": [
    "\n",
    "features = df_all.columns[1:]\n",
    "\n",
    "def removeNOFeatrue(features,nofeatrue):\n",
    "    features = list(features)\n",
    "    for f in nofeatrue:\n",
    "        features.remove(f)\n",
    "    return features\n",
    "\n",
    "# features = removeNOFeatrue(features,nofeatrue)\n",
    "\n",
    "label = 'TARGET'\n",
    "\n",
    "len(features)"
   ]
  },
  {
   "cell_type": "code",
   "execution_count": 29,
   "metadata": {
    "collapsed": true
   },
   "outputs": [],
   "source": [
    "# features = list(features)\n",
    "# out = []\n",
    "\n",
    "# for f in features:\n",
    "#     if f.find('OUT')>=0:\n",
    "#         out.append(f)\n",
    "#         features.remove(f)\n",
    "\n",
    "# len(features)    "
   ]
  },
  {
   "cell_type": "code",
   "execution_count": null,
   "metadata": {
    "collapsed": true
   },
   "outputs": [],
   "source": []
  },
  {
   "cell_type": "code",
   "execution_count": 30,
   "metadata": {
    "collapsed": true
   },
   "outputs": [],
   "source": [
    "def split_build_valid(df_train,k=5):\n",
    "    '''\n",
    "    k-fold交叉验证,默认k=10\n",
    "    df_train:训练数据\n",
    "    '''\n",
    "\n",
    "    #added some parameters\n",
    "    kf = KFold(n_splits = k, shuffle = True, random_state = 400000)    \n",
    "    result1 = next(kf.split(df_train[df_train[label]==1]), None)\n",
    "    result0 = next(kf.split(df_train[df_train[label]==0]), None)\n",
    "    \n",
    "#     print (result)\n",
    "#     (array([0, 2, 3, 5, 6, 7, 8, 9]), array([1, 4]))\n",
    "    train_list = []\n",
    "    train_list.extend(result1[0])\n",
    "    train_list.extend(result0[0])\n",
    "    np.random.shuffle(train_list)\n",
    "    \n",
    "    vali_list = []\n",
    "    vali_list.extend(result1[1])\n",
    "    vali_list.extend(result0[1])\n",
    "    np.random.shuffle(vali_list)\n",
    "    \n",
    "    \n",
    "#     dtrain = df_train.iloc[train_list]\n",
    "#     dvali =  df_train.iloc[vali_list]\n",
    "    \n",
    "    dbuild = xgb.DMatrix(df_train.iloc[train_list][features],label=df_train.iloc[train_list][label])\n",
    "    dvalid = xgb.DMatrix(df_train.iloc[vali_list][features],label=df_train.iloc[vali_list][label])\n",
    "    watchlist = [(dbuild, 'build'),(dvalid, 'valid')]\n",
    "    \n",
    "    return dbuild, dvalid, watchlist\n",
    "\n",
    "def split_train_valid(df_train,test_size=0.2):\n",
    "    '''\n",
    "    k-fold交叉验证,默认k=10\n",
    "    df_train:训练数据\n",
    "    '''\n",
    "    X_train, X_vali, y_train, y_vali = train_test_split(df_train[features], df_train[label], test_size=test_size, random_state=40000)\n",
    "    #added some parameters\n",
    "    \n",
    "#     dtrain = df_train.iloc[train_list]\n",
    "#     dvali =  df_train.iloc[vali_list]\n",
    "    \n",
    "    dtrain = xgb.DMatrix(X_train,label=y_train)\n",
    "    dvalid = xgb.DMatrix(X_vali,label=y_vali)\n",
    "    watchlist = [(dtrain, 'train'),(dvalid, 'valid')]\n",
    "    \n",
    "    return dtrain, dvalid, watchlist"
   ]
  },
  {
   "cell_type": "code",
   "execution_count": 31,
   "metadata": {
    "collapsed": true,
    "scrolled": true
   },
   "outputs": [],
   "source": [
    "def xtrain_and_test(df_all):\n",
    "    '''\n",
    "    得到训练数据和测试数据\n",
    "    '''\n",
    "    df_label = pd.read_csv('../data/public/train.csv')\n",
    "    df_test_label = pd.read_csv('../data/public/evaluation_public.csv')\n",
    "#     print(len(df_label))\n",
    "#     print(len(df_test_label))\n",
    "    df_train = df_all[df_all['EID'].isin(df_label['EID'])]\n",
    "    df_test = df_all[df_all['EID'].isin(df_test_label['EID'])]\n",
    "    \n",
    "    df_train = pd.merge(df_train,df_label,how='left',on=['EID'])\n",
    "    \n",
    "    return df_train,df_test\n",
    "\n",
    "df_train,df_test = xtrain_and_test(df_all)"
   ]
  },
  {
   "cell_type": "code",
   "execution_count": 32,
   "metadata": {
    "collapsed": false
   },
   "outputs": [
    {
     "name": "stdout",
     "output_type": "stream",
     "text": [
      "29092\n",
      "123914\n"
     ]
    }
   ],
   "source": [
    "print(len(df_train[df_train[label] == 1][label]))\n",
    "print(len(df_train[df_train[label] == 0][label]))"
   ]
  },
  {
   "cell_type": "code",
   "execution_count": null,
   "metadata": {
    "collapsed": true
   },
   "outputs": [],
   "source": []
  },
  {
   "cell_type": "code",
   "execution_count": 33,
   "metadata": {
    "collapsed": false
   },
   "outputs": [
    {
     "name": "stdout",
     "output_type": "stream",
     "text": [
      "LOOP 0\n",
      "[0]\ttrain-auc:0.656928\tvalid-auc:0.64586\n",
      "Multiple eval metrics have been passed: 'valid-auc' will be used for early stopping.\n",
      "\n",
      "Will train until valid-auc hasn't improved in 40 rounds.\n",
      "[5]\ttrain-auc:0.669052\tvalid-auc:0.655491\n",
      "[10]\ttrain-auc:0.673042\tvalid-auc:0.660617\n",
      "[15]\ttrain-auc:0.675565\tvalid-auc:0.662708\n",
      "[20]\ttrain-auc:0.677344\tvalid-auc:0.663971\n",
      "[25]\ttrain-auc:0.679229\tvalid-auc:0.665516\n",
      "[30]\ttrain-auc:0.681007\tvalid-auc:0.667065\n",
      "[35]\ttrain-auc:0.683069\tvalid-auc:0.668343\n",
      "[40]\ttrain-auc:0.684947\tvalid-auc:0.669765\n",
      "[45]\ttrain-auc:0.686442\tvalid-auc:0.670656\n",
      "[50]\ttrain-auc:0.687919\tvalid-auc:0.671605\n",
      "[55]\ttrain-auc:0.689281\tvalid-auc:0.672426\n",
      "[60]\ttrain-auc:0.69058\tvalid-auc:0.673062\n",
      "[65]\ttrain-auc:0.691717\tvalid-auc:0.673558\n",
      "[70]\ttrain-auc:0.693192\tvalid-auc:0.674288\n",
      "[75]\ttrain-auc:0.694432\tvalid-auc:0.674869\n",
      "[80]\ttrain-auc:0.69537\tvalid-auc:0.674958\n",
      "[85]\ttrain-auc:0.696433\tvalid-auc:0.675431\n",
      "[90]\ttrain-auc:0.697534\tvalid-auc:0.675822\n",
      "[95]\ttrain-auc:0.698577\tvalid-auc:0.676435\n",
      "[100]\ttrain-auc:0.699461\tvalid-auc:0.676766\n",
      "[105]\ttrain-auc:0.700379\tvalid-auc:0.677232\n",
      "[110]\ttrain-auc:0.701176\tvalid-auc:0.677561\n",
      "[115]\ttrain-auc:0.701946\tvalid-auc:0.677736\n",
      "[120]\ttrain-auc:0.702866\tvalid-auc:0.678011\n",
      "[125]\ttrain-auc:0.70359\tvalid-auc:0.678239\n",
      "[130]\ttrain-auc:0.704391\tvalid-auc:0.678446\n",
      "[135]\ttrain-auc:0.704925\tvalid-auc:0.678563\n",
      "[140]\ttrain-auc:0.705745\tvalid-auc:0.678753\n",
      "[145]\ttrain-auc:0.706425\tvalid-auc:0.678929\n",
      "[150]\ttrain-auc:0.707022\tvalid-auc:0.67896\n",
      "[155]\ttrain-auc:0.707714\tvalid-auc:0.679099\n",
      "[160]\ttrain-auc:0.708529\tvalid-auc:0.679268\n",
      "[165]\ttrain-auc:0.709422\tvalid-auc:0.679564\n",
      "[170]\ttrain-auc:0.710004\tvalid-auc:0.679716\n",
      "[175]\ttrain-auc:0.710817\tvalid-auc:0.679711\n",
      "[180]\ttrain-auc:0.7116\tvalid-auc:0.67987\n",
      "[185]\ttrain-auc:0.712212\tvalid-auc:0.679898\n",
      "[190]\ttrain-auc:0.712927\tvalid-auc:0.680225\n",
      "[195]\ttrain-auc:0.713614\tvalid-auc:0.680323\n",
      "[200]\ttrain-auc:0.714048\tvalid-auc:0.680366\n",
      "[205]\ttrain-auc:0.714602\tvalid-auc:0.680393\n",
      "[210]\ttrain-auc:0.71548\tvalid-auc:0.680478\n",
      "[215]\ttrain-auc:0.715958\tvalid-auc:0.680495\n",
      "[220]\ttrain-auc:0.71654\tvalid-auc:0.680516\n",
      "[225]\ttrain-auc:0.717305\tvalid-auc:0.680618\n",
      "[230]\ttrain-auc:0.71769\tvalid-auc:0.680557\n",
      "[235]\ttrain-auc:0.718382\tvalid-auc:0.680615\n",
      "[240]\ttrain-auc:0.718968\tvalid-auc:0.680725\n",
      "[245]\ttrain-auc:0.719262\tvalid-auc:0.680759\n",
      "[250]\ttrain-auc:0.719745\tvalid-auc:0.680708\n",
      "[255]\ttrain-auc:0.720212\tvalid-auc:0.680723\n",
      "[260]\ttrain-auc:0.720806\tvalid-auc:0.680927\n",
      "[265]\ttrain-auc:0.721338\tvalid-auc:0.680904\n",
      "[270]\ttrain-auc:0.721839\tvalid-auc:0.68091\n",
      "[275]\ttrain-auc:0.722404\tvalid-auc:0.681001\n",
      "[280]\ttrain-auc:0.723002\tvalid-auc:0.681038\n",
      "[285]\ttrain-auc:0.723558\tvalid-auc:0.68109\n",
      "[290]\ttrain-auc:0.724123\tvalid-auc:0.681121\n",
      "[295]\ttrain-auc:0.724624\tvalid-auc:0.681199\n",
      "[300]\ttrain-auc:0.725076\tvalid-auc:0.681186\n",
      "[305]\ttrain-auc:0.725641\tvalid-auc:0.681116\n",
      "[310]\ttrain-auc:0.726106\tvalid-auc:0.681213\n",
      "[315]\ttrain-auc:0.72638\tvalid-auc:0.681276\n",
      "[320]\ttrain-auc:0.726787\tvalid-auc:0.68129\n",
      "[325]\ttrain-auc:0.727356\tvalid-auc:0.681386\n",
      "[330]\ttrain-auc:0.727913\tvalid-auc:0.681334\n",
      "[335]\ttrain-auc:0.728577\tvalid-auc:0.681371\n",
      "[340]\ttrain-auc:0.729036\tvalid-auc:0.68136\n",
      "[345]\ttrain-auc:0.729515\tvalid-auc:0.681409\n",
      "[350]\ttrain-auc:0.730008\tvalid-auc:0.681446\n",
      "[355]\ttrain-auc:0.730729\tvalid-auc:0.681532\n",
      "[360]\ttrain-auc:0.731271\tvalid-auc:0.681489\n",
      "[365]\ttrain-auc:0.731825\tvalid-auc:0.681626\n",
      "[370]\ttrain-auc:0.732352\tvalid-auc:0.681755\n",
      "[375]\ttrain-auc:0.732744\tvalid-auc:0.681797\n",
      "[380]\ttrain-auc:0.733392\tvalid-auc:0.681917\n",
      "[385]\ttrain-auc:0.734026\tvalid-auc:0.681839\n",
      "[390]\ttrain-auc:0.73453\tvalid-auc:0.681903\n",
      "[395]\ttrain-auc:0.735062\tvalid-auc:0.681956\n",
      "[400]\ttrain-auc:0.73559\tvalid-auc:0.681967\n",
      "[405]\ttrain-auc:0.736098\tvalid-auc:0.682023\n",
      "[410]\ttrain-auc:0.73654\tvalid-auc:0.681969\n",
      "[415]\ttrain-auc:0.737021\tvalid-auc:0.682096\n",
      "[420]\ttrain-auc:0.737545\tvalid-auc:0.682149\n",
      "[425]\ttrain-auc:0.737875\tvalid-auc:0.682108\n",
      "[430]\ttrain-auc:0.738397\tvalid-auc:0.682143\n",
      "[435]\ttrain-auc:0.738829\tvalid-auc:0.682161\n",
      "[440]\ttrain-auc:0.739193\tvalid-auc:0.682111\n",
      "[445]\ttrain-auc:0.739608\tvalid-auc:0.682214\n",
      "[450]\ttrain-auc:0.74011\tvalid-auc:0.68224\n",
      "[455]\ttrain-auc:0.740349\tvalid-auc:0.682166\n",
      "[460]\ttrain-auc:0.740549\tvalid-auc:0.682199\n",
      "[465]\ttrain-auc:0.740952\tvalid-auc:0.682183\n",
      "[470]\ttrain-auc:0.74139\tvalid-auc:0.682238\n",
      "[475]\ttrain-auc:0.741831\tvalid-auc:0.682209\n",
      "[480]\ttrain-auc:0.742314\tvalid-auc:0.682043\n",
      "[485]\ttrain-auc:0.742619\tvalid-auc:0.682033\n",
      "[490]\ttrain-auc:0.743015\tvalid-auc:0.682047\n",
      "[495]\ttrain-auc:0.743494\tvalid-auc:0.682168\n",
      "[500]\ttrain-auc:0.743901\tvalid-auc:0.682167\n",
      "[505]\ttrain-auc:0.744404\tvalid-auc:0.68219\n",
      "[510]\ttrain-auc:0.744765\tvalid-auc:0.682144\n",
      "Stopping. Best iteration:\n",
      "[472]\ttrain-auc:0.74162\tvalid-auc:0.682258\n",
      "\n",
      "Valid Mean:----------------------> 0.188424\n",
      "test\n"
     ]
    }
   ],
   "source": [
    "models = []\n",
    "for i in range(LOOP):\n",
    "    print('LOOP',i)\n",
    "    dbuild, dvalid, watchlist = split_train_valid(df_train,test_size=0.2)\n",
    "            \n",
    "    model = xgb.train(param, dbuild, nround, watchlist,early_stopping_rounds=ESR,verbose_eval=5)\n",
    "    models.append(model)\n",
    "    model.save_model('../saveModel/model1234'+ str(i) + '.model')\n",
    "    # VALID\n",
    "    valid_yhat = model.predict(dvalid,ntree_limit=model.best_iteration)\n",
    "    print('Valid Mean:---------------------->', np.mean(valid_yhat))\n",
    "    del dbuild, dvalid, watchlist\n",
    "\n",
    "#==============================================================================\n",
    "print('test')\n",
    "#==============================================================================\n",
    "\n",
    "dtest  = xgb.DMatrix(df_test[features])\n",
    "proba_test = pd.DataFrame()\n",
    "proba_test['EID'] = df_test['EID']\n",
    "proba_test['FORTARGET'] = [0 for i in range(len(df_test))]\n",
    "proba_test['PROB'] = [0 for i in range(len(df_test))]\n",
    "for model in models:\n",
    "    proba_test['PROB'] += model.predict(dtest)\n",
    "proba_test['PROB'] /= LOOP\n",
    "\n",
    "\n"
   ]
  },
  {
   "cell_type": "code",
   "execution_count": 34,
   "metadata": {
    "collapsed": false,
    "scrolled": true
   },
   "outputs": [
    {
     "data": {
      "text/plain": [
       "[('CHANGE_PRE_CNT', 678),\n",
       " ('ZCZB_RATE', 485),\n",
       " ('ZCZB_RATE_ETYPE_RATE', 484),\n",
       " ('CHANGE_PRE_CNT_ZCZB_RATE', 434),\n",
       " ('FSTINUM_HY_RATE_ZCZB', 416),\n",
       " ('INUM_HY_RATE', 363),\n",
       " ('MPNUM_HY_RATE_FIRST_CHANGE_TIME_DIFF', 353),\n",
       " ('MPNUM_HY_RATE', 349),\n",
       " ('ETYPE_RATE', 345),\n",
       " ('FSTINUM_HY_RATE', 326),\n",
       " ('END_CHANGE_TIME_MPNUM', 319),\n",
       " ('INUM_ETYPE_ZCZB_AVG', 294),\n",
       " ('FIRST_CHANGE_TIME_DIFF', 290),\n",
       " ('ZCZB', 288),\n",
       " ('ALTERNO_CNT_FSTINUM', 287),\n",
       " ('FIRST_CHANGE_TIME_CHANGE_END_ALTERNO', 287),\n",
       " ('FIRST_CHANGE_TIME_DIFF_END_CHANGE_TIME_DIFF', 284),\n",
       " ('INUM_HY_RATE_FSTINUM_HY_RATE', 273),\n",
       " ('MPNUM_HY_AVG_RGYEAR', 266),\n",
       " ('ALTERNO_CNT', 260),\n",
       " ('ETYPE_RATE_INUM_HY_RATE', 256),\n",
       " ('END_CHANGE_TIME_DIFF_ALTERNO_CNT', 248),\n",
       " ('END_CHANGE_TIME_DIFF', 247),\n",
       " ('CHANGE_ALTERNO_MUCNID_INUM', 244),\n",
       " ('END_CHANGE_TIME', 243),\n",
       " ('FSTINUM_HY_AVG_ETYPE', 232),\n",
       " ('INUM_HY_AVG_CHANGE_FIRST_ALTERNO', 220),\n",
       " ('FIRST_CHANGE_TIME', 216),\n",
       " ('MPNUM_ALTERNO_SUM', 207),\n",
       " ('FSTINUM_END_CHANGE_TIME', 202),\n",
       " ('ALTERNO_SUM', 198),\n",
       " ('HY_END_FIRST_CHANGE_TIME_DIFF', 170),\n",
       " ('FSTINUM', 169),\n",
       " ('ALTERNO_SUM_FIRST_CHANGE_TIME', 156),\n",
       " ('CHANGE_FIRST_ALTERNO_CHANGE_ALTERNO_MUCNID', 155),\n",
       " ('HY', 150),\n",
       " ('CHANGE_END_ALTERNO', 148),\n",
       " ('MPNUM', 144),\n",
       " ('CHANGE_HY_CNT_AVG', 142),\n",
       " ('END_FIRST_CHANGE_TIME_DIFF', 129),\n",
       " ('FINZB_HY_RATE', 117),\n",
       " ('FINZB_HY_RATE_FINZB', 113),\n",
       " ('FSTINUM_HY_AVG', 102),\n",
       " ('END_FIRST_CHANGE_TIME_DIFF_FINZB_HY_RATE', 95),\n",
       " ('RGYEAR', 91),\n",
       " ('ETYPE', 88),\n",
       " ('CHANGE_FIRST_ALTERNO', 85),\n",
       " ('FINZB', 83),\n",
       " ('ALTERNO_CNT_RATE_IS_CHANGE', 80),\n",
       " ('INUM', 77),\n",
       " ('CHANGE_ALTERNO_MUCNID', 75),\n",
       " ('FSTINUM_HY_AVG_RATE_RGYEAR_DIFF', 72),\n",
       " ('INUM_HY_AVG', 70),\n",
       " ('TZINUM_HY_AVG', 69),\n",
       " ('HY_ZCZB_AVG', 66),\n",
       " ('FINZB_HY_AVG_HY_ZCZB_AVG', 65),\n",
       " ('FINZB_HY_AVG', 65),\n",
       " ('CHANGE_CNT_RATE', 49),\n",
       " ('IS_CHANGE_CHANGE_CNT_RATE', 46),\n",
       " ('FINZB_CHANGE_HY_CNT_AVG', 43),\n",
       " ('CHANGE_END_ALTERNO_HY', 40),\n",
       " ('HY_ZCZB_AVG_ALTERNO_CNT_RATE', 40),\n",
       " ('TZINUM_HY_AVG_RATE_ETYPE_ZCZB_AVG_RATE', 37),\n",
       " ('CHANGE_HY_CNT_AVG_FSTINUM_HY_AVG', 36),\n",
       " ('RGYEAR_TZINUM_HY_AVG', 36),\n",
       " ('ALTERNO_CNT_RATE', 34),\n",
       " ('CHANGE_HY_CNT_ALL_AVG', 34),\n",
       " ('ETYPE_ZCZB_AVG', 33),\n",
       " ('TZINUM_HY_RATE_TZINUM', 32),\n",
       " ('IS_CHANGE', 21),\n",
       " ('INUM_HY_AVG_RATE', 18),\n",
       " ('MPNUM_HY_AVG', 17),\n",
       " ('ETYPE_ZCZB_AVG_FINZB_HY_AVG', 17),\n",
       " ('TZINUM_HY_RATE', 17),\n",
       " ('FSTINUM_HY_AVG_RATE', 16),\n",
       " ('RGYEAR_DIFF', 15),\n",
       " ('ETYPE_ZCZB_AVG_RATE', 15),\n",
       " ('ZCZB_MPNUM_HY_RATE', 15),\n",
       " ('CHANGE_CNT_RATE_CHANGE_HY_CNT_ALL_AVG', 15),\n",
       " ('TZINUM_HY_AVG_INUM_HY_AVG', 14),\n",
       " ('TZINUM_HY_ZCZB_AVG_RATE', 10),\n",
       " ('TZINUM_HY_AVG_RATE', 9),\n",
       " ('RGYEAR_DIFF_TZINUM_HY_AVG_RATE', 9),\n",
       " ('HY_ZCZB_AVG_RATE', 9),\n",
       " ('FINZB_HY_AVG_RATE', 9),\n",
       " ('FINZB_HY_AVG_RATE_TZINUM_HY_RATE', 8),\n",
       " ('INUM_HY_AVG_RATE_FSTINUM_HY_AVG_RATE', 7),\n",
       " ('ETYPE_ZCZB_AVG_RATE_FINZB_HY_AVG_RATE', 7),\n",
       " ('MPNUM_HY_AVG_RATE_INUM_HY_AVG_RATE', 3),\n",
       " ('MPNUM_HY_AVG_RATE', 2),\n",
       " ('CHANGE_HY_CNT_ALL_AVG_MPNUM_HY_AVG_RATE', 1),\n",
       " ('TZINUM', 1)]"
      ]
     },
     "execution_count": 34,
     "metadata": {},
     "output_type": "execute_result"
    }
   ],
   "source": [
    "import operator\n",
    "importance = model.get_fscore()\n",
    "importance = sorted(importance.items(), key=operator.itemgetter(1),reverse=True)\n",
    "importance"
   ]
  },
  {
   "cell_type": "code",
   "execution_count": 14,
   "metadata": {
    "collapsed": true
   },
   "outputs": [],
   "source": [
    "xfeature = [f for (f,v) in importance]\n",
    "\n"
   ]
  },
  {
   "cell_type": "code",
   "execution_count": 41,
   "metadata": {
    "collapsed": true,
    "scrolled": true
   },
   "outputs": [],
   "source": [
    "proba_test.loc[proba_test['PROB']>=0.45,'FORTARGET'] = 1"
   ]
  },
  {
   "cell_type": "code",
   "execution_count": 42,
   "metadata": {
    "collapsed": true
   },
   "outputs": [],
   "source": [
    "proba_test.to_csv('../result1/submussion_123456789_ESP40_5__.csv',index=False,index_label=False)"
   ]
  },
  {
   "cell_type": "code",
   "execution_count": 43,
   "metadata": {
    "collapsed": false
   },
   "outputs": [
    {
     "name": "stdout",
     "output_type": "stream",
     "text": [
      "3902\n",
      "98222\n"
     ]
    }
   ],
   "source": [
    "print(len(proba_test[proba_test['FORTARGET']==1]))\n",
    "print(len(proba_test[proba_test['FORTARGET']==0]))\n"
   ]
  },
  {
   "cell_type": "code",
   "execution_count": 18,
   "metadata": {
    "collapsed": true
   },
   "outputs": [],
   "source": [
    "# df_label = pd.read_csv('../data/public/train.csv')"
   ]
  },
  {
   "cell_type": "code",
   "execution_count": 19,
   "metadata": {
    "collapsed": false
   },
   "outputs": [
    {
     "name": "stdout",
     "output_type": "stream",
     "text": [
      "29092\n",
      "123914\n"
     ]
    }
   ],
   "source": [
    "print(len(df_label[df_label['TARGET']==1]))\n",
    "print(len(df_label[df_label['TARGET']==0]))"
   ]
  },
  {
   "cell_type": "code",
   "execution_count": null,
   "metadata": {
    "collapsed": true
   },
   "outputs": [],
   "source": []
  }
 ],
 "metadata": {
  "anaconda-cloud": {},
  "kernelspec": {
   "display_name": "Python [default]",
   "language": "python",
   "name": "python3"
  },
  "language_info": {
   "codemirror_mode": {
    "name": "ipython",
    "version": 3
   },
   "file_extension": ".py",
   "mimetype": "text/x-python",
   "name": "python",
   "nbconvert_exporter": "python",
   "pygments_lexer": "ipython3",
   "version": "3.5.3"
  }
 },
 "nbformat": 4,
 "nbformat_minor": 2
}
