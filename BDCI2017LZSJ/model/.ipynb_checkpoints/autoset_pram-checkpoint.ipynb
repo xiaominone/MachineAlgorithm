{
 "cells": [
  {
   "cell_type": "markdown",
   "metadata": {},
   "source": [
    "循环找到最优的参数，\n",
    "\n",
    "\n",
    "valid_size = 0.20\n",
    "LOOP = 1\n",
    "nround = 2000\n",
    "\n",
    "主要的设置参数。\n",
    "ESRS = 40 提前停止的轮数[5,8,13,15,20,30,40,50]\n",
    "max_depths = [3,4,5,6,7,8,9,10]\n",
    "etas = [0.01,0.02,0.05,0.1,0.15,0.2,0.25,0.3]\n",
    "\n",
    "\n",
    "\n",
    "param = {'max_depth':5, \n",
    "         'eta':0.05,\n",
    "         'gamma ':0.1,\n",
    "         'colsample_bytree':0.8,\n",
    "         'subsample':0.8,\n",
    "         'silent':1,\n",
    "         'eval_metric':'auc',\n",
    "         'objective':'binary:logistic',\n",
    "        }\n",
    "\n",
    "nofeatrue = ['PROJECT_END_FIRST_DIFF','BREAKFAITH_FIRST_RGYEAR_DIFF','BREAKFAITH_FIRST_END_FIRST_DIFF',\n",
    "             'RIGHT_TYPE_RATE','RGYEAR_DIFF','PROJECT_INHOME_RATE','BREAKFAITH_FIRST_END_TIME',\n",
    "             'PROJECT_INHOME_CNT','PROJECT_END_TIME','BREAKFAITH_END_FIRST_TIME','PROJECT_TYPECODE_CNT']\n",
    "\n",
    "\n",
    "\n"
   ]
  }
 ],
 "metadata": {
  "kernelspec": {
   "display_name": "Python 3",
   "language": "python",
   "name": "python3"
  },
  "language_info": {
   "codemirror_mode": {
    "name": "ipython",
    "version": 3
   },
   "file_extension": ".py",
   "mimetype": "text/x-python",
   "name": "python",
   "nbconvert_exporter": "python",
   "pygments_lexer": "ipython3",
   "version": "3.6.1"
  }
 },
 "nbformat": 4,
 "nbformat_minor": 2
}
