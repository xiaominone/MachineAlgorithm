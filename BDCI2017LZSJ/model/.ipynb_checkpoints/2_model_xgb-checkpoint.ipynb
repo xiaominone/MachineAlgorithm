{
 "cells": [
  {
   "cell_type": "code",
   "execution_count": 1,
   "metadata": {
    "collapsed": false
   },
   "outputs": [
    {
     "name": "stderr",
     "output_type": "stream",
     "text": [
      "/home/xiaoran/anaconda3/lib/python3.5/site-packages/sklearn/cross_validation.py:44: DeprecationWarning: This module was deprecated in version 0.18 in favor of the model_selection module into which all the refactored classes and functions are moved. Also note that the interface of the new CV iterators are different from that of this module. This module will be removed in 0.20.\n",
      "  \"This module will be removed in 0.20.\", DeprecationWarning)\n"
     ]
    }
   ],
   "source": [
    "import xgboost as xgb\n",
    "import pandas as pd\n",
    "import numpy as np\n",
    "from sklearn.model_selection import KFold\n"
   ]
  },
  {
   "cell_type": "code",
   "execution_count": 15,
   "metadata": {
    "collapsed": true
   },
   "outputs": [],
   "source": [
    "#seed = np.random.randint(99999)\n",
    "seed = 71\n",
    "\n",
    "np.random.seed(seed)\n",
    "valid_size = 0.10\n",
    "LOOP = 3\n",
    "ESR = 50\n",
    "# XGB param\n",
    "nround = 1000\n",
    "#nround = 10\n",
    "\n",
    "param = {'max_depth':10, \n",
    "         'eta':0.02,\n",
    "         'colsample_bytree':0.4,\n",
    "         'subsample':0.75,\n",
    "         'silent':1,\n",
    "         'nthread':27,\n",
    "         'eval_metric':'auc',\n",
    "         'objective':'binary:logistic',\n",
    "        }"
   ]
  },
  {
   "cell_type": "code",
   "execution_count": 16,
   "metadata": {
    "collapsed": true
   },
   "outputs": [],
   "source": [
    "df_all = pd.read_csv('../data/alldata/df_data14.csv')"
   ]
  },
  {
   "cell_type": "code",
   "execution_count": 17,
   "metadata": {
    "collapsed": false
   },
   "outputs": [
    {
     "name": "stdout",
     "output_type": "stream",
     "text": [
      "255130\n"
     ]
    },
    {
     "data": {
      "text/plain": [
       "Index(['EID', 'RGYEAR', 'RGYEAR_DIFF', 'ZCZB', 'HY', 'ETYPE', 'ZCZB_RATE',\n",
       "       'ETYPE_RATE', 'MPNUM', 'INUM', 'FINZB', 'FSTINUM', 'TZINUM', 'TZ_CNT',\n",
       "       'TZ_INHOME_CNT', 'TZ_OUTHOME_CNT', 'TZ_INHOME_RATE', 'TZ_OUTHOME_RATE',\n",
       "       'TZ_CLOSE_CNT', 'TZ_OPEN_CNT', 'TZ_CLOSE_RATE', 'TZ_OPEN_RATE',\n",
       "       'TZ_BTBL_AVG', 'TZ_QY_FIRST_TIME', 'TZ_QY_END_TIME',\n",
       "       'TZ_FIRST_CLOSE_TIME', 'TZ_QY_FIRST_RGYEAR_DIFF',\n",
       "       'TZ_QY_END_RGYEAR_DIFF', 'TZ_FIRST_CLOSE_TIME_DIFF',\n",
       "       'TZ_FIRST_CLOSE_RGYEAR_TIME_DIFF'],\n",
       "      dtype='object')"
      ]
     },
     "execution_count": 17,
     "metadata": {},
     "output_type": "execute_result"
    }
   ],
   "source": [
    "print(len(df_all))\n",
    "df_all.columns\n"
   ]
  },
  {
   "cell_type": "code",
   "execution_count": 18,
   "metadata": {
    "collapsed": false
   },
   "outputs": [
    {
     "data": {
      "text/plain": [
       "25"
      ]
     },
     "execution_count": 18,
     "metadata": {},
     "output_type": "execute_result"
    }
   ],
   "source": [
    "features = [ 'RGYEAR_DIFF', 'ZCZB', 'HY', 'ETYPE', 'ZCZB_RATE',\n",
    "            'ETYPE_RATE', 'MPNUM', 'INUM', 'FINZB', 'FSTINUM', 'TZINUM',\n",
    "            'TZ_CNT','TZ_INHOME_CNT', 'TZ_OUTHOME_CNT', 'TZ_INHOME_RATE', 'TZ_OUTHOME_RATE',\n",
    "       'TZ_CLOSE_CNT', 'TZ_OPEN_CNT', 'TZ_CLOSE_RATE', 'TZ_OPEN_RATE',\n",
    "       'TZ_BTBL_AVG','TZ_QY_FIRST_RGYEAR_DIFF',\n",
    "       'TZ_QY_END_RGYEAR_DIFF', 'TZ_FIRST_CLOSE_TIME_DIFF',\n",
    "       'TZ_FIRST_CLOSE_RGYEAR_TIME_DIFF']\n",
    "\n",
    "label = 'TARGET'\n",
    "\n",
    "len(features)\n",
    "\n"
   ]
  },
  {
   "cell_type": "code",
   "execution_count": 19,
   "metadata": {
    "collapsed": true
   },
   "outputs": [],
   "source": [
    "def split_build_valid(df_train,k=10):\n",
    "    '''\n",
    "    k-fold交叉验证,默认k=10\n",
    "    df_train:训练数据\n",
    "    '''\n",
    "\n",
    "    #added some parameters\n",
    "    kf = KFold(n_splits = k, shuffle = True, random_state = 2)    \n",
    "    result1 = next(kf.split(df_train[df_train[label]==1]), None)\n",
    "    result0 = next(kf.split(df_train[df_train[label]==0]), None)\n",
    "    \n",
    "#     print (result)\n",
    "#     (array([0, 2, 3, 5, 6, 7, 8, 9]), array([1, 4]))\n",
    "    train_list = []\n",
    "    train_list.extend(result1[0])\n",
    "    train_list.extend(result0[0])\n",
    "    np.random.shuffle(train_list)\n",
    "    \n",
    "    vali_list = []\n",
    "    vali_list.extend(result1[1])\n",
    "    vali_list.extend(result0[1])\n",
    "    np.random.shuffle(vali_list)\n",
    "    \n",
    "    \n",
    "#     dtrain = df_train.iloc[train_list]\n",
    "#     dvali =  df_train.iloc[vali_list]\n",
    "    \n",
    "    dbuild = xgb.DMatrix(df_train.iloc[train_list][features],label=df_train.iloc[train_list][label])\n",
    "    dvalid = xgb.DMatrix(df_train.iloc[vali_list][features],label=df_train.iloc[vali_list][label])\n",
    "    watchlist = [(dbuild, 'build'),(dvalid, 'valid')]\n",
    "    \n",
    "    return dbuild, dvalid, watchlist"
   ]
  },
  {
   "cell_type": "code",
   "execution_count": 20,
   "metadata": {
    "collapsed": true
   },
   "outputs": [],
   "source": [
    "def train_and_test():\n",
    "    '''\n",
    "    得到训练数据和测试数据\n",
    "    '''    \n",
    "    df_train = pd.read_csv('../data/newData/df_train14.csv')\n",
    "    df_test = pd.read_csv('../data/newData/df_test14.csv')\n",
    "    \n",
    "    return df_train,df_test\n",
    "\n",
    "df_train,df_test = train_and_test()"
   ]
  },
  {
   "cell_type": "code",
   "execution_count": 21,
   "metadata": {
    "collapsed": false
   },
   "outputs": [
    {
     "data": {
      "text/html": [
       "<div>\n",
       "<table border=\"1\" class=\"dataframe\">\n",
       "  <thead>\n",
       "    <tr style=\"text-align: right;\">\n",
       "      <th></th>\n",
       "      <th>EID</th>\n",
       "      <th>RGYEAR</th>\n",
       "      <th>RGYEAR_DIFF</th>\n",
       "      <th>ZCZB</th>\n",
       "      <th>HY</th>\n",
       "      <th>ETYPE</th>\n",
       "      <th>ZCZB_RATE</th>\n",
       "      <th>ETYPE_RATE</th>\n",
       "      <th>MPNUM</th>\n",
       "      <th>INUM</th>\n",
       "      <th>...</th>\n",
       "      <th>TZ_OPEN_RATE</th>\n",
       "      <th>TZ_BTBL_AVG</th>\n",
       "      <th>TZ_QY_FIRST_TIME</th>\n",
       "      <th>TZ_QY_END_TIME</th>\n",
       "      <th>TZ_FIRST_CLOSE_TIME</th>\n",
       "      <th>TZ_QY_FIRST_RGYEAR_DIFF</th>\n",
       "      <th>TZ_QY_END_RGYEAR_DIFF</th>\n",
       "      <th>TZ_FIRST_CLOSE_TIME_DIFF</th>\n",
       "      <th>TZ_FIRST_CLOSE_RGYEAR_TIME_DIFF</th>\n",
       "      <th>TARGET</th>\n",
       "    </tr>\n",
       "  </thead>\n",
       "  <tbody>\n",
       "    <tr>\n",
       "      <th>0</th>\n",
       "      <td>32741</td>\n",
       "      <td>2000-01</td>\n",
       "      <td>17</td>\n",
       "      <td>100.0</td>\n",
       "      <td>87</td>\n",
       "      <td>7</td>\n",
       "      <td>0.319682</td>\n",
       "      <td>0.201254</td>\n",
       "      <td>1.0</td>\n",
       "      <td>3.0</td>\n",
       "      <td>...</td>\n",
       "      <td>0.75</td>\n",
       "      <td>0.3250</td>\n",
       "      <td>2000-01</td>\n",
       "      <td>1988-01</td>\n",
       "      <td>2010-01</td>\n",
       "      <td>0</td>\n",
       "      <td>-144</td>\n",
       "      <td>120</td>\n",
       "      <td>120</td>\n",
       "      <td>0</td>\n",
       "    </tr>\n",
       "    <tr>\n",
       "      <th>1</th>\n",
       "      <td>387842</td>\n",
       "      <td>2011-01</td>\n",
       "      <td>6</td>\n",
       "      <td>100.0</td>\n",
       "      <td>51</td>\n",
       "      <td>7</td>\n",
       "      <td>0.133609</td>\n",
       "      <td>0.201254</td>\n",
       "      <td>0.0</td>\n",
       "      <td>1.0</td>\n",
       "      <td>...</td>\n",
       "      <td>1.00</td>\n",
       "      <td>0.8330</td>\n",
       "      <td>2005-01</td>\n",
       "      <td>2005-01</td>\n",
       "      <td>2018-01</td>\n",
       "      <td>-72</td>\n",
       "      <td>-72</td>\n",
       "      <td>156</td>\n",
       "      <td>84</td>\n",
       "      <td>1</td>\n",
       "    </tr>\n",
       "    <tr>\n",
       "      <th>2</th>\n",
       "      <td>324760</td>\n",
       "      <td>1999-01</td>\n",
       "      <td>18</td>\n",
       "      <td>1000.0</td>\n",
       "      <td>75</td>\n",
       "      <td>6</td>\n",
       "      <td>1.411603</td>\n",
       "      <td>0.125272</td>\n",
       "      <td>6.0</td>\n",
       "      <td>5.0</td>\n",
       "      <td>...</td>\n",
       "      <td>1.00</td>\n",
       "      <td>0.0980</td>\n",
       "      <td>2001-01</td>\n",
       "      <td>2001-01</td>\n",
       "      <td>2018-01</td>\n",
       "      <td>24</td>\n",
       "      <td>24</td>\n",
       "      <td>204</td>\n",
       "      <td>228</td>\n",
       "      <td>0</td>\n",
       "    </tr>\n",
       "    <tr>\n",
       "      <th>3</th>\n",
       "      <td>392055</td>\n",
       "      <td>2005-01</td>\n",
       "      <td>12</td>\n",
       "      <td>10.0</td>\n",
       "      <td>72</td>\n",
       "      <td>7</td>\n",
       "      <td>0.001893</td>\n",
       "      <td>0.020125</td>\n",
       "      <td>82.0</td>\n",
       "      <td>5.0</td>\n",
       "      <td>...</td>\n",
       "      <td>1.00</td>\n",
       "      <td>0.3515</td>\n",
       "      <td>2001-01</td>\n",
       "      <td>1995-01</td>\n",
       "      <td>2018-01</td>\n",
       "      <td>-48</td>\n",
       "      <td>-120</td>\n",
       "      <td>204</td>\n",
       "      <td>156</td>\n",
       "      <td>0</td>\n",
       "    </tr>\n",
       "    <tr>\n",
       "      <th>4</th>\n",
       "      <td>46997</td>\n",
       "      <td>2014-01</td>\n",
       "      <td>3</td>\n",
       "      <td>480.0</td>\n",
       "      <td>72</td>\n",
       "      <td>16</td>\n",
       "      <td>0.090884</td>\n",
       "      <td>0.061773</td>\n",
       "      <td>0.0</td>\n",
       "      <td>36.0</td>\n",
       "      <td>...</td>\n",
       "      <td>1.00</td>\n",
       "      <td>0.1700</td>\n",
       "      <td>2013-01</td>\n",
       "      <td>2013-01</td>\n",
       "      <td>2018-01</td>\n",
       "      <td>-12</td>\n",
       "      <td>-12</td>\n",
       "      <td>60</td>\n",
       "      <td>48</td>\n",
       "      <td>0</td>\n",
       "    </tr>\n",
       "  </tbody>\n",
       "</table>\n",
       "<p>5 rows × 31 columns</p>\n",
       "</div>"
      ],
      "text/plain": [
       "      EID   RGYEAR  RGYEAR_DIFF    ZCZB  HY  ETYPE  ZCZB_RATE  ETYPE_RATE  \\\n",
       "0   32741  2000-01           17   100.0  87      7   0.319682    0.201254   \n",
       "1  387842  2011-01            6   100.0  51      7   0.133609    0.201254   \n",
       "2  324760  1999-01           18  1000.0  75      6   1.411603    0.125272   \n",
       "3  392055  2005-01           12    10.0  72      7   0.001893    0.020125   \n",
       "4   46997  2014-01            3   480.0  72     16   0.090884    0.061773   \n",
       "\n",
       "   MPNUM  INUM   ...    TZ_OPEN_RATE  TZ_BTBL_AVG  TZ_QY_FIRST_TIME  \\\n",
       "0    1.0   3.0   ...            0.75       0.3250           2000-01   \n",
       "1    0.0   1.0   ...            1.00       0.8330           2005-01   \n",
       "2    6.0   5.0   ...            1.00       0.0980           2001-01   \n",
       "3   82.0   5.0   ...            1.00       0.3515           2001-01   \n",
       "4    0.0  36.0   ...            1.00       0.1700           2013-01   \n",
       "\n",
       "   TZ_QY_END_TIME  TZ_FIRST_CLOSE_TIME  TZ_QY_FIRST_RGYEAR_DIFF  \\\n",
       "0         1988-01              2010-01                        0   \n",
       "1         2005-01              2018-01                      -72   \n",
       "2         2001-01              2018-01                       24   \n",
       "3         1995-01              2018-01                      -48   \n",
       "4         2013-01              2018-01                      -12   \n",
       "\n",
       "   TZ_QY_END_RGYEAR_DIFF  TZ_FIRST_CLOSE_TIME_DIFF  \\\n",
       "0                   -144                       120   \n",
       "1                    -72                       156   \n",
       "2                     24                       204   \n",
       "3                   -120                       204   \n",
       "4                    -12                        60   \n",
       "\n",
       "   TZ_FIRST_CLOSE_RGYEAR_TIME_DIFF  TARGET  \n",
       "0                              120       0  \n",
       "1                               84       1  \n",
       "2                              228       0  \n",
       "3                              156       0  \n",
       "4                               48       0  \n",
       "\n",
       "[5 rows x 31 columns]"
      ]
     },
     "execution_count": 21,
     "metadata": {},
     "output_type": "execute_result"
    }
   ],
   "source": [
    "df_train.head()"
   ]
  },
  {
   "cell_type": "code",
   "execution_count": 22,
   "metadata": {
    "collapsed": false
   },
   "outputs": [
    {
     "name": "stdout",
     "output_type": "stream",
     "text": [
      "1055\n",
      "10848\n"
     ]
    }
   ],
   "source": [
    "print(len(df_train[df_train[label] == 1][label]))\n",
    "print(len(df_train[df_train[label] == 0][label]))"
   ]
  },
  {
   "cell_type": "code",
   "execution_count": 23,
   "metadata": {
    "collapsed": false
   },
   "outputs": [
    {
     "name": "stdout",
     "output_type": "stream",
     "text": [
      "<class 'pandas.core.frame.DataFrame'>\n",
      "RangeIndex: 7854 entries, 0 to 7853\n",
      "Data columns (total 30 columns):\n",
      "EID                                7854 non-null int64\n",
      "RGYEAR                             7854 non-null object\n",
      "RGYEAR_DIFF                        7854 non-null int64\n",
      "ZCZB                               7854 non-null float64\n",
      "HY                                 7854 non-null int64\n",
      "ETYPE                              7854 non-null int64\n",
      "ZCZB_RATE                          7854 non-null float64\n",
      "ETYPE_RATE                         7854 non-null float64\n",
      "MPNUM                              7854 non-null float64\n",
      "INUM                               7854 non-null float64\n",
      "FINZB                              7854 non-null float64\n",
      "FSTINUM                            7854 non-null float64\n",
      "TZINUM                             7854 non-null float64\n",
      "TZ_CNT                             7854 non-null float64\n",
      "TZ_INHOME_CNT                      7854 non-null float64\n",
      "TZ_OUTHOME_CNT                     7854 non-null float64\n",
      "TZ_INHOME_RATE                     7854 non-null float64\n",
      "TZ_OUTHOME_RATE                    7854 non-null float64\n",
      "TZ_CLOSE_CNT                       7854 non-null float64\n",
      "TZ_OPEN_CNT                        7854 non-null float64\n",
      "TZ_CLOSE_RATE                      7854 non-null float64\n",
      "TZ_OPEN_RATE                       7854 non-null float64\n",
      "TZ_BTBL_AVG                        7854 non-null float64\n",
      "TZ_QY_FIRST_TIME                   7854 non-null object\n",
      "TZ_QY_END_TIME                     7854 non-null object\n",
      "TZ_FIRST_CLOSE_TIME                7854 non-null object\n",
      "TZ_QY_FIRST_RGYEAR_DIFF            7854 non-null int64\n",
      "TZ_QY_END_RGYEAR_DIFF              7854 non-null int64\n",
      "TZ_FIRST_CLOSE_TIME_DIFF           7854 non-null int64\n",
      "TZ_FIRST_CLOSE_RGYEAR_TIME_DIFF    7854 non-null int64\n",
      "dtypes: float64(18), int64(8), object(4)\n",
      "memory usage: 1.8+ MB\n"
     ]
    }
   ],
   "source": [
    "df_test.info()"
   ]
  },
  {
   "cell_type": "code",
   "execution_count": 24,
   "metadata": {
    "collapsed": false,
    "scrolled": true
   },
   "outputs": [
    {
     "name": "stdout",
     "output_type": "stream",
     "text": [
      "LOOP 0\n",
      "[0]\tbuild-auc:0.67738\tvalid-auc:0.544023\n",
      "Multiple eval metrics have been passed: 'valid-auc' will be used for early stopping.\n",
      "\n",
      "Will train until valid-auc hasn't improved in 50 rounds.\n",
      "[5]\tbuild-auc:0.746129\tvalid-auc:0.578969\n",
      "[10]\tbuild-auc:0.765786\tvalid-auc:0.596766\n",
      "[15]\tbuild-auc:0.79267\tvalid-auc:0.601613\n",
      "[20]\tbuild-auc:0.810633\tvalid-auc:0.613018\n",
      "[25]\tbuild-auc:0.824397\tvalid-auc:0.621363\n",
      "[30]\tbuild-auc:0.833964\tvalid-auc:0.614945\n",
      "[35]\tbuild-auc:0.84641\tvalid-auc:0.615748\n",
      "[40]\tbuild-auc:0.861326\tvalid-auc:0.620766\n",
      "[45]\tbuild-auc:0.874779\tvalid-auc:0.626947\n",
      "[50]\tbuild-auc:0.888508\tvalid-auc:0.628709\n",
      "[55]\tbuild-auc:0.897813\tvalid-auc:0.623012\n",
      "[60]\tbuild-auc:0.902558\tvalid-auc:0.62569\n",
      "[65]\tbuild-auc:0.911198\tvalid-auc:0.624609\n",
      "[70]\tbuild-auc:0.919867\tvalid-auc:0.629492\n",
      "[75]\tbuild-auc:0.926617\tvalid-auc:0.62874\n",
      "[80]\tbuild-auc:0.932417\tvalid-auc:0.628204\n",
      "[85]\tbuild-auc:0.936291\tvalid-auc:0.630934\n",
      "[90]\tbuild-auc:0.940511\tvalid-auc:0.634684\n",
      "[95]\tbuild-auc:0.944811\tvalid-auc:0.637888\n",
      "Valid Mean:----------------------> 0.152041\n",
      "LOOP 1\n",
      "[0]\tbuild-auc:0.667888\tvalid-auc:0.567924\n",
      "Multiple eval metrics have been passed: 'valid-auc' will be used for early stopping.\n",
      "\n",
      "Will train until valid-auc hasn't improved in 50 rounds.\n",
      "[5]\tbuild-auc:0.744168\tvalid-auc:0.576707\n",
      "[10]\tbuild-auc:0.771764\tvalid-auc:0.571623\n",
      "[15]\tbuild-auc:0.785632\tvalid-auc:0.590827\n",
      "[20]\tbuild-auc:0.803481\tvalid-auc:0.597513\n",
      "[25]\tbuild-auc:0.81909\tvalid-auc:0.606002\n",
      "[30]\tbuild-auc:0.837419\tvalid-auc:0.61241\n",
      "[35]\tbuild-auc:0.851449\tvalid-auc:0.619746\n",
      "[40]\tbuild-auc:0.862452\tvalid-auc:0.62058\n",
      "[45]\tbuild-auc:0.876595\tvalid-auc:0.618612\n",
      "[50]\tbuild-auc:0.888066\tvalid-auc:0.626669\n",
      "[55]\tbuild-auc:0.897741\tvalid-auc:0.628884\n",
      "[60]\tbuild-auc:0.903596\tvalid-auc:0.629296\n",
      "[65]\tbuild-auc:0.911933\tvalid-auc:0.627843\n",
      "[70]\tbuild-auc:0.91956\tvalid-auc:0.634303\n",
      "[75]\tbuild-auc:0.927367\tvalid-auc:0.629832\n",
      "[80]\tbuild-auc:0.931068\tvalid-auc:0.632315\n",
      "[85]\tbuild-auc:0.934515\tvalid-auc:0.632438\n",
      "[90]\tbuild-auc:0.937308\tvalid-auc:0.633036\n",
      "[95]\tbuild-auc:0.941952\tvalid-auc:0.631944\n",
      "Valid Mean:----------------------> 0.152077\n",
      "LOOP 2\n",
      "[0]\tbuild-auc:0.657414\tvalid-auc:0.601309\n",
      "Multiple eval metrics have been passed: 'valid-auc' will be used for early stopping.\n",
      "\n",
      "Will train until valid-auc hasn't improved in 50 rounds.\n",
      "[5]\tbuild-auc:0.748353\tvalid-auc:0.5734\n",
      "[10]\tbuild-auc:0.784075\tvalid-auc:0.58192\n",
      "[15]\tbuild-auc:0.785942\tvalid-auc:0.606703\n",
      "[20]\tbuild-auc:0.800695\tvalid-auc:0.60013\n",
      "[25]\tbuild-auc:0.815063\tvalid-auc:0.591213\n",
      "[30]\tbuild-auc:0.830966\tvalid-auc:0.59827\n",
      "[35]\tbuild-auc:0.847522\tvalid-auc:0.614831\n",
      "[40]\tbuild-auc:0.85442\tvalid-auc:0.608465\n",
      "[45]\tbuild-auc:0.871136\tvalid-auc:0.608856\n",
      "[50]\tbuild-auc:0.882541\tvalid-auc:0.612802\n",
      "[55]\tbuild-auc:0.890537\tvalid-auc:0.61616\n",
      "[60]\tbuild-auc:0.899444\tvalid-auc:0.617016\n",
      "[65]\tbuild-auc:0.906103\tvalid-auc:0.619694\n",
      "[70]\tbuild-auc:0.914401\tvalid-auc:0.630172\n",
      "[75]\tbuild-auc:0.921178\tvalid-auc:0.630574\n",
      "[80]\tbuild-auc:0.927345\tvalid-auc:0.632943\n",
      "[85]\tbuild-auc:0.93215\tvalid-auc:0.638568\n",
      "[90]\tbuild-auc:0.937131\tvalid-auc:0.64168\n",
      "[95]\tbuild-auc:0.942692\tvalid-auc:0.644791\n",
      "Valid Mean:----------------------> 0.152022\n",
      "test\n"
     ]
    }
   ],
   "source": [
    "models = []\n",
    "for i in range(LOOP):\n",
    "    print('LOOP',i)\n",
    "    dbuild, dvalid, watchlist = split_build_valid(df_train,10)\n",
    "            \n",
    "    model = xgb.train(param, dbuild, nround, watchlist,early_stopping_rounds=ESR,verbose_eval=5,)\n",
    "    models.append(model)\n",
    "    model.save_model('../saveModel/model14'+ str(i) + '.model')\n",
    "    # VALID\n",
    "    valid_yhat = model.predict(dvalid,ntree_limit=model.best_iteration)\n",
    "    print('Valid Mean:---------------------->', np.mean(valid_yhat))\n",
    "    del dbuild, dvalid, watchlist\n",
    "\n",
    "#==============================================================================\n",
    "print('test')\n",
    "#==============================================================================\n",
    "\n",
    "dtest  = xgb.DMatrix(df_test[features])\n",
    "proba_test = pd.DataFrame()\n",
    "proba_test['EID'] = df_test['EID']\n",
    "proba_test['FORTARGET'] = [0 for i in range(len(df_test))]\n",
    "proba_test['PROB'] = [0 for i in range(len(df_test))]\n",
    "for model in models:\n",
    "    proba_test['PROB'] += model.predict(dtest)\n",
    "proba_test['PROB'] /= LOOP\n",
    "\n",
    "\n"
   ]
  },
  {
   "cell_type": "code",
   "execution_count": 25,
   "metadata": {
    "collapsed": false
   },
   "outputs": [
    {
     "data": {
      "text/plain": [
       "[('ZCZB', 1134),\n",
       " ('ZCZB_RATE', 1129),\n",
       " ('TZ_BTBL_AVG', 1027),\n",
       " ('ETYPE_RATE', 1024),\n",
       " ('TZ_FIRST_CLOSE_RGYEAR_TIME_DIFF', 882),\n",
       " ('TZ_FIRST_CLOSE_TIME_DIFF', 866),\n",
       " ('RGYEAR_DIFF', 791),\n",
       " ('TZ_QY_END_RGYEAR_DIFF', 770),\n",
       " ('FSTINUM', 764),\n",
       " ('HY', 737),\n",
       " ('MPNUM', 698),\n",
       " ('TZ_QY_FIRST_RGYEAR_DIFF', 639),\n",
       " ('FINZB', 507),\n",
       " ('INUM', 451),\n",
       " ('TZ_CNT', 282),\n",
       " ('ETYPE', 278),\n",
       " ('TZ_INHOME_CNT', 277),\n",
       " ('TZ_OPEN_CNT', 215),\n",
       " ('TZ_OUTHOME_CNT', 210),\n",
       " ('TZ_CLOSE_RATE', 210),\n",
       " ('TZ_INHOME_RATE', 209),\n",
       " ('TZ_OUTHOME_RATE', 198),\n",
       " ('TZ_CLOSE_CNT', 143),\n",
       " ('TZ_OPEN_RATE', 109),\n",
       " ('TZINUM', 90)]"
      ]
     },
     "execution_count": 25,
     "metadata": {},
     "output_type": "execute_result"
    }
   ],
   "source": [
    "import operator\n",
    "importance = model.get_fscore()\n",
    "importance = sorted(importance.items(), key=operator.itemgetter(1),reverse=True)\n",
    "importance"
   ]
  },
  {
   "cell_type": "code",
   "execution_count": 26,
   "metadata": {
    "collapsed": true
   },
   "outputs": [],
   "source": [
    "proba_test.loc[proba_test['PROB']>=0.5,'FORTARGET'] = 1\n",
    "# proba_test.to_csv('../data/submussion_xiao_1_4.csv',index=False,index_label=False)"
   ]
  },
  {
   "cell_type": "code",
   "execution_count": 27,
   "metadata": {
    "collapsed": false
   },
   "outputs": [
    {
     "name": "stdout",
     "output_type": "stream",
     "text": [
      "0\n",
      "7854\n"
     ]
    }
   ],
   "source": [
    "print(len(proba_test[proba_test['FORTARGET']==1]))\n",
    "print(len(proba_test[proba_test['FORTARGET']==0]))\n"
   ]
  },
  {
   "cell_type": "code",
   "execution_count": null,
   "metadata": {
    "collapsed": true
   },
   "outputs": [],
   "source": []
  }
 ],
 "metadata": {
  "anaconda-cloud": {},
  "kernelspec": {
   "display_name": "Python [conda root]",
   "language": "python",
   "name": "conda-root-py"
  },
  "language_info": {
   "codemirror_mode": {
    "name": "ipython",
    "version": 3
   },
   "file_extension": ".py",
   "mimetype": "text/x-python",
   "name": "python",
   "nbconvert_exporter": "python",
   "pygments_lexer": "ipython3",
   "version": "3.5.2"
  }
 },
 "nbformat": 4,
 "nbformat_minor": 1
}
