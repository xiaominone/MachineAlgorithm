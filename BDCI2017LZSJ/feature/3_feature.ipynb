{
 "cells": [
  {
   "cell_type": "code",
   "execution_count": 1,
   "metadata": {
    "collapsed": true
   },
   "outputs": [],
   "source": [
    "import numpy as np\n",
    "import pandas as pd\n",
    "import seaborn as sns\n",
    "import matplotlib.pyplot as plt\n",
    "import pro_data"
   ]
  },
  {
   "cell_type": "markdown",
   "metadata": {},
   "source": [
    "# 分支结构的特征3branch.csv 特征\n",
    "    1. 分支机构的数量， BRANCH_CNT\n",
    "    2. 分支结构在本省的数量, BRANCH_CNT_INHOME\n",
    "    3. 分支结构在外省的数量, BRANCH_CNT_OUTHOME\n",
    "    4. 第一个分支机构成立时间与总部成立时间的差（单位月）,BRANCH_FIRST_YEAR_RGYEAR_DIFF\n",
    "    4.1 第一个分支机构成立时间与总部成立时间, BRANCH_FIRST_YEAR\n",
    "    5. 最后一个分支机构成立时间与总部成立时间的差（单位月）, BRANCH_END_YEAR_RGYEAR_DIFF\n",
    "    5.1 最后一个分支机构成立时间与总部成立时间, BRANCH_END_YEAR\n",
    "    6. 平均每几个月成立一个分支结构，（没有分支结构用-1表示）, PER_BRANCH_MONTH= 最后一个分支机构成立时间与总部成立时间的差/分支机构的数量     \n",
    "    7. 分支结构关停的个数，BRANCH_CLOSE_CNT\n",
    "    8. 分支结构关停的比例，(关停个数/总数), BRANCH_CLOSE_RATE\n",
    "    9. 分支结构正常运行的个数，BRANCH_OPEN_CNT\n",
    "    10. 分支结构正常运行的比例，(运行个数/总数), BRANCH_OPEN_RATE\n",
    "    11. 第一个分支机构关停时间距离总部注册时间的差值，BRANCH_FIRST_CLOSE_YEAR_RGYEAR_DIFF\n",
    "    11.1  第一个分支机构关停时间 BRANCH_FIRST_CLOSE_YEAR\n",
    "    12. 第一个分支机构关停时间距离第一个分支机构成立时间的差值，BRANCH_FIRST_CLOSE_YEAR_FIRST_DIFF\n",
    "    13. 第一个分支机构关停时间距离最后一个分支机构成立时间的差值，BRANCH_FIRST_CLOSE_YEAR_END_DIFF\n",
    "\n",
    "-----------------------------------------------------------------------------------------------\n",
    "    14. 分支结构的数量占所有分支机构平均值的比例, BRANCH_CNT_ALL_RATE = BRANCH_CNT / 所有分支数据的平均值\n",
    "    15. 企业所在大类HY的对应的总分支机构的平均值，BRANCH_HY_AVG\n",
    "    16. 企业所在大类HY的对应的分支机构的平均值占所有机构的平均值的比例，BRANCH_HY_ALL_AVG_RATE\n",
    "    \n",
    "    17. 分支结构的关停数量占所有关停分支机构平均值的比例, BRANCH_CLOSE_CNT_ALL_RATE = BRANCH_CLOSE_CNT / 所有关停分支数据的平均值\n",
    "    18. 企业所在大类HY的对应的关停分支机构的平均值，BRANCH_CLOSE_HY_AVG\n",
    "    19. 企业所在大类HY的对应的关停分支机构的平均值占所有关停机构的平均值的比例，BRANCH_HY_CLOSE_ALL_AVG_RATE\n",
    "    \n",
    "    17. 分支结构的营业数量占所有营业分支机构平均值的比例, BRANCH_OPEN_CNT_ALL_RATE = BRANCH_OPEN_CNT / 所有营业分支数据的平均值\n",
    "    18. 企业所在大类HY的对应的营业分支机构的平均值，BRANCH_OPEN_HY_AVG\n",
    "    19. 企业所在大类HY的对应的营业分支机构的平均值占所有营业机构的平均值的比例，BRANCH_HY_OPEN_ALL_AVG_RATE\n",
    "    \n",
    "    \n",
    "    20. 平均几个月关闭一个分支结构，PER_BRANCH_CLOSE_MONTH = BRANCH_CLOSE_CNT / BRANCH_END_YEAR_RGYEAR_DIFF \n",
    "    \n",
    "\n",
    "\n"
   ]
  },
  {
   "cell_type": "code",
   "execution_count": 33,
   "metadata": {
    "collapsed": true
   },
   "outputs": [],
   "source": [
    "df_all = pd.read_csv(\"../data/alldata/df_data12.csv\")\n",
    "df_branch = pd.read_csv(\"../data/public/3branch.csv\")"
   ]
  },
  {
   "cell_type": "code",
   "execution_count": 34,
   "metadata": {
    "collapsed": false,
    "scrolled": true
   },
   "outputs": [
    {
     "data": {
      "text/html": [
       "<div>\n",
       "<table border=\"1\" class=\"dataframe\">\n",
       "  <thead>\n",
       "    <tr style=\"text-align: right;\">\n",
       "      <th></th>\n",
       "      <th>EID</th>\n",
       "      <th>TYPECODE</th>\n",
       "      <th>IFHOME</th>\n",
       "      <th>B_REYEAR</th>\n",
       "      <th>B_ENDYEAR</th>\n",
       "    </tr>\n",
       "  </thead>\n",
       "  <tbody>\n",
       "    <tr>\n",
       "      <th>0</th>\n",
       "      <td>405460</td>\n",
       "      <td>br120022</td>\n",
       "      <td>0</td>\n",
       "      <td>1993</td>\n",
       "      <td>2008.0</td>\n",
       "    </tr>\n",
       "    <tr>\n",
       "      <th>1</th>\n",
       "      <td>138728</td>\n",
       "      <td>br210454</td>\n",
       "      <td>1</td>\n",
       "      <td>2002</td>\n",
       "      <td>NaN</td>\n",
       "    </tr>\n",
       "    <tr>\n",
       "      <th>2</th>\n",
       "      <td>405460</td>\n",
       "      <td>br60051</td>\n",
       "      <td>0</td>\n",
       "      <td>2011</td>\n",
       "      <td>NaN</td>\n",
       "    </tr>\n",
       "    <tr>\n",
       "      <th>3</th>\n",
       "      <td>247652</td>\n",
       "      <td>br210455</td>\n",
       "      <td>1</td>\n",
       "      <td>2014</td>\n",
       "      <td>NaN</td>\n",
       "    </tr>\n",
       "    <tr>\n",
       "      <th>4</th>\n",
       "      <td>26268</td>\n",
       "      <td>br30155</td>\n",
       "      <td>0</td>\n",
       "      <td>2014</td>\n",
       "      <td>NaN</td>\n",
       "    </tr>\n",
       "  </tbody>\n",
       "</table>\n",
       "</div>"
      ],
      "text/plain": [
       "      EID  TYPECODE  IFHOME  B_REYEAR  B_ENDYEAR\n",
       "0  405460  br120022       0      1993     2008.0\n",
       "1  138728  br210454       1      2002        NaN\n",
       "2  405460   br60051       0      2011        NaN\n",
       "3  247652  br210455       1      2014        NaN\n",
       "4   26268   br30155       0      2014        NaN"
      ]
     },
     "execution_count": 34,
     "metadata": {},
     "output_type": "execute_result"
    }
   ],
   "source": [
    "df_branch.head()"
   ]
  },
  {
   "cell_type": "code",
   "execution_count": 35,
   "metadata": {
    "collapsed": true
   },
   "outputs": [],
   "source": [
    "# 正在运行的企业，用2018.0填充\n",
    "df_branch['B_ENDYEAR'] = df_branch['B_ENDYEAR'].fillna(2018.0)\n",
    "\n",
    "columns = df_branch.columns\n",
    "df_xbranch = pd.DataFrame(columns=columns)"
   ]
  },
  {
   "cell_type": "code",
   "execution_count": 36,
   "metadata": {
    "collapsed": false
   },
   "outputs": [
    {
     "data": {
      "text/html": [
       "<div>\n",
       "<table border=\"1\" class=\"dataframe\">\n",
       "  <thead>\n",
       "    <tr style=\"text-align: right;\">\n",
       "      <th></th>\n",
       "      <th>EID</th>\n",
       "      <th>RGYEAR</th>\n",
       "      <th>HY</th>\n",
       "      <th>ZCZB</th>\n",
       "      <th>ETYPE</th>\n",
       "      <th>MPNUM</th>\n",
       "      <th>INUM</th>\n",
       "      <th>FINZB</th>\n",
       "      <th>FSTINUM</th>\n",
       "      <th>TZINUM</th>\n",
       "      <th>...</th>\n",
       "      <th>CHANGE_FIRST_ALTERNO</th>\n",
       "      <th>CHANGE_END_ALTERNO</th>\n",
       "      <th>CHANGE_ALTERNO_MUCNID</th>\n",
       "      <th>FIRST_CHANGE_TIME_DIFF</th>\n",
       "      <th>END_CHANGE_TIME_DIFF</th>\n",
       "      <th>END_FIRST_CHANGE_TIME_DIFF</th>\n",
       "      <th>CHANGE_PRE_CNT</th>\n",
       "      <th>CHANGE_CNT_RATE</th>\n",
       "      <th>CHANGE_HY_CNT_AVG</th>\n",
       "      <th>CHANGE_HY_CNT_ALL_AVG</th>\n",
       "    </tr>\n",
       "  </thead>\n",
       "  <tbody>\n",
       "    <tr>\n",
       "      <th>0</th>\n",
       "      <td>32741</td>\n",
       "      <td>2000-01</td>\n",
       "      <td>87</td>\n",
       "      <td>100.0</td>\n",
       "      <td>7</td>\n",
       "      <td>1.0</td>\n",
       "      <td>3.0</td>\n",
       "      <td>0.0</td>\n",
       "      <td>2.0</td>\n",
       "      <td>0.0</td>\n",
       "      <td>...</td>\n",
       "      <td>12</td>\n",
       "      <td>12</td>\n",
       "      <td>12</td>\n",
       "      <td>182</td>\n",
       "      <td>182</td>\n",
       "      <td>0</td>\n",
       "      <td>0.015744</td>\n",
       "      <td>0.924004</td>\n",
       "      <td>2.865397</td>\n",
       "      <td>0.924004</td>\n",
       "    </tr>\n",
       "    <tr>\n",
       "      <th>1</th>\n",
       "      <td>294220</td>\n",
       "      <td>2003-01</td>\n",
       "      <td>51</td>\n",
       "      <td>50.0</td>\n",
       "      <td>7</td>\n",
       "      <td>0.0</td>\n",
       "      <td>3.0</td>\n",
       "      <td>0.0</td>\n",
       "      <td>0.0</td>\n",
       "      <td>0.0</td>\n",
       "      <td>...</td>\n",
       "      <td>12</td>\n",
       "      <td>12</td>\n",
       "      <td>12</td>\n",
       "      <td>146</td>\n",
       "      <td>146</td>\n",
       "      <td>0</td>\n",
       "      <td>0.020849</td>\n",
       "      <td>0.981587</td>\n",
       "      <td>3.043965</td>\n",
       "      <td>0.981587</td>\n",
       "    </tr>\n",
       "    <tr>\n",
       "      <th>2</th>\n",
       "      <td>10526</td>\n",
       "      <td>2013-01</td>\n",
       "      <td>75</td>\n",
       "      <td>100.0</td>\n",
       "      <td>7</td>\n",
       "      <td>1.0</td>\n",
       "      <td>2.0</td>\n",
       "      <td>0.0</td>\n",
       "      <td>1.0</td>\n",
       "      <td>0.0</td>\n",
       "      <td>...</td>\n",
       "      <td>12</td>\n",
       "      <td>12</td>\n",
       "      <td>12</td>\n",
       "      <td>26</td>\n",
       "      <td>26</td>\n",
       "      <td>0</td>\n",
       "      <td>0.124123</td>\n",
       "      <td>1.040675</td>\n",
       "      <td>3.227200</td>\n",
       "      <td>1.040675</td>\n",
       "    </tr>\n",
       "    <tr>\n",
       "      <th>3</th>\n",
       "      <td>237382</td>\n",
       "      <td>2014-01</td>\n",
       "      <td>75</td>\n",
       "      <td>9900.0</td>\n",
       "      <td>7</td>\n",
       "      <td>3.0</td>\n",
       "      <td>4.0</td>\n",
       "      <td>0.0</td>\n",
       "      <td>2.0</td>\n",
       "      <td>0.0</td>\n",
       "      <td>...</td>\n",
       "      <td>12</td>\n",
       "      <td>12</td>\n",
       "      <td>12</td>\n",
       "      <td>14</td>\n",
       "      <td>14</td>\n",
       "      <td>0</td>\n",
       "      <td>0.230514</td>\n",
       "      <td>1.040675</td>\n",
       "      <td>3.227200</td>\n",
       "      <td>1.040675</td>\n",
       "    </tr>\n",
       "    <tr>\n",
       "      <th>4</th>\n",
       "      <td>473535</td>\n",
       "      <td>2008-01</td>\n",
       "      <td>75</td>\n",
       "      <td>50.0</td>\n",
       "      <td>7</td>\n",
       "      <td>3.0</td>\n",
       "      <td>5.0</td>\n",
       "      <td>0.0</td>\n",
       "      <td>1.0</td>\n",
       "      <td>0.0</td>\n",
       "      <td>...</td>\n",
       "      <td>12</td>\n",
       "      <td>12</td>\n",
       "      <td>12</td>\n",
       "      <td>86</td>\n",
       "      <td>86</td>\n",
       "      <td>0</td>\n",
       "      <td>0.037526</td>\n",
       "      <td>1.040675</td>\n",
       "      <td>3.227200</td>\n",
       "      <td>1.040675</td>\n",
       "    </tr>\n",
       "  </tbody>\n",
       "</table>\n",
       "<p>5 rows × 48 columns</p>\n",
       "</div>"
      ],
      "text/plain": [
       "      EID   RGYEAR  HY    ZCZB  ETYPE  MPNUM  INUM  FINZB  FSTINUM  TZINUM  \\\n",
       "0   32741  2000-01  87   100.0      7    1.0   3.0    0.0      2.0     0.0   \n",
       "1  294220  2003-01  51    50.0      7    0.0   3.0    0.0      0.0     0.0   \n",
       "2   10526  2013-01  75   100.0      7    1.0   2.0    0.0      1.0     0.0   \n",
       "3  237382  2014-01  75  9900.0      7    3.0   4.0    0.0      2.0     0.0   \n",
       "4  473535  2008-01  75    50.0      7    3.0   5.0    0.0      1.0     0.0   \n",
       "\n",
       "           ...            CHANGE_FIRST_ALTERNO  CHANGE_END_ALTERNO  \\\n",
       "0          ...                              12                  12   \n",
       "1          ...                              12                  12   \n",
       "2          ...                              12                  12   \n",
       "3          ...                              12                  12   \n",
       "4          ...                              12                  12   \n",
       "\n",
       "   CHANGE_ALTERNO_MUCNID  FIRST_CHANGE_TIME_DIFF  END_CHANGE_TIME_DIFF  \\\n",
       "0                     12                     182                   182   \n",
       "1                     12                     146                   146   \n",
       "2                     12                      26                    26   \n",
       "3                     12                      14                    14   \n",
       "4                     12                      86                    86   \n",
       "\n",
       "   END_FIRST_CHANGE_TIME_DIFF  CHANGE_PRE_CNT  CHANGE_CNT_RATE  \\\n",
       "0                           0        0.015744         0.924004   \n",
       "1                           0        0.020849         0.981587   \n",
       "2                           0        0.124123         1.040675   \n",
       "3                           0        0.230514         1.040675   \n",
       "4                           0        0.037526         1.040675   \n",
       "\n",
       "   CHANGE_HY_CNT_AVG  CHANGE_HY_CNT_ALL_AVG  \n",
       "0           2.865397               0.924004  \n",
       "1           3.043965               0.981587  \n",
       "2           3.227200               1.040675  \n",
       "3           3.227200               1.040675  \n",
       "4           3.227200               1.040675  \n",
       "\n",
       "[5 rows x 48 columns]"
      ]
     },
     "execution_count": 36,
     "metadata": {},
     "output_type": "execute_result"
    }
   ],
   "source": [
    "df_all.head()"
   ]
  },
  {
   "cell_type": "code",
   "execution_count": 37,
   "metadata": {
    "collapsed": false
   },
   "outputs": [
    {
     "data": {
      "text/plain": [
       "18922"
      ]
     },
     "execution_count": 37,
     "metadata": {},
     "output_type": "execute_result"
    }
   ],
   "source": [
    "EIDS = set(df_branch['EID'])\n",
    "\n",
    "len(EIDS)"
   ]
  },
  {
   "cell_type": "code",
   "execution_count": 38,
   "metadata": {
    "collapsed": false
   },
   "outputs": [
    {
     "name": "stdout",
     "output_type": "stream",
     "text": [
      "第%d次处理---------> 0\n",
      "第%d次处理---------> 3000\n",
      "第%d次处理---------> 6000\n",
      "第%d次处理---------> 9000\n",
      "第%d次处理---------> 12000\n",
      "第%d次处理---------> 15000\n",
      "第%d次处理---------> 18000\n"
     ]
    }
   ],
   "source": [
    "k = 0\n",
    "for EID in EIDS:\n",
    "    if k%3000 == 0:\n",
    "        print('第%d次处理--------->',k)\n",
    "    k+=1\n",
    "    tmp = df_branch[df_branch['EID'] == EID]\n",
    "    row = [EID,tmp['TYPECODE'].values,tmp['IFHOME'].values,tmp['B_REYEAR'].values,tmp['B_ENDYEAR'].values]\n",
    "    \n",
    "    df_xbranch = df_xbranch.append(pd.Series(row,columns),ignore_index=True)\n",
    "    "
   ]
  },
  {
   "cell_type": "code",
   "execution_count": 39,
   "metadata": {
    "collapsed": false,
    "scrolled": true
   },
   "outputs": [
    {
     "data": {
      "text/html": [
       "<div>\n",
       "<table border=\"1\" class=\"dataframe\">\n",
       "  <thead>\n",
       "    <tr style=\"text-align: right;\">\n",
       "      <th></th>\n",
       "      <th>EID</th>\n",
       "      <th>TYPECODE</th>\n",
       "      <th>IFHOME</th>\n",
       "      <th>B_REYEAR</th>\n",
       "      <th>B_ENDYEAR</th>\n",
       "    </tr>\n",
       "  </thead>\n",
       "  <tbody>\n",
       "    <tr>\n",
       "      <th>0</th>\n",
       "      <td>262144.0</td>\n",
       "      <td>[br231328]</td>\n",
       "      <td>[1]</td>\n",
       "      <td>[2004]</td>\n",
       "      <td>[2018.0]</td>\n",
       "    </tr>\n",
       "    <tr>\n",
       "      <th>1</th>\n",
       "      <td>6.0</td>\n",
       "      <td>[br240302]</td>\n",
       "      <td>[0]</td>\n",
       "      <td>[2008]</td>\n",
       "      <td>[2018.0]</td>\n",
       "    </tr>\n",
       "    <tr>\n",
       "      <th>2</th>\n",
       "      <td>458761.0</td>\n",
       "      <td>[br239767]</td>\n",
       "      <td>[1]</td>\n",
       "      <td>[2004]</td>\n",
       "      <td>[2018.0]</td>\n",
       "    </tr>\n",
       "    <tr>\n",
       "      <th>3</th>\n",
       "      <td>262154.0</td>\n",
       "      <td>[br211107]</td>\n",
       "      <td>[1]</td>\n",
       "      <td>[2005]</td>\n",
       "      <td>[2018.0]</td>\n",
       "    </tr>\n",
       "    <tr>\n",
       "      <th>4</th>\n",
       "      <td>11.0</td>\n",
       "      <td>[br81227]</td>\n",
       "      <td>[0]</td>\n",
       "      <td>[2010]</td>\n",
       "      <td>[2018.0]</td>\n",
       "    </tr>\n",
       "  </tbody>\n",
       "</table>\n",
       "</div>"
      ],
      "text/plain": [
       "        EID    TYPECODE IFHOME B_REYEAR B_ENDYEAR\n",
       "0  262144.0  [br231328]    [1]   [2004]  [2018.0]\n",
       "1       6.0  [br240302]    [0]   [2008]  [2018.0]\n",
       "2  458761.0  [br239767]    [1]   [2004]  [2018.0]\n",
       "3  262154.0  [br211107]    [1]   [2005]  [2018.0]\n",
       "4      11.0   [br81227]    [0]   [2010]  [2018.0]"
      ]
     },
     "execution_count": 39,
     "metadata": {},
     "output_type": "execute_result"
    }
   ],
   "source": [
    "df_xbranch.head()"
   ]
  },
  {
   "cell_type": "code",
   "execution_count": null,
   "metadata": {
    "collapsed": true
   },
   "outputs": [],
   "source": []
  },
  {
   "cell_type": "code",
   "execution_count": 40,
   "metadata": {
    "collapsed": true
   },
   "outputs": [],
   "source": [
    "def TotalCnt(x):\n",
    "    return len(x)\n",
    "\n",
    "df_xbranch['BRANCH_CNT'] = df_xbranch['TYPECODE'].apply(TotalCnt)\n"
   ]
  },
  {
   "cell_type": "code",
   "execution_count": 41,
   "metadata": {
    "collapsed": true
   },
   "outputs": [],
   "source": [
    "def InHome(x):\n",
    "    return list(x).count(1)\n",
    "\n",
    "def OutHome(x):\n",
    "    return list(x).count(0)\n",
    "\n",
    "df_xbranch['BRANCH_CNT_INHOME'] = df_xbranch['IFHOME'].apply(InHome)\n",
    "df_xbranch['BRANCH_CNT_OUTHOME'] = df_xbranch['IFHOME'].apply(OutHome)\n"
   ]
  },
  {
   "cell_type": "code",
   "execution_count": 42,
   "metadata": {
    "collapsed": true
   },
   "outputs": [],
   "source": [
    "def getFirstTime(x):\n",
    "    return str(x[0])+'-01'\n",
    "\n",
    "def getEndTime(x):\n",
    "    return str(x[-1])+'-01'\n",
    "\n",
    "df_xbranch['BRANCH_FIRST_YEAR'] = df_xbranch['B_REYEAR'].apply(getFirstTime)\n",
    "df_xbranch['BRANCH_END_YEAR'] = df_xbranch['B_REYEAR'].apply(getEndTime)\n",
    "\n"
   ]
  },
  {
   "cell_type": "code",
   "execution_count": 43,
   "metadata": {
    "collapsed": true
   },
   "outputs": [],
   "source": [
    "def EndCnt(x):\n",
    "    k = 0\n",
    "    for d in x:\n",
    "        if d != 2018.0:\n",
    "            k+=1\n",
    "    return k\n",
    "\n",
    "def OpenCnt(x):\n",
    "    k = 0\n",
    "    for d in x:\n",
    "        if d == 2018.0:\n",
    "            k+=1\n",
    "    return k\n",
    "\n",
    "df_xbranch['BRANCH_CLOSE_CNT'] = df_xbranch['B_ENDYEAR'].apply(EndCnt)\n",
    "df_xbranch['BRANCH_OPEN_CNT'] = df_xbranch['B_ENDYEAR'].apply(OpenCnt)\n",
    "\n",
    "df_xbranch['BRANCH_CLOSE_RATE'] = df_xbranch['BRANCH_CLOSE_CNT'] / df_xbranch['BRANCH_CNT']\n",
    "df_xbranch['BRANCH_OPEN_RATE'] = df_xbranch['BRANCH_OPEN_CNT'] / df_xbranch['BRANCH_CNT']\n"
   ]
  },
  {
   "cell_type": "code",
   "execution_count": 44,
   "metadata": {
    "collapsed": true
   },
   "outputs": [],
   "source": [
    "# 倒闭的情况下才能计算\n",
    "def FirstClostYear(x):\n",
    "    list(x).sort()\n",
    "    return str(int(x[0]))+'-01'\n",
    "\n",
    "df_xbranch['BRANCH_FIRST_CLOSE_YEAR'] = df_xbranch['B_ENDYEAR'].apply(FirstClostYear)"
   ]
  },
  {
   "cell_type": "code",
   "execution_count": 45,
   "metadata": {
    "collapsed": false
   },
   "outputs": [
    {
     "data": {
      "text/html": [
       "<div>\n",
       "<table border=\"1\" class=\"dataframe\">\n",
       "  <thead>\n",
       "    <tr style=\"text-align: right;\">\n",
       "      <th></th>\n",
       "      <th>EID</th>\n",
       "      <th>TYPECODE</th>\n",
       "      <th>IFHOME</th>\n",
       "      <th>B_REYEAR</th>\n",
       "      <th>B_ENDYEAR</th>\n",
       "      <th>BRANCH_CNT</th>\n",
       "      <th>BRANCH_CNT_INHOME</th>\n",
       "      <th>BRANCH_CNT_OUTHOME</th>\n",
       "      <th>BRANCH_FIRST_YEAR</th>\n",
       "      <th>BRANCH_END_YEAR</th>\n",
       "      <th>BRANCH_CLOSE_CNT</th>\n",
       "      <th>BRANCH_OPEN_CNT</th>\n",
       "      <th>BRANCH_CLOSE_RATE</th>\n",
       "      <th>BRANCH_OPEN_RATE</th>\n",
       "      <th>BRANCH_FIRST_CLOSE_YEAR</th>\n",
       "    </tr>\n",
       "  </thead>\n",
       "  <tbody>\n",
       "    <tr>\n",
       "      <th>0</th>\n",
       "      <td>262144.0</td>\n",
       "      <td>[br231328]</td>\n",
       "      <td>[1]</td>\n",
       "      <td>[2004]</td>\n",
       "      <td>[2018.0]</td>\n",
       "      <td>1</td>\n",
       "      <td>1</td>\n",
       "      <td>0</td>\n",
       "      <td>2004-01</td>\n",
       "      <td>2004-01</td>\n",
       "      <td>0</td>\n",
       "      <td>1</td>\n",
       "      <td>0.0</td>\n",
       "      <td>1.0</td>\n",
       "      <td>2018-01</td>\n",
       "    </tr>\n",
       "    <tr>\n",
       "      <th>1</th>\n",
       "      <td>6.0</td>\n",
       "      <td>[br240302]</td>\n",
       "      <td>[0]</td>\n",
       "      <td>[2008]</td>\n",
       "      <td>[2018.0]</td>\n",
       "      <td>1</td>\n",
       "      <td>0</td>\n",
       "      <td>1</td>\n",
       "      <td>2008-01</td>\n",
       "      <td>2008-01</td>\n",
       "      <td>0</td>\n",
       "      <td>1</td>\n",
       "      <td>0.0</td>\n",
       "      <td>1.0</td>\n",
       "      <td>2018-01</td>\n",
       "    </tr>\n",
       "    <tr>\n",
       "      <th>2</th>\n",
       "      <td>458761.0</td>\n",
       "      <td>[br239767]</td>\n",
       "      <td>[1]</td>\n",
       "      <td>[2004]</td>\n",
       "      <td>[2018.0]</td>\n",
       "      <td>1</td>\n",
       "      <td>1</td>\n",
       "      <td>0</td>\n",
       "      <td>2004-01</td>\n",
       "      <td>2004-01</td>\n",
       "      <td>0</td>\n",
       "      <td>1</td>\n",
       "      <td>0.0</td>\n",
       "      <td>1.0</td>\n",
       "      <td>2018-01</td>\n",
       "    </tr>\n",
       "    <tr>\n",
       "      <th>3</th>\n",
       "      <td>262154.0</td>\n",
       "      <td>[br211107]</td>\n",
       "      <td>[1]</td>\n",
       "      <td>[2005]</td>\n",
       "      <td>[2018.0]</td>\n",
       "      <td>1</td>\n",
       "      <td>1</td>\n",
       "      <td>0</td>\n",
       "      <td>2005-01</td>\n",
       "      <td>2005-01</td>\n",
       "      <td>0</td>\n",
       "      <td>1</td>\n",
       "      <td>0.0</td>\n",
       "      <td>1.0</td>\n",
       "      <td>2018-01</td>\n",
       "    </tr>\n",
       "    <tr>\n",
       "      <th>4</th>\n",
       "      <td>11.0</td>\n",
       "      <td>[br81227]</td>\n",
       "      <td>[0]</td>\n",
       "      <td>[2010]</td>\n",
       "      <td>[2018.0]</td>\n",
       "      <td>1</td>\n",
       "      <td>0</td>\n",
       "      <td>1</td>\n",
       "      <td>2010-01</td>\n",
       "      <td>2010-01</td>\n",
       "      <td>0</td>\n",
       "      <td>1</td>\n",
       "      <td>0.0</td>\n",
       "      <td>1.0</td>\n",
       "      <td>2018-01</td>\n",
       "    </tr>\n",
       "  </tbody>\n",
       "</table>\n",
       "</div>"
      ],
      "text/plain": [
       "        EID    TYPECODE IFHOME B_REYEAR B_ENDYEAR  BRANCH_CNT  \\\n",
       "0  262144.0  [br231328]    [1]   [2004]  [2018.0]           1   \n",
       "1       6.0  [br240302]    [0]   [2008]  [2018.0]           1   \n",
       "2  458761.0  [br239767]    [1]   [2004]  [2018.0]           1   \n",
       "3  262154.0  [br211107]    [1]   [2005]  [2018.0]           1   \n",
       "4      11.0   [br81227]    [0]   [2010]  [2018.0]           1   \n",
       "\n",
       "   BRANCH_CNT_INHOME  BRANCH_CNT_OUTHOME BRANCH_FIRST_YEAR BRANCH_END_YEAR  \\\n",
       "0                  1                   0           2004-01         2004-01   \n",
       "1                  0                   1           2008-01         2008-01   \n",
       "2                  1                   0           2004-01         2004-01   \n",
       "3                  1                   0           2005-01         2005-01   \n",
       "4                  0                   1           2010-01         2010-01   \n",
       "\n",
       "   BRANCH_CLOSE_CNT  BRANCH_OPEN_CNT  BRANCH_CLOSE_RATE  BRANCH_OPEN_RATE  \\\n",
       "0                 0                1                0.0               1.0   \n",
       "1                 0                1                0.0               1.0   \n",
       "2                 0                1                0.0               1.0   \n",
       "3                 0                1                0.0               1.0   \n",
       "4                 0                1                0.0               1.0   \n",
       "\n",
       "  BRANCH_FIRST_CLOSE_YEAR  \n",
       "0                 2018-01  \n",
       "1                 2018-01  \n",
       "2                 2018-01  \n",
       "3                 2018-01  \n",
       "4                 2018-01  "
      ]
     },
     "execution_count": 45,
     "metadata": {},
     "output_type": "execute_result"
    }
   ],
   "source": [
    "df_xbranch.head()"
   ]
  },
  {
   "cell_type": "code",
   "execution_count": 46,
   "metadata": {
    "collapsed": false
   },
   "outputs": [
    {
     "data": {
      "text/plain": [
       "Index(['EID', 'TYPECODE', 'IFHOME', 'B_REYEAR', 'B_ENDYEAR', 'BRANCH_CNT',\n",
       "       'BRANCH_CNT_INHOME', 'BRANCH_CNT_OUTHOME', 'BRANCH_FIRST_YEAR',\n",
       "       'BRANCH_END_YEAR', 'BRANCH_CLOSE_CNT', 'BRANCH_OPEN_CNT',\n",
       "       'BRANCH_CLOSE_RATE', 'BRANCH_OPEN_RATE', 'BRANCH_FIRST_CLOSE_YEAR'],\n",
       "      dtype='object')"
      ]
     },
     "execution_count": 46,
     "metadata": {},
     "output_type": "execute_result"
    }
   ],
   "source": [
    "df_xbranch.to_csv('../data/public/3branch_1.csv',index=False,index_label=False)\n",
    "df_xbranch.columns"
   ]
  },
  {
   "cell_type": "code",
   "execution_count": 47,
   "metadata": {
    "collapsed": true
   },
   "outputs": [],
   "source": [
    "df_all = pd.merge(df_all,df_xbranch[['EID', 'BRANCH_CNT','BRANCH_CNT_INHOME', 'BRANCH_CNT_OUTHOME', 'BRANCH_FIRST_YEAR',\n",
    "                                    'BRANCH_END_YEAR', 'BRANCH_CLOSE_CNT', 'BRANCH_OPEN_CNT','BRANCH_CLOSE_RATE', \n",
    "                                    'BRANCH_OPEN_RATE', 'BRANCH_FIRST_CLOSE_YEAR']],how='left',on=['EID'])\n"
   ]
  },
  {
   "cell_type": "code",
   "execution_count": 48,
   "metadata": {
    "collapsed": false
   },
   "outputs": [
    {
     "data": {
      "text/html": [
       "<div>\n",
       "<table border=\"1\" class=\"dataframe\">\n",
       "  <thead>\n",
       "    <tr style=\"text-align: right;\">\n",
       "      <th></th>\n",
       "      <th>EID</th>\n",
       "      <th>RGYEAR</th>\n",
       "      <th>HY</th>\n",
       "      <th>ZCZB</th>\n",
       "      <th>ETYPE</th>\n",
       "      <th>MPNUM</th>\n",
       "      <th>INUM</th>\n",
       "      <th>FINZB</th>\n",
       "      <th>FSTINUM</th>\n",
       "      <th>TZINUM</th>\n",
       "      <th>...</th>\n",
       "      <th>BRANCH_CNT</th>\n",
       "      <th>BRANCH_CNT_INHOME</th>\n",
       "      <th>BRANCH_CNT_OUTHOME</th>\n",
       "      <th>BRANCH_FIRST_YEAR</th>\n",
       "      <th>BRANCH_END_YEAR</th>\n",
       "      <th>BRANCH_CLOSE_CNT</th>\n",
       "      <th>BRANCH_OPEN_CNT</th>\n",
       "      <th>BRANCH_CLOSE_RATE</th>\n",
       "      <th>BRANCH_OPEN_RATE</th>\n",
       "      <th>BRANCH_FIRST_CLOSE_YEAR</th>\n",
       "    </tr>\n",
       "  </thead>\n",
       "  <tbody>\n",
       "    <tr>\n",
       "      <th>0</th>\n",
       "      <td>32741</td>\n",
       "      <td>2000-01</td>\n",
       "      <td>87</td>\n",
       "      <td>100.0</td>\n",
       "      <td>7</td>\n",
       "      <td>1.0</td>\n",
       "      <td>3.0</td>\n",
       "      <td>0.0</td>\n",
       "      <td>2.0</td>\n",
       "      <td>0.0</td>\n",
       "      <td>...</td>\n",
       "      <td>NaN</td>\n",
       "      <td>NaN</td>\n",
       "      <td>NaN</td>\n",
       "      <td>NaN</td>\n",
       "      <td>NaN</td>\n",
       "      <td>NaN</td>\n",
       "      <td>NaN</td>\n",
       "      <td>NaN</td>\n",
       "      <td>NaN</td>\n",
       "      <td>NaN</td>\n",
       "    </tr>\n",
       "    <tr>\n",
       "      <th>1</th>\n",
       "      <td>294220</td>\n",
       "      <td>2003-01</td>\n",
       "      <td>51</td>\n",
       "      <td>50.0</td>\n",
       "      <td>7</td>\n",
       "      <td>0.0</td>\n",
       "      <td>3.0</td>\n",
       "      <td>0.0</td>\n",
       "      <td>0.0</td>\n",
       "      <td>0.0</td>\n",
       "      <td>...</td>\n",
       "      <td>NaN</td>\n",
       "      <td>NaN</td>\n",
       "      <td>NaN</td>\n",
       "      <td>NaN</td>\n",
       "      <td>NaN</td>\n",
       "      <td>NaN</td>\n",
       "      <td>NaN</td>\n",
       "      <td>NaN</td>\n",
       "      <td>NaN</td>\n",
       "      <td>NaN</td>\n",
       "    </tr>\n",
       "    <tr>\n",
       "      <th>2</th>\n",
       "      <td>10526</td>\n",
       "      <td>2013-01</td>\n",
       "      <td>75</td>\n",
       "      <td>100.0</td>\n",
       "      <td>7</td>\n",
       "      <td>1.0</td>\n",
       "      <td>2.0</td>\n",
       "      <td>0.0</td>\n",
       "      <td>1.0</td>\n",
       "      <td>0.0</td>\n",
       "      <td>...</td>\n",
       "      <td>NaN</td>\n",
       "      <td>NaN</td>\n",
       "      <td>NaN</td>\n",
       "      <td>NaN</td>\n",
       "      <td>NaN</td>\n",
       "      <td>NaN</td>\n",
       "      <td>NaN</td>\n",
       "      <td>NaN</td>\n",
       "      <td>NaN</td>\n",
       "      <td>NaN</td>\n",
       "    </tr>\n",
       "    <tr>\n",
       "      <th>3</th>\n",
       "      <td>237382</td>\n",
       "      <td>2014-01</td>\n",
       "      <td>75</td>\n",
       "      <td>9900.0</td>\n",
       "      <td>7</td>\n",
       "      <td>3.0</td>\n",
       "      <td>4.0</td>\n",
       "      <td>0.0</td>\n",
       "      <td>2.0</td>\n",
       "      <td>0.0</td>\n",
       "      <td>...</td>\n",
       "      <td>NaN</td>\n",
       "      <td>NaN</td>\n",
       "      <td>NaN</td>\n",
       "      <td>NaN</td>\n",
       "      <td>NaN</td>\n",
       "      <td>NaN</td>\n",
       "      <td>NaN</td>\n",
       "      <td>NaN</td>\n",
       "      <td>NaN</td>\n",
       "      <td>NaN</td>\n",
       "    </tr>\n",
       "    <tr>\n",
       "      <th>4</th>\n",
       "      <td>473535</td>\n",
       "      <td>2008-01</td>\n",
       "      <td>75</td>\n",
       "      <td>50.0</td>\n",
       "      <td>7</td>\n",
       "      <td>3.0</td>\n",
       "      <td>5.0</td>\n",
       "      <td>0.0</td>\n",
       "      <td>1.0</td>\n",
       "      <td>0.0</td>\n",
       "      <td>...</td>\n",
       "      <td>1.0</td>\n",
       "      <td>0.0</td>\n",
       "      <td>1.0</td>\n",
       "      <td>2009-01</td>\n",
       "      <td>2009-01</td>\n",
       "      <td>1.0</td>\n",
       "      <td>0.0</td>\n",
       "      <td>1.0</td>\n",
       "      <td>0.0</td>\n",
       "      <td>2012-01</td>\n",
       "    </tr>\n",
       "  </tbody>\n",
       "</table>\n",
       "<p>5 rows × 58 columns</p>\n",
       "</div>"
      ],
      "text/plain": [
       "      EID   RGYEAR  HY    ZCZB  ETYPE  MPNUM  INUM  FINZB  FSTINUM  TZINUM  \\\n",
       "0   32741  2000-01  87   100.0      7    1.0   3.0    0.0      2.0     0.0   \n",
       "1  294220  2003-01  51    50.0      7    0.0   3.0    0.0      0.0     0.0   \n",
       "2   10526  2013-01  75   100.0      7    1.0   2.0    0.0      1.0     0.0   \n",
       "3  237382  2014-01  75  9900.0      7    3.0   4.0    0.0      2.0     0.0   \n",
       "4  473535  2008-01  75    50.0      7    3.0   5.0    0.0      1.0     0.0   \n",
       "\n",
       "            ...             BRANCH_CNT  BRANCH_CNT_INHOME  BRANCH_CNT_OUTHOME  \\\n",
       "0           ...                    NaN                NaN                 NaN   \n",
       "1           ...                    NaN                NaN                 NaN   \n",
       "2           ...                    NaN                NaN                 NaN   \n",
       "3           ...                    NaN                NaN                 NaN   \n",
       "4           ...                    1.0                0.0                 1.0   \n",
       "\n",
       "   BRANCH_FIRST_YEAR  BRANCH_END_YEAR  BRANCH_CLOSE_CNT  BRANCH_OPEN_CNT  \\\n",
       "0                NaN              NaN               NaN              NaN   \n",
       "1                NaN              NaN               NaN              NaN   \n",
       "2                NaN              NaN               NaN              NaN   \n",
       "3                NaN              NaN               NaN              NaN   \n",
       "4            2009-01          2009-01               1.0              0.0   \n",
       "\n",
       "   BRANCH_CLOSE_RATE  BRANCH_OPEN_RATE  BRANCH_FIRST_CLOSE_YEAR  \n",
       "0                NaN               NaN                      NaN  \n",
       "1                NaN               NaN                      NaN  \n",
       "2                NaN               NaN                      NaN  \n",
       "3                NaN               NaN                      NaN  \n",
       "4                1.0               0.0                  2012-01  \n",
       "\n",
       "[5 rows x 58 columns]"
      ]
     },
     "execution_count": 48,
     "metadata": {},
     "output_type": "execute_result"
    }
   ],
   "source": [
    "df_all.head()"
   ]
  },
  {
   "cell_type": "code",
   "execution_count": 49,
   "metadata": {
    "collapsed": false
   },
   "outputs": [
    {
     "name": "stdout",
     "output_type": "stream",
     "text": [
      "{1, 2, 3, 4, 5, 6, 7, 8, 9, 10, 11, 12, 13, 14, 15, 17, 18, 19, 20, 21, 22, 23, 24, 25, 26, 27, 28, 29, 30, 31, 32, 33, 34, 35, 36, 37, 38, 39, 40, 41, 42, 43, 44, 45, 46, 47, 48, 49, 50, 51, 52, 53, 54, 55, 56, 58, 59, 60, 61, 62, 63, 64, 65, 66, 67, 68, 69, 70, 71, 72, 73, 74, 75, 76, 77, 78, 79, 80, 81, 82, 83, 84, 85, 86, 87, 88, 89, 93}\n"
     ]
    }
   ],
   "source": [
    "# 空值填充，根据HY的类别的平均值或者众数进行填充\n",
    "# ['BRANCH_CNT','BRANCH_CNT_INHOME', 'BRANCH_CNT_OUTHOME','BRANCH_CLOSE_CNT','BRANCH_OPEN_CNT', 'BRANCH_CLOSE_RATE', 'BRANCH_OPEN_RATE']使用同一个大类别的均值进行填充\n",
    "# ['BRANCH_FIRST_YEAR','BRANCH_END_YEAR','BRANCH_FIRST_CLOSE_YEAR']使用同一个大类别的众数进行填充\n",
    "\n",
    "\n",
    "\n",
    "HYLIST = set(df_all['HY'])\n",
    "\n",
    "print(HYLIST)\n",
    "\n",
    "meanlist = ['BRANCH_CNT','BRANCH_CNT_INHOME', 'BRANCH_CNT_OUTHOME','BRANCH_CLOSE_CNT','BRANCH_OPEN_CNT', 'BRANCH_CLOSE_RATE', 'BRANCH_OPEN_RATE']\n",
    "modelist = ['BRANCH_FIRST_YEAR','BRANCH_END_YEAR','BRANCH_FIRST_CLOSE_YEAR']\n"
   ]
  },
  {
   "cell_type": "code",
   "execution_count": 50,
   "metadata": {
    "collapsed": false
   },
   "outputs": [
    {
     "name": "stderr",
     "output_type": "stream",
     "text": [
      "/home/xiaoran/anaconda3/lib/python3.5/site-packages/ipykernel/__main__.py:4: UserWarning: Boolean Series key will be reindexed to match DataFrame index.\n",
      "/home/xiaoran/anaconda3/lib/python3.5/site-packages/ipykernel/__main__.py:8: UserWarning: Boolean Series key will be reindexed to match DataFrame index.\n"
     ]
    }
   ],
   "source": [
    "for HY in HYLIST:\n",
    "    # print(df_train['HY'].value_counts())\n",
    "    for d in meanlist:\n",
    "        df_all.loc[df_all[df_all[d].isnull()][df_all['HY']==HY].index,d] = df_all[df_all['HY']==HY][d].mean()\n",
    "    \n",
    "    for c in modelist:\n",
    "        if(len(df_all[df_all['HY']==HY][c].value_counts().index)==0): continue\n",
    "        df_all.loc[df_all[df_all[c].isnull()][df_all['HY']==HY].index,c] = df_all[df_all['HY']==HY][c].value_counts().index[0]\n"
   ]
  },
  {
   "cell_type": "code",
   "execution_count": 20,
   "metadata": {
    "collapsed": true
   },
   "outputs": [],
   "source": [
    "# 测试得到，当两个文件的重复的个数超过70%以上才能进行多合并，否则就进行根文件1的单合并\n",
    "\n",
    "# df_xalter = pd.read_csv('../data/public/2alter_1.csv')\n",
    "# df_tmp = df_xalter[df_xalter['EID'].isin(df_xbranch['EID'])]\n",
    "# len(df_tmp)\n"
   ]
  },
  {
   "cell_type": "code",
   "execution_count": 21,
   "metadata": {
    "collapsed": false
   },
   "outputs": [
    {
     "data": {
      "text/plain": [
       "18922"
      ]
     },
     "execution_count": 21,
     "metadata": {},
     "output_type": "execute_result"
    }
   ],
   "source": [
    "len(df_xbranch)"
   ]
  },
  {
   "cell_type": "code",
   "execution_count": null,
   "metadata": {
    "collapsed": true
   },
   "outputs": [],
   "source": []
  },
  {
   "cell_type": "code",
   "execution_count": 51,
   "metadata": {
    "collapsed": true
   },
   "outputs": [],
   "source": [
    "# 所有关于年的空值使用注册时间填充\n",
    "\n",
    "df_all.loc[df_all['BRANCH_FIRST_YEAR'].isnull(),'BRANCH_FIRST_YEAR'] = df_all.loc[df_all['BRANCH_FIRST_YEAR'].isnull(),'RGYEAR']\n",
    "df_all.loc[df_all['BRANCH_END_YEAR'].isnull(),'BRANCH_END_YEAR'] = df_all.loc[df_all['BRANCH_END_YEAR'].isnull(),'RGYEAR']\n",
    "df_all.loc[df_all['BRANCH_FIRST_CLOSE_YEAR'].isnull(),'BRANCH_FIRST_CLOSE_YEAR'] = df_all.loc[df_all['BRANCH_FIRST_CLOSE_YEAR'].isnull(),'RGYEAR']\n"
   ]
  },
  {
   "cell_type": "code",
   "execution_count": 52,
   "metadata": {
    "collapsed": false
   },
   "outputs": [
    {
     "data": {
      "text/html": [
       "<div>\n",
       "<table border=\"1\" class=\"dataframe\">\n",
       "  <thead>\n",
       "    <tr style=\"text-align: right;\">\n",
       "      <th></th>\n",
       "      <th>EID</th>\n",
       "      <th>RGYEAR</th>\n",
       "      <th>HY</th>\n",
       "      <th>ZCZB</th>\n",
       "      <th>ETYPE</th>\n",
       "      <th>MPNUM</th>\n",
       "      <th>INUM</th>\n",
       "      <th>FINZB</th>\n",
       "      <th>FSTINUM</th>\n",
       "      <th>TZINUM</th>\n",
       "      <th>...</th>\n",
       "      <th>BRANCH_CNT</th>\n",
       "      <th>BRANCH_CNT_INHOME</th>\n",
       "      <th>BRANCH_CNT_OUTHOME</th>\n",
       "      <th>BRANCH_FIRST_YEAR</th>\n",
       "      <th>BRANCH_END_YEAR</th>\n",
       "      <th>BRANCH_CLOSE_CNT</th>\n",
       "      <th>BRANCH_OPEN_CNT</th>\n",
       "      <th>BRANCH_CLOSE_RATE</th>\n",
       "      <th>BRANCH_OPEN_RATE</th>\n",
       "      <th>BRANCH_FIRST_CLOSE_YEAR</th>\n",
       "    </tr>\n",
       "  </thead>\n",
       "  <tbody>\n",
       "    <tr>\n",
       "      <th>0</th>\n",
       "      <td>32741</td>\n",
       "      <td>2000-01</td>\n",
       "      <td>87</td>\n",
       "      <td>100.0</td>\n",
       "      <td>7</td>\n",
       "      <td>1.0</td>\n",
       "      <td>3.0</td>\n",
       "      <td>0.0</td>\n",
       "      <td>2.0</td>\n",
       "      <td>0.0</td>\n",
       "      <td>...</td>\n",
       "      <td>1.669714</td>\n",
       "      <td>0.836571</td>\n",
       "      <td>0.833143</td>\n",
       "      <td>2014-01</td>\n",
       "      <td>2013-01</td>\n",
       "      <td>0.748571</td>\n",
       "      <td>0.921143</td>\n",
       "      <td>0.431498</td>\n",
       "      <td>0.568502</td>\n",
       "      <td>2018-01</td>\n",
       "    </tr>\n",
       "    <tr>\n",
       "      <th>1</th>\n",
       "      <td>294220</td>\n",
       "      <td>2003-01</td>\n",
       "      <td>51</td>\n",
       "      <td>50.0</td>\n",
       "      <td>7</td>\n",
       "      <td>0.0</td>\n",
       "      <td>3.0</td>\n",
       "      <td>0.0</td>\n",
       "      <td>0.0</td>\n",
       "      <td>0.0</td>\n",
       "      <td>...</td>\n",
       "      <td>12.798897</td>\n",
       "      <td>2.308456</td>\n",
       "      <td>10.490441</td>\n",
       "      <td>2004-01</td>\n",
       "      <td>2004-01</td>\n",
       "      <td>1.439706</td>\n",
       "      <td>11.359191</td>\n",
       "      <td>0.496616</td>\n",
       "      <td>0.503384</td>\n",
       "      <td>2018-01</td>\n",
       "    </tr>\n",
       "    <tr>\n",
       "      <th>2</th>\n",
       "      <td>10526</td>\n",
       "      <td>2013-01</td>\n",
       "      <td>75</td>\n",
       "      <td>100.0</td>\n",
       "      <td>7</td>\n",
       "      <td>1.0</td>\n",
       "      <td>2.0</td>\n",
       "      <td>0.0</td>\n",
       "      <td>1.0</td>\n",
       "      <td>0.0</td>\n",
       "      <td>...</td>\n",
       "      <td>2.083667</td>\n",
       "      <td>0.919283</td>\n",
       "      <td>1.164384</td>\n",
       "      <td>2005-01</td>\n",
       "      <td>2004-01</td>\n",
       "      <td>0.984826</td>\n",
       "      <td>1.098841</td>\n",
       "      <td>0.483373</td>\n",
       "      <td>0.516627</td>\n",
       "      <td>2018-01</td>\n",
       "    </tr>\n",
       "    <tr>\n",
       "      <th>3</th>\n",
       "      <td>237382</td>\n",
       "      <td>2014-01</td>\n",
       "      <td>75</td>\n",
       "      <td>9900.0</td>\n",
       "      <td>7</td>\n",
       "      <td>3.0</td>\n",
       "      <td>4.0</td>\n",
       "      <td>0.0</td>\n",
       "      <td>2.0</td>\n",
       "      <td>0.0</td>\n",
       "      <td>...</td>\n",
       "      <td>2.083667</td>\n",
       "      <td>0.919283</td>\n",
       "      <td>1.164384</td>\n",
       "      <td>2005-01</td>\n",
       "      <td>2004-01</td>\n",
       "      <td>0.984826</td>\n",
       "      <td>1.098841</td>\n",
       "      <td>0.483373</td>\n",
       "      <td>0.516627</td>\n",
       "      <td>2018-01</td>\n",
       "    </tr>\n",
       "    <tr>\n",
       "      <th>4</th>\n",
       "      <td>473535</td>\n",
       "      <td>2008-01</td>\n",
       "      <td>75</td>\n",
       "      <td>50.0</td>\n",
       "      <td>7</td>\n",
       "      <td>3.0</td>\n",
       "      <td>5.0</td>\n",
       "      <td>0.0</td>\n",
       "      <td>1.0</td>\n",
       "      <td>0.0</td>\n",
       "      <td>...</td>\n",
       "      <td>1.000000</td>\n",
       "      <td>0.000000</td>\n",
       "      <td>1.000000</td>\n",
       "      <td>2009-01</td>\n",
       "      <td>2009-01</td>\n",
       "      <td>1.000000</td>\n",
       "      <td>0.000000</td>\n",
       "      <td>1.000000</td>\n",
       "      <td>0.000000</td>\n",
       "      <td>2012-01</td>\n",
       "    </tr>\n",
       "  </tbody>\n",
       "</table>\n",
       "<p>5 rows × 58 columns</p>\n",
       "</div>"
      ],
      "text/plain": [
       "      EID   RGYEAR  HY    ZCZB  ETYPE  MPNUM  INUM  FINZB  FSTINUM  TZINUM  \\\n",
       "0   32741  2000-01  87   100.0      7    1.0   3.0    0.0      2.0     0.0   \n",
       "1  294220  2003-01  51    50.0      7    0.0   3.0    0.0      0.0     0.0   \n",
       "2   10526  2013-01  75   100.0      7    1.0   2.0    0.0      1.0     0.0   \n",
       "3  237382  2014-01  75  9900.0      7    3.0   4.0    0.0      2.0     0.0   \n",
       "4  473535  2008-01  75    50.0      7    3.0   5.0    0.0      1.0     0.0   \n",
       "\n",
       "            ...             BRANCH_CNT  BRANCH_CNT_INHOME  BRANCH_CNT_OUTHOME  \\\n",
       "0           ...               1.669714           0.836571            0.833143   \n",
       "1           ...              12.798897           2.308456           10.490441   \n",
       "2           ...               2.083667           0.919283            1.164384   \n",
       "3           ...               2.083667           0.919283            1.164384   \n",
       "4           ...               1.000000           0.000000            1.000000   \n",
       "\n",
       "   BRANCH_FIRST_YEAR  BRANCH_END_YEAR  BRANCH_CLOSE_CNT  BRANCH_OPEN_CNT  \\\n",
       "0            2014-01          2013-01          0.748571         0.921143   \n",
       "1            2004-01          2004-01          1.439706        11.359191   \n",
       "2            2005-01          2004-01          0.984826         1.098841   \n",
       "3            2005-01          2004-01          0.984826         1.098841   \n",
       "4            2009-01          2009-01          1.000000         0.000000   \n",
       "\n",
       "   BRANCH_CLOSE_RATE  BRANCH_OPEN_RATE  BRANCH_FIRST_CLOSE_YEAR  \n",
       "0           0.431498          0.568502                  2018-01  \n",
       "1           0.496616          0.503384                  2018-01  \n",
       "2           0.483373          0.516627                  2018-01  \n",
       "3           0.483373          0.516627                  2018-01  \n",
       "4           1.000000          0.000000                  2012-01  \n",
       "\n",
       "[5 rows x 58 columns]"
      ]
     },
     "execution_count": 52,
     "metadata": {},
     "output_type": "execute_result"
    }
   ],
   "source": [
    "df_all.head()"
   ]
  },
  {
   "cell_type": "code",
   "execution_count": 53,
   "metadata": {
    "collapsed": true
   },
   "outputs": [],
   "source": [
    "def timeDiff(x):\n",
    "    a = x[:x.find(':')]\n",
    "    b = x[x.find(':')+1:]\n",
    "    y = int(a[:a.find('-')]) - int(b[:b.find('-')])\n",
    "    m = int(a[a.find('-')+1:]) - int(b[b.find('-')+1:])\n",
    "    return y * 12 + m\n",
    "    \n",
    "df_all['BRANCH_FIRST_YEAR_RGYEAR_DIFF'] = (df_all['BRANCH_FIRST_YEAR'] + ':' + df_all['RGYEAR']).apply(timeDiff)\n",
    "df_all['BRANCH_END_YEAR_RGYEAR_DIFF'] = (df_all['BRANCH_END_YEAR'] + ':' + df_all['RGYEAR']).apply(timeDiff)\n",
    "\n",
    "df_all['BRANCH_FIRST_CLOSE_YEAR_FIRST_DIFF'] = (df_all['BRANCH_FIRST_CLOSE_YEAR'] + ':' + df_all['BRANCH_FIRST_YEAR']).apply(timeDiff)\n",
    "df_all['BRANCH_FIRST_CLOSE_YEAR_END_DIFF'] = (df_all['BRANCH_FIRST_CLOSE_YEAR'] + ':' + df_all['BRANCH_END_YEAR']).apply(timeDiff)\n",
    "\n"
   ]
  },
  {
   "cell_type": "code",
   "execution_count": 54,
   "metadata": {
    "collapsed": true
   },
   "outputs": [],
   "source": [
    "df_all['PER_BRANCH_MONTH'] = df_all['BRANCH_END_YEAR_RGYEAR_DIFF'] / df_all['BRANCH_CNT']\n",
    "df_all['PER_BRANCH_CLOSE_MONTH'] = df_all['BRANCH_END_YEAR_RGYEAR_DIFF'] / df_all['BRANCH_CLOSE_CNT']\n",
    "\n"
   ]
  },
  {
   "cell_type": "raw",
   "metadata": {},
   "source": [
    "14. 分支结构的数量占所有分支机构平均值的比例, BRANCH_CNT_ALL_RATE = BRANCH_CNT / 所有分支数据的平均值\n",
    "    15. 企业所在大类HY的对应的总分支机构的平均值，BRANCH_HY_AVG\n",
    "    16. 企业所在大类HY的对应的分支机构的平均值占所有机构的平均值的比例，BRANCH_HY_ALL_AVG_RATE\n",
    "    \n",
    "    17. 分支结构的关停数量占所有关停分支机构平均值的比例, BRANCH_CLOSE_CNT_ALL_RATE = BRANCH_CLOSE_CNT / 所有关停分支数据的平均值\n",
    "    18. 企业所在大类HY的对应的关停分支机构的平均值，BRANCH_CLOSE_HY_AVG\n",
    "    19. 企业所在大类HY的对应的关停分支机构的平均值占所有关停机构的平均值的比例，BRANCH_HY_CLOSE_ALL_AVG_RATE\n",
    "    \n",
    "    17. 分支结构的营业数量占所有营业分支机构平均值的比例, BRANCH_OPEN_CNT_ALL_RATE = BRANCH_OPEN_CNT / 所有营业分支数据的平均值\n",
    "    18. 企业所在大类HY的对应的营业分支机构的平均值，BRANCH_OPEN_HY_AVG\n",
    "    19. 企业所在大类HY的对应的营业分支机构的平均值占所有营业机构的平均值的比例，BRANCH_HY_OPEN_ALL_AVG_RATE\n",
    "    \n",
    "    \n",
    "    20. 平均几个月关闭一个分支结构，PER_BRANCH_CLOSE_MONTH =  BRANCH_END_YEAR_RGYEAR_DIFF / BRANCH_CLOSE_CNT \n",
    "    "
   ]
  },
  {
   "cell_type": "code",
   "execution_count": 55,
   "metadata": {
    "collapsed": true
   },
   "outputs": [],
   "source": [
    "df_all['BRANCH_CNT_ALL_RATE'] = df_all['BRANCH_CNT'] / df_all['BRANCH_CNT'].mean()\n",
    "\n",
    "df_all['BRANCH_CLOSE_CNT_ALL_RATE']  = df_all['BRANCH_CLOSE_CNT'] / df_all['BRANCH_CLOSE_CNT'].mean()\n",
    "\n",
    "df_all['BRANCH_OPEN_CNT_ALL_RATE'] = df_all['BRANCH_OPEN_CNT'] / df_all['BRANCH_OPEN_CNT'].mean()\n"
   ]
  },
  {
   "cell_type": "code",
   "execution_count": 56,
   "metadata": {
    "collapsed": true
   },
   "outputs": [],
   "source": [
    "tmp = pd.DataFrame()\n",
    "\n",
    "tmp['BRANCH_HY_AVG'] = df_all.groupby(['HY'],as_index=True,axis=0)['BRANCH_CNT'].mean()\n",
    "tmp['BRANCH_HY_ALL_AVG_RATE'] = tmp['BRANCH_HY_AVG'] / df_all['BRANCH_CNT'].mean()\n",
    "\n",
    "tmp['BRANCH_CLOSE_HY_AVG'] = df_all.groupby(['HY'],as_index=True,axis=0)['BRANCH_CLOSE_CNT'].mean()\n",
    "tmp['BRANCH_HY_CLOSE_ALL_AVG_RATE'] = tmp['BRANCH_CLOSE_HY_AVG'] / df_all['BRANCH_CLOSE_CNT'].mean()\n",
    "\n",
    "tmp['BRANCH_OPEN_HY_AVG'] = df_all.groupby(['HY'],as_index=True,axis=0)['BRANCH_OPEN_CNT'].mean()\n",
    "tmp['BRANCH_HY_OPEN_ALL_AVG_RATE'] = tmp['BRANCH_OPEN_HY_AVG'] / df_all['BRANCH_OPEN_CNT'].mean()\n",
    "\n",
    "\n",
    "tmp['HY'] = tmp.index\n",
    "\n",
    "df_all = pd.merge(df_all,tmp,how='left',on=['HY'])\n"
   ]
  },
  {
   "cell_type": "code",
   "execution_count": null,
   "metadata": {
    "collapsed": true
   },
   "outputs": [],
   "source": []
  },
  {
   "cell_type": "code",
   "execution_count": 57,
   "metadata": {
    "collapsed": false,
    "scrolled": true
   },
   "outputs": [
    {
     "name": "stdout",
     "output_type": "stream",
     "text": [
      "<class 'pandas.core.frame.DataFrame'>\n",
      "Int64Index: 255130 entries, 0 to 255129\n",
      "Data columns (total 73 columns):\n",
      "EID                                   255130 non-null int64\n",
      "RGYEAR                                255130 non-null object\n",
      "HY                                    255130 non-null int64\n",
      "ZCZB                                  255130 non-null float64\n",
      "ETYPE                                 255130 non-null int64\n",
      "MPNUM                                 255130 non-null float64\n",
      "INUM                                  255130 non-null float64\n",
      "FINZB                                 255130 non-null float64\n",
      "FSTINUM                               255130 non-null float64\n",
      "TZINUM                                255130 non-null float64\n",
      "HY_ZCZB_AVG                           255130 non-null float64\n",
      "HY_ZCZB_AVG_RATE                      255130 non-null float64\n",
      "MPNUM_HY_AVG                          255130 non-null float64\n",
      "INUM_HY_AVG                           255130 non-null float64\n",
      "FINZB_HY_AVG                          255130 non-null float64\n",
      "FSTINUM_HY_AVG                        255130 non-null float64\n",
      "TZINUM_HY_AVG                         255130 non-null float64\n",
      "ETYPE_ZCZB_AVG                        255130 non-null float64\n",
      "ETYPE_ZCZB_AVG_RATE                   255130 non-null float64\n",
      "RGYEAR_DIFF                           255130 non-null int64\n",
      "ZCZB_RATE                             255130 non-null float64\n",
      "ETYPE_RATE                            255130 non-null float64\n",
      "MPNUM_HY_AVG_RATE                     255130 non-null float64\n",
      "INUM_HY_AVG_RATE                      255130 non-null float64\n",
      "FINZB_HY_AVG_RATE                     255130 non-null float64\n",
      "FSTINUM_HY_AVG_RATE                   255130 non-null float64\n",
      "TZINUM_HY_AVG_RATE                    255130 non-null float64\n",
      "MPNUM_HY_RATE                         255130 non-null float64\n",
      "INUM_HY_RATE                          255130 non-null float64\n",
      "FINZB_HY_RATE                         255130 non-null float64\n",
      "FSTINUM_HY_RATE                       255130 non-null float64\n",
      "TZINUM_HY_RATE                        255130 non-null float64\n",
      "ALTERNO_SUM                           255130 non-null float64\n",
      "ALTERNO_CNT                           255130 non-null float64\n",
      "ALTERNO_CNT_RATE                      255130 non-null float64\n",
      "FIRST_CHANGE_TIME                     255130 non-null object\n",
      "END_CHANGE_TIME                       255130 non-null object\n",
      "IS_CHANGE                             255130 non-null float64\n",
      "CHANGE_FIRST_ALTERNO                  255130 non-null int64\n",
      "CHANGE_END_ALTERNO                    255130 non-null int64\n",
      "CHANGE_ALTERNO_MUCNID                 255130 non-null int64\n",
      "FIRST_CHANGE_TIME_DIFF                255130 non-null int64\n",
      "END_CHANGE_TIME_DIFF                  255130 non-null int64\n",
      "END_FIRST_CHANGE_TIME_DIFF            255130 non-null int64\n",
      "CHANGE_PRE_CNT                        255130 non-null float64\n",
      "CHANGE_CNT_RATE                       255130 non-null float64\n",
      "CHANGE_HY_CNT_AVG                     255130 non-null float64\n",
      "CHANGE_HY_CNT_ALL_AVG                 255130 non-null float64\n",
      "BRANCH_CNT                            255120 non-null float64\n",
      "BRANCH_CNT_INHOME                     255120 non-null float64\n",
      "BRANCH_CNT_OUTHOME                    255120 non-null float64\n",
      "BRANCH_FIRST_YEAR                     255130 non-null object\n",
      "BRANCH_END_YEAR                       255130 non-null object\n",
      "BRANCH_CLOSE_CNT                      255120 non-null float64\n",
      "BRANCH_OPEN_CNT                       255120 non-null float64\n",
      "BRANCH_CLOSE_RATE                     255120 non-null float64\n",
      "BRANCH_OPEN_RATE                      255120 non-null float64\n",
      "BRANCH_FIRST_CLOSE_YEAR               255130 non-null object\n",
      "BRANCH_FIRST_YEAR_RGYEAR_DIFF         255130 non-null int64\n",
      "BRANCH_END_YEAR_RGYEAR_DIFF           255130 non-null int64\n",
      "BRANCH_FIRST_CLOSE_YEAR_FIRST_DIFF    255130 non-null int64\n",
      "BRANCH_FIRST_CLOSE_YEAR_END_DIFF      255130 non-null int64\n",
      "PER_BRANCH_MONTH                      255120 non-null float64\n",
      "PER_BRANCH_CLOSE_MONTH                253988 non-null float64\n",
      "BRANCH_CNT_ALL_RATE                   255120 non-null float64\n",
      "BRANCH_CLOSE_CNT_ALL_RATE             255120 non-null float64\n",
      "BRANCH_OPEN_CNT_ALL_RATE              255120 non-null float64\n",
      "BRANCH_HY_AVG                         255120 non-null float64\n",
      "BRANCH_HY_ALL_AVG_RATE                255120 non-null float64\n",
      "BRANCH_CLOSE_HY_AVG                   255120 non-null float64\n",
      "BRANCH_HY_CLOSE_ALL_AVG_RATE          255120 non-null float64\n",
      "BRANCH_OPEN_HY_AVG                    255120 non-null float64\n",
      "BRANCH_HY_OPEN_ALL_AVG_RATE           255120 non-null float64\n",
      "dtypes: float64(53), int64(14), object(6)\n",
      "memory usage: 144.0+ MB\n"
     ]
    }
   ],
   "source": [
    "df_all.info()"
   ]
  },
  {
   "cell_type": "code",
   "execution_count": 58,
   "metadata": {
    "collapsed": true
   },
   "outputs": [],
   "source": [
    "# 得到在df_xchange的所有数据，\n",
    "df_all = df_all.fillna(0)\n",
    "\n",
    "df_all.to_csv('../data/alldata/df_data123.csv',index=False,index_label=False)"
   ]
  },
  {
   "cell_type": "code",
   "execution_count": 74,
   "metadata": {
    "collapsed": false
   },
   "outputs": [
    {
     "data": {
      "text/plain": [
       "18922"
      ]
     },
     "execution_count": 74,
     "metadata": {},
     "output_type": "execute_result"
    }
   ],
   "source": [
    "len(df_xall)"
   ]
  },
  {
   "cell_type": "code",
   "execution_count": null,
   "metadata": {
    "collapsed": true
   },
   "outputs": [],
   "source": []
  }
 ],
 "metadata": {
  "anaconda-cloud": {},
  "kernelspec": {
   "display_name": "Python [default]",
   "language": "python",
   "name": "python3"
  },
  "language_info": {
   "codemirror_mode": {
    "name": "ipython",
    "version": 3
   },
   "file_extension": ".py",
   "mimetype": "text/x-python",
   "name": "python",
   "nbconvert_exporter": "python",
   "pygments_lexer": "ipython3",
   "version": "3.5.3"
  }
 },
 "nbformat": 4,
 "nbformat_minor": 2
}
