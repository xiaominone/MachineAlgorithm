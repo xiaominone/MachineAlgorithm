{
 "cells": [
  {
   "cell_type": "code",
   "execution_count": 1,
   "metadata": {
    "collapsed": true
   },
   "outputs": [],
   "source": [
    "import numpy as np\n",
    "import pandas as pd\n",
    "import seaborn as sns\n",
    "import matplotlib.pyplot as plt\n",
    "import pro_data"
   ]
  },
  {
   "cell_type": "markdown",
   "metadata": {},
   "source": [
    "# 招聘数据9recruit.csv 提取特征\n",
    "    1. 企业发布招聘的个数，RECRUIT_CNT\n",
    "    2. 企业发布招聘平台的个数，RECRUIT_WZCODE_CNT\n",
    "    3. 企业发布的招聘数量的均值，RECRUIT_RECRNUM_AVG\n",
    "    \n",
    "    4. 企业发布的招聘数量的和，RECRUIT_RECRNUM_SUM\n",
    "    \n",
    "    5. 企业发布的招聘数量的最多的个数，RECRUIT_RECRNUM_MAX\n",
    "    6. 企业发布的招聘数量的最少的个数，RECRUIT_RECRNUM_MIN\n",
    "    7. 企业发布第一个招聘的日期，RECRUIT_FIRST_TIME\n",
    "    8. 企业发布最后一个招聘的日期，RECRUIT_END_TIME\n",
    "    \n",
    "    9. 企业发布最后一个招聘的日期和第一个招聘日期的差值，RECRUIT_END_FIRST_TIME_DIFF\n",
    "    10. 企业发布最后一个招聘的日期和注册日期的差值，RECRUIT_END_RGYEAR_TIME_DIFF\n",
    "    \n",
    "    ---------------------------------------------------------------------------------------\n",
    "    11. 企业平均一次的招聘几个， RECRUIT_PRE_MONTH_CNT_AVG = RECRUIT_RECRNUM_SUM / RECRUIT_CNT\n",
    "    12. 企业招聘的个数占所有招聘个数个平均值的比例，RECRUIT_CNT_ALL_RATE\n",
    "    \n",
    "    13. 企业对应的大类HY的平均招聘数据的个数，RECRUIT_HY_CNT_AVG\n",
    "    14. 企业对应大类HY的平均招聘个数占所有招聘平均个数的比例，RECRUIT_HY_CNT_ALL_RATE\n",
    "    15. 企业招聘的个数占其对应的大类HY的招聘平均值的比例，RECRUIT_CNT_HY_RATE\n",
    "\n",
    "\n",
    "    16. 企业招聘的数量占所有招聘数量平均值的比例，RECRUIT_RECRNUM_AVG_ALL_RATE\n",
    "    \n",
    "    17. 企业对应的大类HY的平均招聘数据的平均，RECRUIT_HY_RECRNUM_AVG_AVG\n",
    "    18. 企业对应大类HY的平均招聘数量占所有招聘平均数量的比例，RECRUIT_HY_RECRNUM_AVG_ALL_RATE\n",
    "    19. 企业招聘的数量占其对应的大类HY的招聘数量平均值的比例，RECRUIT_RECRNUM_AVG_HY_RATE\n",
    "\n",
    "\n",
    "    20. 企业招聘的数量占所有招聘数量平均值的比例，RECRUIT_RECRNUM_SUM_ALL_RATE\n",
    "    \n",
    "    21. 企业对应的大类HY的平均招聘数据的平均，RECRUIT_HY_RECRNUM_SUM_AVG\n",
    "    22. 企业对应大类HY的平均招聘数量占所有招聘平均数量的比例，RECRUIT_HY_RECRNUM_SUM_ALL_RATE\n",
    "    23. 企业招聘的数量占其对应的大类HY的招聘数量平均值的比例，RECRUIT_RECRNUM_SUM_HY_RATE\n",
    "\n",
    "    \n",
    "    "
   ]
  },
  {
   "cell_type": "code",
   "execution_count": 2,
   "metadata": {
    "collapsed": true
   },
   "outputs": [],
   "source": [
    "df_all = pd.read_csv(\"../data/alldata/df_data12345678.csv\")\n",
    "df_recruit = pd.read_csv(\"../data/public/9recruit.csv\")"
   ]
  },
  {
   "cell_type": "code",
   "execution_count": 3,
   "metadata": {
    "collapsed": false
   },
   "outputs": [
    {
     "name": "stdout",
     "output_type": "stream",
     "text": [
      "<class 'pandas.core.frame.DataFrame'>\n",
      "RangeIndex: 255130 entries, 0 to 255129\n",
      "Columns: 194 entries, EID to BREAKFAITH_CNT_HY_RATE\n",
      "dtypes: float64(119), int64(55), object(20)\n",
      "memory usage: 377.6+ MB\n"
     ]
    },
    {
     "data": {
      "text/html": [
       "<div>\n",
       "<table border=\"1\" class=\"dataframe\">\n",
       "  <thead>\n",
       "    <tr style=\"text-align: right;\">\n",
       "      <th></th>\n",
       "      <th>EID</th>\n",
       "      <th>RGYEAR</th>\n",
       "      <th>HY</th>\n",
       "      <th>ZCZB</th>\n",
       "      <th>ETYPE</th>\n",
       "      <th>MPNUM</th>\n",
       "      <th>INUM</th>\n",
       "      <th>FINZB</th>\n",
       "      <th>FSTINUM</th>\n",
       "      <th>TZINUM</th>\n",
       "      <th>...</th>\n",
       "      <th>BREAKFAITH_END_RGYEAR_DIFF</th>\n",
       "      <th>BREAKFAITH_FIRST_CHANGE_FIRST_DIFF</th>\n",
       "      <th>BREAKFAITH_END_CHANGE_FIRST_DIFF</th>\n",
       "      <th>BREAKFAITH_FIRST_CHANGE_END_DIFF</th>\n",
       "      <th>BREAKFAITH_END_CHANGE_END_DIFF</th>\n",
       "      <th>BREAKFAITH_PRE_MONTH_CNT</th>\n",
       "      <th>BREAKFAITH_CNT_ALL_RATE</th>\n",
       "      <th>BREAKFAITH_HY_CNT_AVG</th>\n",
       "      <th>BREAKFAITH_HY_CNT_ALL_RATE</th>\n",
       "      <th>BREAKFAITH_CNT_HY_RATE</th>\n",
       "    </tr>\n",
       "  </thead>\n",
       "  <tbody>\n",
       "    <tr>\n",
       "      <th>0</th>\n",
       "      <td>32741</td>\n",
       "      <td>2000-01</td>\n",
       "      <td>87</td>\n",
       "      <td>100.0</td>\n",
       "      <td>7</td>\n",
       "      <td>1.0</td>\n",
       "      <td>3.0</td>\n",
       "      <td>0.0</td>\n",
       "      <td>2.0</td>\n",
       "      <td>0.0</td>\n",
       "      <td>...</td>\n",
       "      <td>0</td>\n",
       "      <td>-182</td>\n",
       "      <td>-182</td>\n",
       "      <td>-182</td>\n",
       "      <td>-182</td>\n",
       "      <td>0.0</td>\n",
       "      <td>0.0</td>\n",
       "      <td>0.007324</td>\n",
       "      <td>0.510965</td>\n",
       "      <td>0.0</td>\n",
       "    </tr>\n",
       "    <tr>\n",
       "      <th>1</th>\n",
       "      <td>294220</td>\n",
       "      <td>2003-01</td>\n",
       "      <td>51</td>\n",
       "      <td>50.0</td>\n",
       "      <td>7</td>\n",
       "      <td>0.0</td>\n",
       "      <td>3.0</td>\n",
       "      <td>0.0</td>\n",
       "      <td>0.0</td>\n",
       "      <td>0.0</td>\n",
       "      <td>...</td>\n",
       "      <td>0</td>\n",
       "      <td>-146</td>\n",
       "      <td>-146</td>\n",
       "      <td>-146</td>\n",
       "      <td>-146</td>\n",
       "      <td>0.0</td>\n",
       "      <td>0.0</td>\n",
       "      <td>0.016958</td>\n",
       "      <td>1.183042</td>\n",
       "      <td>0.0</td>\n",
       "    </tr>\n",
       "    <tr>\n",
       "      <th>2</th>\n",
       "      <td>10526</td>\n",
       "      <td>2013-01</td>\n",
       "      <td>75</td>\n",
       "      <td>100.0</td>\n",
       "      <td>7</td>\n",
       "      <td>1.0</td>\n",
       "      <td>2.0</td>\n",
       "      <td>0.0</td>\n",
       "      <td>1.0</td>\n",
       "      <td>0.0</td>\n",
       "      <td>...</td>\n",
       "      <td>0</td>\n",
       "      <td>-26</td>\n",
       "      <td>-26</td>\n",
       "      <td>-26</td>\n",
       "      <td>-26</td>\n",
       "      <td>0.0</td>\n",
       "      <td>0.0</td>\n",
       "      <td>0.009002</td>\n",
       "      <td>0.628041</td>\n",
       "      <td>0.0</td>\n",
       "    </tr>\n",
       "    <tr>\n",
       "      <th>3</th>\n",
       "      <td>237382</td>\n",
       "      <td>2014-01</td>\n",
       "      <td>75</td>\n",
       "      <td>9900.0</td>\n",
       "      <td>7</td>\n",
       "      <td>3.0</td>\n",
       "      <td>4.0</td>\n",
       "      <td>0.0</td>\n",
       "      <td>2.0</td>\n",
       "      <td>0.0</td>\n",
       "      <td>...</td>\n",
       "      <td>0</td>\n",
       "      <td>-14</td>\n",
       "      <td>-14</td>\n",
       "      <td>-14</td>\n",
       "      <td>-14</td>\n",
       "      <td>0.0</td>\n",
       "      <td>0.0</td>\n",
       "      <td>0.009002</td>\n",
       "      <td>0.628041</td>\n",
       "      <td>0.0</td>\n",
       "    </tr>\n",
       "    <tr>\n",
       "      <th>4</th>\n",
       "      <td>473535</td>\n",
       "      <td>2008-01</td>\n",
       "      <td>75</td>\n",
       "      <td>50.0</td>\n",
       "      <td>7</td>\n",
       "      <td>3.0</td>\n",
       "      <td>5.0</td>\n",
       "      <td>0.0</td>\n",
       "      <td>1.0</td>\n",
       "      <td>0.0</td>\n",
       "      <td>...</td>\n",
       "      <td>0</td>\n",
       "      <td>-86</td>\n",
       "      <td>-86</td>\n",
       "      <td>-86</td>\n",
       "      <td>-86</td>\n",
       "      <td>0.0</td>\n",
       "      <td>0.0</td>\n",
       "      <td>0.009002</td>\n",
       "      <td>0.628041</td>\n",
       "      <td>0.0</td>\n",
       "    </tr>\n",
       "  </tbody>\n",
       "</table>\n",
       "<p>5 rows × 194 columns</p>\n",
       "</div>"
      ],
      "text/plain": [
       "      EID   RGYEAR  HY    ZCZB  ETYPE  MPNUM  INUM  FINZB  FSTINUM  TZINUM  \\\n",
       "0   32741  2000-01  87   100.0      7    1.0   3.0    0.0      2.0     0.0   \n",
       "1  294220  2003-01  51    50.0      7    0.0   3.0    0.0      0.0     0.0   \n",
       "2   10526  2013-01  75   100.0      7    1.0   2.0    0.0      1.0     0.0   \n",
       "3  237382  2014-01  75  9900.0      7    3.0   4.0    0.0      2.0     0.0   \n",
       "4  473535  2008-01  75    50.0      7    3.0   5.0    0.0      1.0     0.0   \n",
       "\n",
       "            ...            BREAKFAITH_END_RGYEAR_DIFF  \\\n",
       "0           ...                                     0   \n",
       "1           ...                                     0   \n",
       "2           ...                                     0   \n",
       "3           ...                                     0   \n",
       "4           ...                                     0   \n",
       "\n",
       "   BREAKFAITH_FIRST_CHANGE_FIRST_DIFF  BREAKFAITH_END_CHANGE_FIRST_DIFF  \\\n",
       "0                                -182                              -182   \n",
       "1                                -146                              -146   \n",
       "2                                 -26                               -26   \n",
       "3                                 -14                               -14   \n",
       "4                                 -86                               -86   \n",
       "\n",
       "   BREAKFAITH_FIRST_CHANGE_END_DIFF  BREAKFAITH_END_CHANGE_END_DIFF  \\\n",
       "0                              -182                            -182   \n",
       "1                              -146                            -146   \n",
       "2                               -26                             -26   \n",
       "3                               -14                             -14   \n",
       "4                               -86                             -86   \n",
       "\n",
       "   BREAKFAITH_PRE_MONTH_CNT  BREAKFAITH_CNT_ALL_RATE  BREAKFAITH_HY_CNT_AVG  \\\n",
       "0                       0.0                      0.0               0.007324   \n",
       "1                       0.0                      0.0               0.016958   \n",
       "2                       0.0                      0.0               0.009002   \n",
       "3                       0.0                      0.0               0.009002   \n",
       "4                       0.0                      0.0               0.009002   \n",
       "\n",
       "   BREAKFAITH_HY_CNT_ALL_RATE  BREAKFAITH_CNT_HY_RATE  \n",
       "0                    0.510965                     0.0  \n",
       "1                    1.183042                     0.0  \n",
       "2                    0.628041                     0.0  \n",
       "3                    0.628041                     0.0  \n",
       "4                    0.628041                     0.0  \n",
       "\n",
       "[5 rows x 194 columns]"
      ]
     },
     "execution_count": 3,
     "metadata": {},
     "output_type": "execute_result"
    }
   ],
   "source": [
    "df_all.info()\n",
    "df_all.head()"
   ]
  },
  {
   "cell_type": "code",
   "execution_count": 7,
   "metadata": {
    "collapsed": false
   },
   "outputs": [
    {
     "name": "stdout",
     "output_type": "stream",
     "text": [
      "<class 'pandas.core.frame.DataFrame'>\n",
      "RangeIndex: 31497 entries, 0 to 31496\n",
      "Data columns (total 4 columns):\n",
      "EID        31497 non-null int64\n",
      "WZCODE     31497 non-null object\n",
      "RECRNUM    24892 non-null float64\n",
      "RECDATE    31497 non-null object\n",
      "dtypes: float64(1), int64(1), object(2)\n",
      "memory usage: 984.4+ KB\n"
     ]
    }
   ],
   "source": [
    "df_recruit.info()\n",
    "df_recruit.head()\n",
    "\n",
    "df_recruit = df_recruit.sort_values(['RECDATE'])"
   ]
  },
  {
   "cell_type": "code",
   "execution_count": 8,
   "metadata": {
    "collapsed": true
   },
   "outputs": [],
   "source": [
    "df_recruit['RECRNUM'] = df_recruit['RECRNUM'].fillna(df_recruit['RECRNUM'].mean())"
   ]
  },
  {
   "cell_type": "code",
   "execution_count": 9,
   "metadata": {
    "collapsed": false
   },
   "outputs": [
    {
     "name": "stdout",
     "output_type": "stream",
     "text": [
      "21698\n",
      "Index(['EID', 'WZCODE', 'RECRNUM', 'RECDATE'], dtype='object')\n"
     ]
    }
   ],
   "source": [
    "EIDS = set(df_recruit['EID'])\n",
    "\n",
    "print(len(EIDS))\n",
    "\n",
    "columns = df_recruit.columns\n",
    "df_xrecruit = pd.DataFrame(columns=columns)\n",
    "\n",
    "print(columns)\n"
   ]
  },
  {
   "cell_type": "code",
   "execution_count": 10,
   "metadata": {
    "collapsed": false
   },
   "outputs": [
    {
     "data": {
      "text/plain": [
       "ZP02    14890\n",
       "ZP03    11143\n",
       "ZP01     5464\n",
       "Name: WZCODE, dtype: int64"
      ]
     },
     "execution_count": 10,
     "metadata": {},
     "output_type": "execute_result"
    }
   ],
   "source": [
    "df_recruit['WZCODE'].value_counts()"
   ]
  },
  {
   "cell_type": "code",
   "execution_count": 11,
   "metadata": {
    "collapsed": false
   },
   "outputs": [
    {
     "name": "stdout",
     "output_type": "stream",
     "text": [
      "第%d次处理---------> 0\n",
      "第%d次处理---------> 3000\n",
      "第%d次处理---------> 6000\n",
      "第%d次处理---------> 9000\n",
      "第%d次处理---------> 12000\n",
      "第%d次处理---------> 15000\n",
      "第%d次处理---------> 18000\n",
      "第%d次处理---------> 21000\n"
     ]
    }
   ],
   "source": [
    "k = 0\n",
    "for EID in EIDS:\n",
    "    if k%3000 == 0:\n",
    "        print('第%d次处理--------->',k)\n",
    "    k+=1\n",
    "    tmp = df_recruit[df_recruit['EID'] == EID]\n",
    "    row = [EID,tmp['WZCODE'].values,tmp['RECRNUM'].values,tmp['RECDATE'].values]\n",
    "    \n",
    "    df_xrecruit = df_xrecruit.append(pd.Series(row,columns),ignore_index=True)\n",
    "    "
   ]
  },
  {
   "cell_type": "code",
   "execution_count": 12,
   "metadata": {
    "collapsed": false
   },
   "outputs": [
    {
     "name": "stdout",
     "output_type": "stream",
     "text": [
      "<class 'pandas.core.frame.DataFrame'>\n",
      "RangeIndex: 21698 entries, 0 to 21697\n",
      "Data columns (total 4 columns):\n",
      "EID        21698 non-null float64\n",
      "WZCODE     21698 non-null object\n",
      "RECRNUM    21698 non-null object\n",
      "RECDATE    21698 non-null object\n",
      "dtypes: float64(1), object(3)\n",
      "memory usage: 678.1+ KB\n"
     ]
    },
    {
     "data": {
      "text/html": [
       "<div>\n",
       "<table border=\"1\" class=\"dataframe\">\n",
       "  <thead>\n",
       "    <tr style=\"text-align: right;\">\n",
       "      <th></th>\n",
       "      <th>EID</th>\n",
       "      <th>WZCODE</th>\n",
       "      <th>RECRNUM</th>\n",
       "      <th>RECDATE</th>\n",
       "    </tr>\n",
       "  </thead>\n",
       "  <tbody>\n",
       "    <tr>\n",
       "      <th>0</th>\n",
       "      <td>393217.0</td>\n",
       "      <td>[ZP03]</td>\n",
       "      <td>[1.0]</td>\n",
       "      <td>[2015-03]</td>\n",
       "    </tr>\n",
       "    <tr>\n",
       "      <th>1</th>\n",
       "      <td>524290.0</td>\n",
       "      <td>[ZP01, ZP02, ZP03]</td>\n",
       "      <td>[25.6583239595, 1.0, 2.0]</td>\n",
       "      <td>[2014-09, 2015-03, 2015-03]</td>\n",
       "    </tr>\n",
       "    <tr>\n",
       "      <th>2</th>\n",
       "      <td>163842.0</td>\n",
       "      <td>[ZP02, ZP03]</td>\n",
       "      <td>[29.0, 4.0]</td>\n",
       "      <td>[2015-06, 2015-08]</td>\n",
       "    </tr>\n",
       "    <tr>\n",
       "      <th>3</th>\n",
       "      <td>458761.0</td>\n",
       "      <td>[ZP02]</td>\n",
       "      <td>[1.0]</td>\n",
       "      <td>[2015-07]</td>\n",
       "    </tr>\n",
       "    <tr>\n",
       "      <th>4</th>\n",
       "      <td>491532.0</td>\n",
       "      <td>[ZP02]</td>\n",
       "      <td>[65.0]</td>\n",
       "      <td>[2015-06]</td>\n",
       "    </tr>\n",
       "  </tbody>\n",
       "</table>\n",
       "</div>"
      ],
      "text/plain": [
       "        EID              WZCODE                    RECRNUM  \\\n",
       "0  393217.0              [ZP03]                      [1.0]   \n",
       "1  524290.0  [ZP01, ZP02, ZP03]  [25.6583239595, 1.0, 2.0]   \n",
       "2  163842.0        [ZP02, ZP03]                [29.0, 4.0]   \n",
       "3  458761.0              [ZP02]                      [1.0]   \n",
       "4  491532.0              [ZP02]                     [65.0]   \n",
       "\n",
       "                       RECDATE  \n",
       "0                    [2015-03]  \n",
       "1  [2014-09, 2015-03, 2015-03]  \n",
       "2           [2015-06, 2015-08]  \n",
       "3                    [2015-07]  \n",
       "4                    [2015-06]  "
      ]
     },
     "execution_count": 12,
     "metadata": {},
     "output_type": "execute_result"
    }
   ],
   "source": [
    "df_xrecruit.info()\n",
    "df_xrecruit.head()"
   ]
  },
  {
   "cell_type": "code",
   "execution_count": 13,
   "metadata": {
    "collapsed": true
   },
   "outputs": [],
   "source": [
    "df_xrecruit['RECRUIT_CNT'] = df_xrecruit['WZCODE'].apply(lambda x: len(x))\n",
    "df_xrecruit['RECRUIT_WZCODE_CNT'] = df_xrecruit['WZCODE'].apply(lambda x: len(set(x)))\n",
    "\n",
    "df_xrecruit['RECRUIT_RECRNUM_AVG'] = df_xrecruit['RECRNUM'].apply(lambda x: np.mean(x))\n",
    "df_xrecruit['RECRUIT_RECRNUM_SUM'] = df_xrecruit['RECRNUM'].apply(lambda x: sum(x))\n",
    "df_xrecruit['RECRUIT_RECRNUM_MAX'] = df_xrecruit['RECRNUM'].apply(lambda x: max(x))\n",
    "df_xrecruit['RECRUIT_RECRNUM_MIN'] = df_xrecruit['RECRNUM'].apply(lambda x: min(x))\n",
    "\n",
    "def getFirstTIme(x):\n",
    "    x = list(x)\n",
    "    x.sort()\n",
    "    return x[0]\n",
    "\n",
    "def getEndTIme(x):\n",
    "    x = list(x)\n",
    "    x.sort()\n",
    "    return x[-1]\n",
    "\n",
    "df_xrecruit['RECRUIT_FIRST_TIME'] = df_xrecruit['RECDATE'].apply(getFirstTIme)\n",
    "df_xrecruit['RECRUIT_END_TIME'] = df_xrecruit['RECDATE'].apply(getEndTIme)\n"
   ]
  },
  {
   "cell_type": "code",
   "execution_count": 14,
   "metadata": {
    "collapsed": false
   },
   "outputs": [
    {
     "name": "stdout",
     "output_type": "stream",
     "text": [
      "<class 'pandas.core.frame.DataFrame'>\n",
      "RangeIndex: 21698 entries, 0 to 21697\n",
      "Data columns (total 12 columns):\n",
      "EID                    21698 non-null float64\n",
      "WZCODE                 21698 non-null object\n",
      "RECRNUM                21698 non-null object\n",
      "RECDATE                21698 non-null object\n",
      "RECRUIT_CNT            21698 non-null int64\n",
      "RECRUIT_WZCODE_CNT     21698 non-null int64\n",
      "RECRUIT_RECRNUM_AVG    21698 non-null float64\n",
      "RECRUIT_RECRNUM_SUM    21698 non-null float64\n",
      "RECRUIT_RECRNUM_MAX    21698 non-null float64\n",
      "RECRUIT_RECRNUM_MIN    21698 non-null float64\n",
      "RECRUIT_FIRST_TIME     21698 non-null object\n",
      "RECRUIT_END_TIME       21698 non-null object\n",
      "dtypes: float64(5), int64(2), object(5)\n",
      "memory usage: 2.0+ MB\n"
     ]
    },
    {
     "data": {
      "text/html": [
       "<div>\n",
       "<table border=\"1\" class=\"dataframe\">\n",
       "  <thead>\n",
       "    <tr style=\"text-align: right;\">\n",
       "      <th></th>\n",
       "      <th>EID</th>\n",
       "      <th>WZCODE</th>\n",
       "      <th>RECRNUM</th>\n",
       "      <th>RECDATE</th>\n",
       "      <th>RECRUIT_CNT</th>\n",
       "      <th>RECRUIT_WZCODE_CNT</th>\n",
       "      <th>RECRUIT_RECRNUM_AVG</th>\n",
       "      <th>RECRUIT_RECRNUM_SUM</th>\n",
       "      <th>RECRUIT_RECRNUM_MAX</th>\n",
       "      <th>RECRUIT_RECRNUM_MIN</th>\n",
       "      <th>RECRUIT_FIRST_TIME</th>\n",
       "      <th>RECRUIT_END_TIME</th>\n",
       "    </tr>\n",
       "  </thead>\n",
       "  <tbody>\n",
       "    <tr>\n",
       "      <th>0</th>\n",
       "      <td>393217.0</td>\n",
       "      <td>[ZP03]</td>\n",
       "      <td>[1.0]</td>\n",
       "      <td>[2015-03]</td>\n",
       "      <td>1</td>\n",
       "      <td>1</td>\n",
       "      <td>1.000000</td>\n",
       "      <td>1.000000</td>\n",
       "      <td>1.000000</td>\n",
       "      <td>1.0</td>\n",
       "      <td>2015-03</td>\n",
       "      <td>2015-03</td>\n",
       "    </tr>\n",
       "    <tr>\n",
       "      <th>1</th>\n",
       "      <td>524290.0</td>\n",
       "      <td>[ZP01, ZP02, ZP03]</td>\n",
       "      <td>[25.6583239595, 1.0, 2.0]</td>\n",
       "      <td>[2014-09, 2015-03, 2015-03]</td>\n",
       "      <td>3</td>\n",
       "      <td>3</td>\n",
       "      <td>9.552775</td>\n",
       "      <td>28.658324</td>\n",
       "      <td>25.658324</td>\n",
       "      <td>1.0</td>\n",
       "      <td>2014-09</td>\n",
       "      <td>2015-03</td>\n",
       "    </tr>\n",
       "    <tr>\n",
       "      <th>2</th>\n",
       "      <td>163842.0</td>\n",
       "      <td>[ZP02, ZP03]</td>\n",
       "      <td>[29.0, 4.0]</td>\n",
       "      <td>[2015-06, 2015-08]</td>\n",
       "      <td>2</td>\n",
       "      <td>2</td>\n",
       "      <td>16.500000</td>\n",
       "      <td>33.000000</td>\n",
       "      <td>29.000000</td>\n",
       "      <td>4.0</td>\n",
       "      <td>2015-06</td>\n",
       "      <td>2015-08</td>\n",
       "    </tr>\n",
       "    <tr>\n",
       "      <th>3</th>\n",
       "      <td>458761.0</td>\n",
       "      <td>[ZP02]</td>\n",
       "      <td>[1.0]</td>\n",
       "      <td>[2015-07]</td>\n",
       "      <td>1</td>\n",
       "      <td>1</td>\n",
       "      <td>1.000000</td>\n",
       "      <td>1.000000</td>\n",
       "      <td>1.000000</td>\n",
       "      <td>1.0</td>\n",
       "      <td>2015-07</td>\n",
       "      <td>2015-07</td>\n",
       "    </tr>\n",
       "    <tr>\n",
       "      <th>4</th>\n",
       "      <td>491532.0</td>\n",
       "      <td>[ZP02]</td>\n",
       "      <td>[65.0]</td>\n",
       "      <td>[2015-06]</td>\n",
       "      <td>1</td>\n",
       "      <td>1</td>\n",
       "      <td>65.000000</td>\n",
       "      <td>65.000000</td>\n",
       "      <td>65.000000</td>\n",
       "      <td>65.0</td>\n",
       "      <td>2015-06</td>\n",
       "      <td>2015-06</td>\n",
       "    </tr>\n",
       "  </tbody>\n",
       "</table>\n",
       "</div>"
      ],
      "text/plain": [
       "        EID              WZCODE                    RECRNUM  \\\n",
       "0  393217.0              [ZP03]                      [1.0]   \n",
       "1  524290.0  [ZP01, ZP02, ZP03]  [25.6583239595, 1.0, 2.0]   \n",
       "2  163842.0        [ZP02, ZP03]                [29.0, 4.0]   \n",
       "3  458761.0              [ZP02]                      [1.0]   \n",
       "4  491532.0              [ZP02]                     [65.0]   \n",
       "\n",
       "                       RECDATE  RECRUIT_CNT  RECRUIT_WZCODE_CNT  \\\n",
       "0                    [2015-03]            1                   1   \n",
       "1  [2014-09, 2015-03, 2015-03]            3                   3   \n",
       "2           [2015-06, 2015-08]            2                   2   \n",
       "3                    [2015-07]            1                   1   \n",
       "4                    [2015-06]            1                   1   \n",
       "\n",
       "   RECRUIT_RECRNUM_AVG  RECRUIT_RECRNUM_SUM  RECRUIT_RECRNUM_MAX  \\\n",
       "0             1.000000             1.000000             1.000000   \n",
       "1             9.552775            28.658324            25.658324   \n",
       "2            16.500000            33.000000            29.000000   \n",
       "3             1.000000             1.000000             1.000000   \n",
       "4            65.000000            65.000000            65.000000   \n",
       "\n",
       "   RECRUIT_RECRNUM_MIN RECRUIT_FIRST_TIME RECRUIT_END_TIME  \n",
       "0                  1.0            2015-03          2015-03  \n",
       "1                  1.0            2014-09          2015-03  \n",
       "2                  4.0            2015-06          2015-08  \n",
       "3                  1.0            2015-07          2015-07  \n",
       "4                 65.0            2015-06          2015-06  "
      ]
     },
     "execution_count": 14,
     "metadata": {},
     "output_type": "execute_result"
    }
   ],
   "source": [
    "df_xrecruit.info()\n",
    "df_xrecruit.head()"
   ]
  },
  {
   "cell_type": "code",
   "execution_count": 15,
   "metadata": {
    "collapsed": false
   },
   "outputs": [
    {
     "data": {
      "text/plain": [
       "Index(['EID', 'WZCODE', 'RECRNUM', 'RECDATE', 'RECRUIT_CNT',\n",
       "       'RECRUIT_WZCODE_CNT', 'RECRUIT_RECRNUM_AVG', 'RECRUIT_RECRNUM_SUM',\n",
       "       'RECRUIT_RECRNUM_MAX', 'RECRUIT_RECRNUM_MIN', 'RECRUIT_FIRST_TIME',\n",
       "       'RECRUIT_END_TIME'],\n",
       "      dtype='object')"
      ]
     },
     "execution_count": 15,
     "metadata": {},
     "output_type": "execute_result"
    }
   ],
   "source": [
    "df_xrecruit.to_csv('../data/public/9recruit_1.csv',index=False,index_label=False)\n",
    "df_xrecruit.columns\n",
    "\n"
   ]
  },
  {
   "cell_type": "code",
   "execution_count": 16,
   "metadata": {
    "collapsed": true
   },
   "outputs": [],
   "source": [
    "df_all = pd.merge(df_all,df_xrecruit[['EID','RECRUIT_CNT','RECRUIT_WZCODE_CNT', 'RECRUIT_RECRNUM_AVG', 'RECRUIT_RECRNUM_SUM',\n",
    "                                      'RECRUIT_RECRNUM_MAX', 'RECRUIT_RECRNUM_MIN', 'RECRUIT_FIRST_TIME',\n",
    "                                      'RECRUIT_END_TIME']],how='left',on=['EID'])\n",
    "\n"
   ]
  },
  {
   "cell_type": "code",
   "execution_count": 17,
   "metadata": {
    "collapsed": false
   },
   "outputs": [
    {
     "name": "stdout",
     "output_type": "stream",
     "text": [
      "{1, 2, 3, 4, 5, 6, 7, 8, 9, 10, 11, 12, 13, 14, 15, 17, 18, 19, 20, 21, 22, 23, 24, 25, 26, 27, 28, 29, 30, 31, 32, 33, 34, 35, 36, 37, 38, 39, 40, 41, 42, 43, 44, 45, 46, 47, 48, 49, 50, 51, 52, 53, 54, 55, 56, 58, 59, 60, 61, 62, 63, 64, 65, 66, 67, 68, 69, 70, 71, 72, 73, 74, 75, 76, 77, 78, 79, 80, 81, 82, 83, 84, 85, 86, 87, 88, 89, 93}\n"
     ]
    }
   ],
   "source": [
    "# 空值填充，根据HY的类别的平均值或者众数进行填充\n",
    "# ['RIGHT_CNT','RIGHT_TYPE_CNT', 'RIGHT_TYPE_RATE']使用同一个大类别的均值进行填充\n",
    "# ['RIGHT_FIRST_TYPECODE','RIGHT_END_TYPECODE', 'RIGHT_TYPECODE_MUCHID', 'RIGHT_FIRST_ASK_TIME',\n",
    "#     'RIGHT_FIRST_FB_TIME', 'RIGHT_END_ASK_TIME', 'RIGHT_END_FB_TIME']使用同一个大类别的众数进行填充\n",
    "\n",
    "HYLIST = set(df_all['HY'])\n",
    "print(HYLIST)\n",
    "\n",
    "meanlist = ['RECRUIT_CNT','RECRUIT_WZCODE_CNT', 'RECRUIT_RECRNUM_AVG', 'RECRUIT_RECRNUM_SUM','RECRUIT_RECRNUM_MAX','RECRUIT_RECRNUM_MIN']\n",
    "modelist = ['RECRUIT_FIRST_TIME','RECRUIT_END_TIME']"
   ]
  },
  {
   "cell_type": "code",
   "execution_count": 18,
   "metadata": {
    "collapsed": false
   },
   "outputs": [
    {
     "name": "stderr",
     "output_type": "stream",
     "text": [
      "/home/xiaoran/anaconda3/lib/python3.5/site-packages/ipykernel/__main__.py:4: UserWarning: Boolean Series key will be reindexed to match DataFrame index.\n",
      "/home/xiaoran/anaconda3/lib/python3.5/site-packages/ipykernel/__main__.py:8: UserWarning: Boolean Series key will be reindexed to match DataFrame index.\n"
     ]
    }
   ],
   "source": [
    "for HY in HYLIST:\n",
    "    # print(df_train['HY'].value_counts())\n",
    "    for d in meanlist:\n",
    "        df_all.loc[df_all[df_all[d].isnull()][df_all['HY']==HY].index,d] = df_all[df_all['HY']==HY][d].mean()\n",
    "    \n",
    "    for c in modelist:\n",
    "        if(len(df_all[df_all['HY']==HY][c].value_counts().index)==0): continue\n",
    "        df_all.loc[df_all[df_all[c].isnull()][df_all['HY']==HY].index,c] = df_all[df_all['HY']==HY][c].value_counts().index[0]\n"
   ]
  },
  {
   "cell_type": "code",
   "execution_count": 19,
   "metadata": {
    "collapsed": true
   },
   "outputs": [],
   "source": [
    "for d in meanlist:\n",
    "    df_all.loc[df_all[d].isnull(),d] = 0\n",
    "\n",
    "for c in modelist:\n",
    "    df_all.loc[df_all[c].isnull(),c] = df_all[c].value_counts().index[0]\n"
   ]
  },
  {
   "cell_type": "code",
   "execution_count": 20,
   "metadata": {
    "collapsed": true
   },
   "outputs": [],
   "source": [
    "def timeDiff(x):\n",
    "    a = x[:x.find(':')]\n",
    "    b = x[x.find(':')+1:]\n",
    "    y = int(a[:a.find('-')]) - int(b[:b.find('-')])\n",
    "    m = int(a[a.find('-')+1:]) - int(b[b.find('-')+1:])\n",
    "    return y * 12 + m\n",
    "\n",
    "\n",
    "df_all['RECRUIT_END_FIRST_TIME_DIFF'] = (df_all['RECRUIT_END_TIME'] + ':' + df_all['RECRUIT_FIRST_TIME']).apply(timeDiff)\n",
    "df_all['RECRUIT_END_RGYEAR_TIME_DIFF'] = (df_all['RECRUIT_END_TIME'] + ':' + df_all['RGYEAR']).apply(timeDiff)\n"
   ]
  },
  {
   "cell_type": "raw",
   "metadata": {},
   "source": [
    "---------------------------------------------------------------------------------------\n",
    "    11. 企业平均一次的招聘几个， RECRUIT_PRE_MONTH_CNT_AVG = RECRUIT_RECRNUM_SUM / RECRUIT_CNT\n",
    "    12. 企业招聘的个数占所有招聘个数个平均值的比例，RECRUIT_CNT_ALL_RATE\n",
    "    \n",
    "    13. 企业对应的大类HY的平均招聘数据的个数，RECRUIT_HY_CNT_AVG\n",
    "    14. 企业对应大类HY的平均招聘个数占所有招聘平均个数的比例，RECRUIT_HY_CNT_ALL_RATE\n",
    "    15. 企业招聘的个数占其对应的大类HY的招聘平均值的比例，RECRUIT_CNT_HY_RATE\n",
    "\n",
    "    RECRUIT_RECRNUM_AVG\n",
    "    16. 企业招聘的数量占所有招聘数量平均值的比例，RECRUIT_RECRNUM_AVG_ALL_RATE\n",
    "    \n",
    "    17. 企业对应的大类HY的平均招聘数据的平均，RECRUIT_HY_RECRNUM_AVG_AVG\n",
    "    18. 企业对应大类HY的平均招聘数量占所有招聘平均数量的比例，RECRUIT_HY_RECRNUM_AVG_ALL_RATE\n",
    "    19. 企业招聘的数量占其对应的大类HY的招聘数量平均值的比例，RECRUIT_RECRNUM_AVG_HY_RATE\n",
    "\n",
    "    RECRUIT_RECRNUM_SUM\n",
    "    20. 企业招聘的数量占所有招聘数量平均值的比例，RECRUIT_RECRNUM_SUM_ALL_RATE\n",
    "    \n",
    "    21. 企业对应的大类HY的平均招聘数据的平均，RECRUIT_HY_RECRNUM_SUM_AVG\n",
    "    22. 企业对应大类HY的平均招聘数量占所有招聘平均数量的比例，RECRUIT_HY_RECRNUM_SUM_ALL_RATE\n",
    "    23. 企业招聘的数量占其对应的大类HY的招聘数量平均值的比例，RECRUIT_RECRNUM_SUM_HY_RATE\n"
   ]
  },
  {
   "cell_type": "code",
   "execution_count": 22,
   "metadata": {
    "collapsed": true
   },
   "outputs": [],
   "source": [
    "df_all['RECRUIT_PRE_MONTH_CNT_AVG'] = df_all['RECRUIT_RECRNUM_SUM'] / df_all['RECRUIT_CNT']\n",
    "df_all['RECRUIT_CNT_ALL_RATE'] = df_all['RECRUIT_CNT'] / df_all['RECRUIT_CNT'].mean()\n",
    "\n",
    "df_all['RECRUIT_RECRNUM_AVG_ALL_RATE'] = df_all['RECRUIT_RECRNUM_AVG'] / df_all['RECRUIT_RECRNUM_AVG'].mean()\n",
    "df_all['RECRUIT_RECRNUM_SUM_ALL_RATE'] = df_all['RECRUIT_RECRNUM_SUM'] / df_all['RECRUIT_RECRNUM_SUM'].mean()\n",
    "\n"
   ]
  },
  {
   "cell_type": "code",
   "execution_count": 23,
   "metadata": {
    "collapsed": true
   },
   "outputs": [],
   "source": [
    "\n",
    "tmp = pd.DataFrame()\n",
    "\n",
    "tmp['RECRUIT_HY_CNT_AVG'] = df_all.groupby(['HY'],as_index=True,axis=0)['RECRUIT_CNT'].mean()\n",
    "tmp['RECRUIT_HY_CNT_ALL_RATE'] = tmp['RECRUIT_HY_CNT_AVG'] / df_all['RECRUIT_CNT'].mean()\n",
    "\n",
    "tmp['RECRUIT_HY_RECRNUM_AVG_AVG'] = df_all.groupby(['HY'],as_index=True,axis=0)['RECRUIT_RECRNUM_AVG'].mean()\n",
    "tmp['RECRUIT_HY_RECRNUM_AVG_ALL_RATE'] = tmp['RECRUIT_HY_RECRNUM_AVG_AVG'] / df_all['RECRUIT_RECRNUM_AVG'].mean()\n",
    "\n",
    "tmp['RECRUIT_HY_RECRNUM_SUM_AVG'] = df_all.groupby(['HY'],as_index=True,axis=0)['RECRUIT_RECRNUM_SUM'].mean()\n",
    "tmp['RECRUIT_HY_RECRNUM_SUM_ALL_RATE'] = tmp['RECRUIT_HY_RECRNUM_SUM_AVG'] / df_all['RECRUIT_RECRNUM_SUM'].mean()\n",
    "\n",
    "\n",
    "tmp['HY'] = tmp.index\n",
    "\n",
    "df_all = pd.merge(df_all,tmp,how='left',on=['HY'])\n"
   ]
  },
  {
   "cell_type": "code",
   "execution_count": 24,
   "metadata": {
    "collapsed": true
   },
   "outputs": [],
   "source": [
    "df_all['RECRUIT_CNT_HY_RATE'] = df_all['RECRUIT_CNT'] / df_all['RECRUIT_HY_CNT_AVG']\n",
    "\n",
    "df_all['RECRUIT_RECRNUM_AVG_HY_RATE'] = df_all['RECRUIT_RECRNUM_AVG'] / df_all['RECRUIT_HY_RECRNUM_AVG_AVG']\n",
    "\n",
    "df_all['RECRUIT_RECRNUM_SUM_HY_RATE'] = df_all['RECRUIT_RECRNUM_SUM'] / df_all['RECRUIT_HY_RECRNUM_SUM_AVG']"
   ]
  },
  {
   "cell_type": "code",
   "execution_count": 26,
   "metadata": {
    "collapsed": false
   },
   "outputs": [
    {
     "data": {
      "text/html": [
       "<div>\n",
       "<table border=\"1\" class=\"dataframe\">\n",
       "  <thead>\n",
       "    <tr style=\"text-align: right;\">\n",
       "      <th></th>\n",
       "      <th>EID</th>\n",
       "      <th>RGYEAR</th>\n",
       "      <th>HY</th>\n",
       "      <th>ZCZB</th>\n",
       "      <th>ETYPE</th>\n",
       "      <th>MPNUM</th>\n",
       "      <th>INUM</th>\n",
       "      <th>FINZB</th>\n",
       "      <th>FSTINUM</th>\n",
       "      <th>TZINUM</th>\n",
       "      <th>...</th>\n",
       "      <th>RECRUIT_RECRNUM_SUM_ALL_RATE</th>\n",
       "      <th>RECRUIT_HY_CNT_AVG</th>\n",
       "      <th>RECRUIT_HY_CNT_ALL_RATE</th>\n",
       "      <th>RECRUIT_HY_RECRNUM_AVG_AVG</th>\n",
       "      <th>RECRUIT_HY_RECRNUM_AVG_ALL_RATE</th>\n",
       "      <th>RECRUIT_HY_RECRNUM_SUM_AVG</th>\n",
       "      <th>RECRUIT_HY_RECRNUM_SUM_ALL_RATE</th>\n",
       "      <th>RECRUIT_CNT_HY_RATE</th>\n",
       "      <th>RECRUIT_RECRNUM_AVG_HY_RATE</th>\n",
       "      <th>RECRUIT_RECRNUM_SUM_HY_RATE</th>\n",
       "    </tr>\n",
       "  </thead>\n",
       "  <tbody>\n",
       "    <tr>\n",
       "      <th>0</th>\n",
       "      <td>32741</td>\n",
       "      <td>2000-01</td>\n",
       "      <td>87</td>\n",
       "      <td>100.0</td>\n",
       "      <td>7</td>\n",
       "      <td>1.0</td>\n",
       "      <td>3.0</td>\n",
       "      <td>0.0</td>\n",
       "      <td>2.0</td>\n",
       "      <td>0.0</td>\n",
       "      <td>...</td>\n",
       "      <td>0.916616</td>\n",
       "      <td>1.347780</td>\n",
       "      <td>0.948013</td>\n",
       "      <td>21.686580</td>\n",
       "      <td>0.970677</td>\n",
       "      <td>31.917034</td>\n",
       "      <td>0.916616</td>\n",
       "      <td>1.0</td>\n",
       "      <td>1.0</td>\n",
       "      <td>1.0</td>\n",
       "    </tr>\n",
       "    <tr>\n",
       "      <th>1</th>\n",
       "      <td>294220</td>\n",
       "      <td>2003-01</td>\n",
       "      <td>51</td>\n",
       "      <td>50.0</td>\n",
       "      <td>7</td>\n",
       "      <td>0.0</td>\n",
       "      <td>3.0</td>\n",
       "      <td>0.0</td>\n",
       "      <td>0.0</td>\n",
       "      <td>0.0</td>\n",
       "      <td>...</td>\n",
       "      <td>0.830936</td>\n",
       "      <td>1.349887</td>\n",
       "      <td>0.949495</td>\n",
       "      <td>20.295759</td>\n",
       "      <td>0.908425</td>\n",
       "      <td>28.933608</td>\n",
       "      <td>0.830936</td>\n",
       "      <td>1.0</td>\n",
       "      <td>1.0</td>\n",
       "      <td>1.0</td>\n",
       "    </tr>\n",
       "    <tr>\n",
       "      <th>2</th>\n",
       "      <td>10526</td>\n",
       "      <td>2013-01</td>\n",
       "      <td>75</td>\n",
       "      <td>100.0</td>\n",
       "      <td>7</td>\n",
       "      <td>1.0</td>\n",
       "      <td>2.0</td>\n",
       "      <td>0.0</td>\n",
       "      <td>1.0</td>\n",
       "      <td>0.0</td>\n",
       "      <td>...</td>\n",
       "      <td>1.042778</td>\n",
       "      <td>1.509529</td>\n",
       "      <td>1.061785</td>\n",
       "      <td>21.546885</td>\n",
       "      <td>0.964424</td>\n",
       "      <td>36.310029</td>\n",
       "      <td>1.042778</td>\n",
       "      <td>1.0</td>\n",
       "      <td>1.0</td>\n",
       "      <td>1.0</td>\n",
       "    </tr>\n",
       "    <tr>\n",
       "      <th>3</th>\n",
       "      <td>237382</td>\n",
       "      <td>2014-01</td>\n",
       "      <td>75</td>\n",
       "      <td>9900.0</td>\n",
       "      <td>7</td>\n",
       "      <td>3.0</td>\n",
       "      <td>4.0</td>\n",
       "      <td>0.0</td>\n",
       "      <td>2.0</td>\n",
       "      <td>0.0</td>\n",
       "      <td>...</td>\n",
       "      <td>1.042778</td>\n",
       "      <td>1.509529</td>\n",
       "      <td>1.061785</td>\n",
       "      <td>21.546885</td>\n",
       "      <td>0.964424</td>\n",
       "      <td>36.310029</td>\n",
       "      <td>1.042778</td>\n",
       "      <td>1.0</td>\n",
       "      <td>1.0</td>\n",
       "      <td>1.0</td>\n",
       "    </tr>\n",
       "    <tr>\n",
       "      <th>4</th>\n",
       "      <td>473535</td>\n",
       "      <td>2008-01</td>\n",
       "      <td>75</td>\n",
       "      <td>50.0</td>\n",
       "      <td>7</td>\n",
       "      <td>3.0</td>\n",
       "      <td>5.0</td>\n",
       "      <td>0.0</td>\n",
       "      <td>1.0</td>\n",
       "      <td>0.0</td>\n",
       "      <td>...</td>\n",
       "      <td>1.042778</td>\n",
       "      <td>1.509529</td>\n",
       "      <td>1.061785</td>\n",
       "      <td>21.546885</td>\n",
       "      <td>0.964424</td>\n",
       "      <td>36.310029</td>\n",
       "      <td>1.042778</td>\n",
       "      <td>1.0</td>\n",
       "      <td>1.0</td>\n",
       "      <td>1.0</td>\n",
       "    </tr>\n",
       "  </tbody>\n",
       "</table>\n",
       "<p>5 rows × 217 columns</p>\n",
       "</div>"
      ],
      "text/plain": [
       "      EID   RGYEAR  HY    ZCZB  ETYPE  MPNUM  INUM  FINZB  FSTINUM  TZINUM  \\\n",
       "0   32741  2000-01  87   100.0      7    1.0   3.0    0.0      2.0     0.0   \n",
       "1  294220  2003-01  51    50.0      7    0.0   3.0    0.0      0.0     0.0   \n",
       "2   10526  2013-01  75   100.0      7    1.0   2.0    0.0      1.0     0.0   \n",
       "3  237382  2014-01  75  9900.0      7    3.0   4.0    0.0      2.0     0.0   \n",
       "4  473535  2008-01  75    50.0      7    3.0   5.0    0.0      1.0     0.0   \n",
       "\n",
       "              ...               RECRUIT_RECRNUM_SUM_ALL_RATE  \\\n",
       "0             ...                                   0.916616   \n",
       "1             ...                                   0.830936   \n",
       "2             ...                                   1.042778   \n",
       "3             ...                                   1.042778   \n",
       "4             ...                                   1.042778   \n",
       "\n",
       "   RECRUIT_HY_CNT_AVG  RECRUIT_HY_CNT_ALL_RATE  RECRUIT_HY_RECRNUM_AVG_AVG  \\\n",
       "0            1.347780                 0.948013                   21.686580   \n",
       "1            1.349887                 0.949495                   20.295759   \n",
       "2            1.509529                 1.061785                   21.546885   \n",
       "3            1.509529                 1.061785                   21.546885   \n",
       "4            1.509529                 1.061785                   21.546885   \n",
       "\n",
       "   RECRUIT_HY_RECRNUM_AVG_ALL_RATE  RECRUIT_HY_RECRNUM_SUM_AVG  \\\n",
       "0                         0.970677                   31.917034   \n",
       "1                         0.908425                   28.933608   \n",
       "2                         0.964424                   36.310029   \n",
       "3                         0.964424                   36.310029   \n",
       "4                         0.964424                   36.310029   \n",
       "\n",
       "   RECRUIT_HY_RECRNUM_SUM_ALL_RATE  RECRUIT_CNT_HY_RATE  \\\n",
       "0                         0.916616                  1.0   \n",
       "1                         0.830936                  1.0   \n",
       "2                         1.042778                  1.0   \n",
       "3                         1.042778                  1.0   \n",
       "4                         1.042778                  1.0   \n",
       "\n",
       "   RECRUIT_RECRNUM_AVG_HY_RATE  RECRUIT_RECRNUM_SUM_HY_RATE  \n",
       "0                          1.0                          1.0  \n",
       "1                          1.0                          1.0  \n",
       "2                          1.0                          1.0  \n",
       "3                          1.0                          1.0  \n",
       "4                          1.0                          1.0  \n",
       "\n",
       "[5 rows x 217 columns]"
      ]
     },
     "execution_count": 26,
     "metadata": {},
     "output_type": "execute_result"
    }
   ],
   "source": [
    "# df_all.info()\n",
    "df_all.head()\n"
   ]
  },
  {
   "cell_type": "code",
   "execution_count": 27,
   "metadata": {
    "collapsed": true
   },
   "outputs": [],
   "source": [
    "# 得到在df_xchange的所有数据，\n",
    "df_all = df_all.fillna(0)\n",
    "df_all.to_csv('../data/alldata/df_data123456789.csv',index=False,index_label=False)\n",
    "\n"
   ]
  },
  {
   "cell_type": "code",
   "execution_count": null,
   "metadata": {
    "collapsed": true
   },
   "outputs": [],
   "source": []
  }
 ],
 "metadata": {
  "anaconda-cloud": {},
  "kernelspec": {
   "display_name": "Python [default]",
   "language": "python",
   "name": "python3"
  },
  "language_info": {
   "codemirror_mode": {
    "name": "ipython",
    "version": 3
   },
   "file_extension": ".py",
   "mimetype": "text/x-python",
   "name": "python",
   "nbconvert_exporter": "python",
   "pygments_lexer": "ipython3",
   "version": "3.5.2"
  }
 },
 "nbformat": 4,
 "nbformat_minor": 2
}
