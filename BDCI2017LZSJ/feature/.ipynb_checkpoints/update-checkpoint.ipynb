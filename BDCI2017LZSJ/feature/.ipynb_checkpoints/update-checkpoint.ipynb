{
 "cells": [
  {
   "cell_type": "code",
   "execution_count": 3,
   "metadata": {
    "collapsed": true
   },
   "outputs": [],
   "source": [
    "import pandas as pd\n",
    "import numpy as np\n"
   ]
  },
  {
   "cell_type": "code",
   "execution_count": 4,
   "metadata": {
    "collapsed": true
   },
   "outputs": [],
   "source": [
    "df_data1 = pd.read_csv('../data/alldata/df_data1.csv')\n"
   ]
  },
  {
   "cell_type": "code",
   "execution_count": 5,
   "metadata": {},
   "outputs": [],
   "source": [
    "paths = ['../data/alldata/df_data123.csv',\n",
    "         '../data/alldata/df_data1234.csv',\n",
    "         '../data/alldata/df_data12345.csv',\n",
    "         '../data/alldata/df_data123456.csv',\n",
    "         '../data/alldata/df_data1234567.csv',\n",
    "         '../data/alldata/df_data12345678.csv',\n",
    "         '../data/alldata/df_data123456789.csv',\n",
    "         '../data/alldata/df_data12345679.csv',\n",
    "         '../data/alldata/df_data1234567_1.csv',\n",
    "         '../data/alldata/df_data123456_1.csv',\n",
    "         '../data/alldata/df_data123457.csv',\n",
    "         '../data/alldata/df_data1234579.csv']\n",
    "         \n",
    "newfeatures = ['EID','HY_ZCZB_AVG', 'HY_ZCZB_AVG_RATE', 'MPNUM_HY_AVG','INUM_HY_AVG', 'FINZB_HY_AVG', \n",
    "                'FSTINUM_HY_AVG', 'TZINUM_HY_AVG','ETYPE_ZCZB_AVG', 'ETYPE_ZCZB_AVG_RATE', \n",
    "                'MPNUM_HY_AVG_RATE','INUM_HY_AVG_RATE', 'FINZB_HY_AVG_RATE', 'FSTINUM_HY_AVG_RATE',\n",
    "                'TZINUM_HY_AVG_RATE', 'MPNUM_HY_RATE', 'INUM_HY_RATE', 'FINZB_HY_RATE',\n",
    "                'FSTINUM_HY_RATE', 'TZINUM_HY_RATE']\n",
    "\n",
    "updatefeature = 'RGYEAR_DIFF'\n"
   ]
  },
  {
   "cell_type": "code",
   "execution_count": 7,
   "metadata": {},
   "outputs": [],
   "source": [
    "for path in paths:\n",
    "    df_dataX = pd.read_csv(path)\n",
    "    df_dataX = pd.merge(df_dataX,df_data1[newfeatures],how='left',on=['EID'])\n",
    "    df_dataX[updatefeature] = df_data1[updatefeature]\n",
    "    df_dataX.to_csv(path,index=False,index_label=False)\n",
    "\n",
    "\n",
    "    "
   ]
  },
  {
   "cell_type": "code",
   "execution_count": 24,
   "metadata": {},
   "outputs": [
    {
     "data": {
      "text/plain": [
       "Index(['EID', 'RGYEAR', 'RGYEAR_DIFF', 'ZCZB', 'HY', 'ETYPE', 'ZCZB_RATE',\n",
       "       'ETYPE_RATE', 'MPNUM', 'INUM', 'FINZB', 'FSTINUM', 'TZINUM',\n",
       "       'ALTERNO_SUM', 'ALTERNO_CNT', 'ALTERNO_CNT_RATE', 'FIRST_CHANGE_TIME',\n",
       "       'END_CHANGE_TIME', 'IS_CHANGE', 'CHANGE_FIRST_ALTERNO',\n",
       "       'CHANGE_END_ALTERNO', 'CHANGE_ALTERNO_MUCNID', 'FIRST_CHANGE_TIME_DIFF',\n",
       "       'END_FIRST_CHANGE_TIME_DIFF'],\n",
       "      dtype='object')"
      ]
     },
     "execution_count": 24,
     "metadata": {},
     "output_type": "execute_result"
    }
   ],
   "source": []
  },
  {
   "cell_type": "code",
   "execution_count": null,
   "metadata": {
    "scrolled": true
   },
   "outputs": [],
   "source": []
  },
  {
   "cell_type": "code",
   "execution_count": null,
   "metadata": {
    "scrolled": true
   },
   "outputs": [],
   "source": []
  },
  {
   "cell_type": "code",
   "execution_count": 25,
   "metadata": {
    "collapsed": true
   },
   "outputs": [],
   "source": []
  },
  {
   "cell_type": "code",
   "execution_count": 26,
   "metadata": {},
   "outputs": [],
   "source": []
  },
  {
   "cell_type": "code",
   "execution_count": 27,
   "metadata": {
    "scrolled": true
   },
   "outputs": [],
   "source": []
  },
  {
   "cell_type": "code",
   "execution_count": 28,
   "metadata": {
    "collapsed": true
   },
   "outputs": [],
   "source": []
  },
  {
   "cell_type": "code",
   "execution_count": null,
   "metadata": {
    "collapsed": true
   },
   "outputs": [],
   "source": []
  }
 ],
 "metadata": {
  "kernelspec": {
   "display_name": "Python 3",
   "language": "python",
   "name": "python3"
  },
  "language_info": {
   "codemirror_mode": {
    "name": "ipython",
    "version": 3
   },
   "file_extension": ".py",
   "mimetype": "text/x-python",
   "name": "python",
   "nbconvert_exporter": "python",
   "pygments_lexer": "ipython3",
   "version": "3.6.1"
  }
 },
 "nbformat": 4,
 "nbformat_minor": 2
}
