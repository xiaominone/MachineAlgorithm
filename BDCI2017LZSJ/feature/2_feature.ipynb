{
 "cells": [
  {
   "cell_type": "code",
   "execution_count": 1,
   "metadata": {
    "collapsed": true,
    "scrolled": true
   },
   "outputs": [],
   "source": [
    "import numpy as np\n",
    "import pandas as pd\n",
    "import seaborn as sns\n",
    "import matplotlib.pyplot as plt\n",
    "import re\n",
    "import pro_data"
   ]
  },
  {
   "cell_type": "markdown",
   "metadata": {},
   "source": [
    "# 企业变更数据的对应特征(2alter.csv)\n",
    "    \n",
    "    1. 变更的事件的总个数, ALTERNO_SUM\n",
    "    2. 变更的事件的类型的种类数, ALTERNO_CNT\n",
    "    3. 变更的事件的类型的种类数 / 所有事件的总总的类别数, ALTERNO_CNT_RATE\n",
    "    4. 第一次变更时间, FIRST_CHANGE_TIME\n",
    "    5. 第一次变更距离企业注册时间的差（单位：月）,不存在变更事件的用0填充, FIRST_CHANGE_TIME_DIFF\n",
    "    6. 最后一次变更时间, END_CHANGE_TIME\n",
    "    7. 最后一次变更时间距离企业注册时间的差值，END_CHANGE_TIME_DIFF\n",
    "    8. 最后一次变更距离第一次事件变更时间的差（单位：月）,不存在变更事件的用0填充, END_FIRST_CHANGE_TIME_DIFF\n",
    "\n",
    "    9. 变更的事件是否发生了前后的值得变化（1/0）, IS_CHANGE\n",
    "    10. 第一次变更事件的类型，CHANGE_FIRST_ALTERNO\n",
    "    11. 最后一次变更事件的类型，CHANGE_END_ALTERNO\n",
    "    12. 最多的变更事件的类型，CHANGE_ALTERNO_MUCNID\n",
    "    \n",
    "    新加特征\n",
    "    -------------------------------------------------------------------------------------------------------\n",
    "    13. 平均每几个月变更一次事件，CHANGE_PRE_CNT = ALTERNO_SUM / END_CHANGE_TIME_DIFF\n",
    "    14. 每个企业变更事件的个数占所有企业变更事件平均值的比例， CHANGE_CNT_RATE = ALTERNO_SUM / AVG \n",
    "    15. 企业对应大类HY的平均变更次数，CHANGE_HY_CNT_AVG\n",
    "    16. 企业对应大类HY的平均变更次数占所有变更时间的个数的平均值的比例，CHANGE_HY_CNT_ALL_AVG\n",
    "\n",
    "\n"
   ]
  },
  {
   "cell_type": "code",
   "execution_count": 2,
   "metadata": {
    "collapsed": true
   },
   "outputs": [],
   "source": [
    "df_all = pd.read_csv(\"../data/alldata/df_data1.csv\")\n",
    "df_change = pd.read_csv(\"../data/public/2alter.csv\")"
   ]
  },
  {
   "cell_type": "code",
   "execution_count": 3,
   "metadata": {
    "collapsed": false
   },
   "outputs": [
    {
     "data": {
      "text/plain": [
       "7     206500\n",
       "6      18375\n",
       "8      11114\n",
       "17      8798\n",
       "5       3890\n",
       "16      3543\n",
       "13      1597\n",
       "3        843\n",
       "2        339\n",
       "1        111\n",
       "4         20\n",
       "Name: ETYPE, dtype: int64"
      ]
     },
     "execution_count": 3,
     "metadata": {},
     "output_type": "execute_result"
    }
   ],
   "source": [
    "df_all['ETYPE'].value_counts()"
   ]
  },
  {
   "cell_type": "code",
   "execution_count": 31,
   "metadata": {
    "collapsed": false
   },
   "outputs": [
    {
     "name": "stdout",
     "output_type": "stream",
     "text": [
      "<class 'pandas.core.frame.DataFrame'>\n",
      "RangeIndex: 302104 entries, 0 to 302103\n",
      "Data columns (total 5 columns):\n",
      "EID        302104 non-null int64\n",
      "ALTERNO    302104 non-null object\n",
      "ALTDATE    302104 non-null object\n",
      "ALTBE      37519 non-null object\n",
      "ALTAF      37537 non-null object\n",
      "dtypes: int64(1), object(4)\n",
      "memory usage: 11.5+ MB\n"
     ]
    },
    {
     "data": {
      "text/html": [
       "<div>\n",
       "<table border=\"1\" class=\"dataframe\">\n",
       "  <thead>\n",
       "    <tr style=\"text-align: right;\">\n",
       "      <th></th>\n",
       "      <th>EID</th>\n",
       "      <th>ALTERNO</th>\n",
       "      <th>ALTDATE</th>\n",
       "      <th>ALTBE</th>\n",
       "      <th>ALTAF</th>\n",
       "    </tr>\n",
       "  </thead>\n",
       "  <tbody>\n",
       "    <tr>\n",
       "      <th>0</th>\n",
       "      <td>350</td>\n",
       "      <td>12</td>\n",
       "      <td>2015-02</td>\n",
       "      <td>NaN</td>\n",
       "      <td>NaN</td>\n",
       "    </tr>\n",
       "    <tr>\n",
       "      <th>1</th>\n",
       "      <td>399</td>\n",
       "      <td>05</td>\n",
       "      <td>2014-01</td>\n",
       "      <td>10</td>\n",
       "      <td>50</td>\n",
       "    </tr>\n",
       "    <tr>\n",
       "      <th>2</th>\n",
       "      <td>399</td>\n",
       "      <td>12</td>\n",
       "      <td>2015-05</td>\n",
       "      <td>NaN</td>\n",
       "      <td>NaN</td>\n",
       "    </tr>\n",
       "    <tr>\n",
       "      <th>3</th>\n",
       "      <td>399</td>\n",
       "      <td>12</td>\n",
       "      <td>2013-12</td>\n",
       "      <td>NaN</td>\n",
       "      <td>NaN</td>\n",
       "    </tr>\n",
       "    <tr>\n",
       "      <th>4</th>\n",
       "      <td>399</td>\n",
       "      <td>27</td>\n",
       "      <td>2014-01</td>\n",
       "      <td>10</td>\n",
       "      <td>50</td>\n",
       "    </tr>\n",
       "  </tbody>\n",
       "</table>\n",
       "</div>"
      ],
      "text/plain": [
       "   EID ALTERNO  ALTDATE ALTBE ALTAF\n",
       "0  350      12  2015-02   NaN   NaN\n",
       "1  399      05  2014-01    10    50\n",
       "2  399      12  2015-05   NaN   NaN\n",
       "3  399      12  2013-12   NaN   NaN\n",
       "4  399      27  2014-01    10    50"
      ]
     },
     "execution_count": 31,
     "metadata": {},
     "output_type": "execute_result"
    }
   ],
   "source": [
    "df_change.info()\n",
    "df_change.head()"
   ]
  },
  {
   "cell_type": "code",
   "execution_count": null,
   "metadata": {
    "collapsed": true
   },
   "outputs": [],
   "source": []
  },
  {
   "cell_type": "code",
   "execution_count": 32,
   "metadata": {
    "collapsed": false
   },
   "outputs": [
    {
     "name": "stdout",
     "output_type": "stream",
     "text": [
      "<class 'pandas.core.frame.DataFrame'>\n",
      "RangeIndex: 255130 entries, 0 to 255129\n",
      "Data columns (total 32 columns):\n",
      "EID                    255130 non-null int64\n",
      "RGYEAR                 255130 non-null object\n",
      "HY                     255130 non-null int64\n",
      "ZCZB                   255130 non-null float64\n",
      "ETYPE                  255130 non-null int64\n",
      "MPNUM                  255130 non-null float64\n",
      "INUM                   255130 non-null float64\n",
      "FINZB                  255130 non-null float64\n",
      "FSTINUM                255130 non-null float64\n",
      "TZINUM                 255130 non-null float64\n",
      "HY_ZCZB_AVG            255130 non-null float64\n",
      "HY_ZCZB_AVG_RATE       255130 non-null float64\n",
      "MPNUM_HY_AVG           255130 non-null float64\n",
      "INUM_HY_AVG            255130 non-null float64\n",
      "FINZB_HY_AVG           255130 non-null float64\n",
      "FSTINUM_HY_AVG         255130 non-null float64\n",
      "TZINUM_HY_AVG          255130 non-null float64\n",
      "ETYPE_ZCZB_AVG         255130 non-null float64\n",
      "ETYPE_ZCZB_AVG_RATE    255130 non-null float64\n",
      "RGYEAR_DIFF            255130 non-null int64\n",
      "ZCZB_RATE              255130 non-null float64\n",
      "ETYPE_RATE             255130 non-null float64\n",
      "MPNUM_HY_AVG_RATE      255130 non-null float64\n",
      "INUM_HY_AVG_RATE       255130 non-null float64\n",
      "FINZB_HY_AVG_RATE      255130 non-null float64\n",
      "FSTINUM_HY_AVG_RATE    255130 non-null float64\n",
      "TZINUM_HY_AVG_RATE     255130 non-null float64\n",
      "MPNUM_HY_RATE          255130 non-null float64\n",
      "INUM_HY_RATE           255130 non-null float64\n",
      "FINZB_HY_RATE          255130 non-null float64\n",
      "FSTINUM_HY_RATE        255130 non-null float64\n",
      "TZINUM_HY_RATE         255130 non-null float64\n",
      "dtypes: float64(27), int64(4), object(1)\n",
      "memory usage: 62.3+ MB\n"
     ]
    }
   ],
   "source": [
    "df_all.info()"
   ]
  },
  {
   "cell_type": "code",
   "execution_count": 4,
   "metadata": {
    "collapsed": true
   },
   "outputs": [],
   "source": [
    "df_change = df_change.sort_values(['EID','ALTDATE'])\n"
   ]
  },
  {
   "cell_type": "code",
   "execution_count": 5,
   "metadata": {
    "collapsed": true
   },
   "outputs": [],
   "source": [
    "df_change = df_change.fillna('0')\n",
    "columns = ['EID', 'ALTERNO', 'ALTDATE', 'ALTBE', 'ALTAF']\n",
    "df_xchange = pd.DataFrame(columns=['EID', 'ALTERNO', 'ALTDATE', 'ALTBE', 'ALTAF'])"
   ]
  },
  {
   "cell_type": "code",
   "execution_count": 6,
   "metadata": {
    "collapsed": false
   },
   "outputs": [
    {
     "data": {
      "text/plain": [
       "96967"
      ]
     },
     "execution_count": 6,
     "metadata": {},
     "output_type": "execute_result"
    }
   ],
   "source": [
    "EIDS = set(df_change['EID'])\n",
    "\n",
    "len(EIDS)"
   ]
  },
  {
   "cell_type": "code",
   "execution_count": 7,
   "metadata": {
    "collapsed": true
   },
   "outputs": [
    {
     "name": "stdout",
     "output_type": "stream",
     "text": [
      "第%d次处理---------> 0\n",
      "第%d次处理---------> 3000\n",
      "第%d次处理---------> 6000\n",
      "第%d次处理---------> 9000\n",
      "第%d次处理---------> 12000\n",
      "第%d次处理---------> 15000\n",
      "第%d次处理---------> 18000\n",
      "第%d次处理---------> 21000\n",
      "第%d次处理---------> 24000\n",
      "第%d次处理---------> 27000\n",
      "第%d次处理---------> 30000\n",
      "第%d次处理---------> 33000\n",
      "第%d次处理---------> 36000\n",
      "第%d次处理---------> 39000\n",
      "第%d次处理---------> 42000\n",
      "第%d次处理---------> 45000\n",
      "第%d次处理---------> 48000\n",
      "第%d次处理---------> 51000\n",
      "第%d次处理---------> 54000\n",
      "第%d次处理---------> 57000\n",
      "第%d次处理---------> 60000\n",
      "第%d次处理---------> 63000\n",
      "第%d次处理---------> 66000\n",
      "第%d次处理---------> 69000\n",
      "第%d次处理---------> 72000\n",
      "第%d次处理---------> 75000\n",
      "第%d次处理---------> 78000\n",
      "第%d次处理---------> 81000\n",
      "第%d次处理---------> 84000\n",
      "第%d次处理---------> 87000\n",
      "第%d次处理---------> 90000\n",
      "第%d次处理---------> 93000\n",
      "第%d次处理---------> 96000\n"
     ]
    }
   ],
   "source": [
    "k = 0\n",
    "for EID in EIDS:\n",
    "    if k%3000 == 0:\n",
    "        print('第%d次处理--------->',k)\n",
    "    k+=1\n",
    "    tmp = df_change[df_change['EID'] == EID]\n",
    "    row = [EID,tmp['ALTERNO'].values,tmp['ALTDATE'].values,tmp['ALTBE'].values,tmp['ALTAF'].values]\n",
    "    \n",
    "    df_xchange = df_xchange.append(pd.Series(row,columns),ignore_index=True)\n",
    "    "
   ]
  },
  {
   "cell_type": "code",
   "execution_count": 8,
   "metadata": {
    "collapsed": false,
    "scrolled": false
   },
   "outputs": [
    {
     "name": "stdout",
     "output_type": "stream",
     "text": [
      "<class 'pandas.core.frame.DataFrame'>\n",
      "RangeIndex: 96967 entries, 0 to 96966\n",
      "Data columns (total 5 columns):\n",
      "EID        96967 non-null float64\n",
      "ALTERNO    96967 non-null object\n",
      "ALTDATE    96967 non-null object\n",
      "ALTBE      96967 non-null object\n",
      "ALTAF      96967 non-null object\n",
      "dtypes: float64(1), object(4)\n",
      "memory usage: 3.7+ MB\n"
     ]
    },
    {
     "data": {
      "text/html": [
       "<div>\n",
       "<table border=\"1\" class=\"dataframe\">\n",
       "  <thead>\n",
       "    <tr style=\"text-align: right;\">\n",
       "      <th></th>\n",
       "      <th>EID</th>\n",
       "      <th>ALTERNO</th>\n",
       "      <th>ALTDATE</th>\n",
       "      <th>ALTBE</th>\n",
       "      <th>ALTAF</th>\n",
       "    </tr>\n",
       "  </thead>\n",
       "  <tbody>\n",
       "    <tr>\n",
       "      <th>0</th>\n",
       "      <td>524290.0</td>\n",
       "      <td>[A_015, 03, A_015, 03, A_015, A_015]</td>\n",
       "      <td>[2013-09, 2013-09, 2013-09, 2013-09, 2014-02, ...</td>\n",
       "      <td>[0, 0, 0, 0, 0, 0]</td>\n",
       "      <td>[0, 0, 0, 0, 0, 0]</td>\n",
       "    </tr>\n",
       "    <tr>\n",
       "      <th>1</th>\n",
       "      <td>5.0</td>\n",
       "      <td>[12]</td>\n",
       "      <td>[2015-04]</td>\n",
       "      <td>[0]</td>\n",
       "      <td>[0]</td>\n",
       "    </tr>\n",
       "    <tr>\n",
       "      <th>2</th>\n",
       "      <td>524293.0</td>\n",
       "      <td>[12]</td>\n",
       "      <td>[2013-11]</td>\n",
       "      <td>[0]</td>\n",
       "      <td>[0]</td>\n",
       "    </tr>\n",
       "    <tr>\n",
       "      <th>3</th>\n",
       "      <td>262153.0</td>\n",
       "      <td>[04, 10, 05]</td>\n",
       "      <td>[2014-12, 2014-12, 2014-12]</td>\n",
       "      <td>[0, 0, 50]</td>\n",
       "      <td>[0, 0, 200]</td>\n",
       "    </tr>\n",
       "    <tr>\n",
       "      <th>4</th>\n",
       "      <td>262154.0</td>\n",
       "      <td>[99, 12]</td>\n",
       "      <td>[2013-11, 2013-11]</td>\n",
       "      <td>[0, 0]</td>\n",
       "      <td>[0, 0]</td>\n",
       "    </tr>\n",
       "  </tbody>\n",
       "</table>\n",
       "</div>"
      ],
      "text/plain": [
       "        EID                               ALTERNO  \\\n",
       "0  524290.0  [A_015, 03, A_015, 03, A_015, A_015]   \n",
       "1       5.0                                  [12]   \n",
       "2  524293.0                                  [12]   \n",
       "3  262153.0                          [04, 10, 05]   \n",
       "4  262154.0                              [99, 12]   \n",
       "\n",
       "                                             ALTDATE               ALTBE  \\\n",
       "0  [2013-09, 2013-09, 2013-09, 2013-09, 2014-02, ...  [0, 0, 0, 0, 0, 0]   \n",
       "1                                          [2015-04]                 [0]   \n",
       "2                                          [2013-11]                 [0]   \n",
       "3                        [2014-12, 2014-12, 2014-12]          [0, 0, 50]   \n",
       "4                                 [2013-11, 2013-11]              [0, 0]   \n",
       "\n",
       "                ALTAF  \n",
       "0  [0, 0, 0, 0, 0, 0]  \n",
       "1                 [0]  \n",
       "2                 [0]  \n",
       "3         [0, 0, 200]  \n",
       "4              [0, 0]  "
      ]
     },
     "execution_count": 8,
     "metadata": {},
     "output_type": "execute_result"
    }
   ],
   "source": [
    "df_xchange.info()\n",
    "df_xchange.head()\n",
    "\n"
   ]
  },
  {
   "cell_type": "code",
   "execution_count": 9,
   "metadata": {
    "collapsed": false
   },
   "outputs": [
    {
     "data": {
      "text/plain": [
       "{'01', '02', '03', '04', '05', '10', '12', '13', '14', '27', '99', 'A_015'}"
      ]
     },
     "execution_count": 9,
     "metadata": {},
     "output_type": "execute_result"
    }
   ],
   "source": [
    "set(df_change['ALTERNO'])"
   ]
  },
  {
   "cell_type": "code",
   "execution_count": 10,
   "metadata": {
    "collapsed": true
   },
   "outputs": [],
   "source": [
    "def getFAlterno(x):\n",
    "    m = x[0]\n",
    "    if m == 'A_015':\n",
    "        m = m[3:]\n",
    "    return m\n",
    "\n",
    "def getEAlterno(x):\n",
    "    m = x[-1]\n",
    "    if m == 'A_015':\n",
    "        m = m[3:]\n",
    "    return m\n",
    "\n",
    "def getMAlterno(x):\n",
    "    x = list(x)\n",
    "    m = x[0]\n",
    "    k = 0\n",
    "    for i in x:\n",
    "        if k<x.count(i):\n",
    "            k=x.count(i)\n",
    "            m = i\n",
    "    if m == 'A_015':\n",
    "        m = m[3:]\n",
    "    return m\n",
    "\n",
    "\n",
    "df_xchange['CHANGE_FIRST_ALTERNO'] = df_xchange['ALTERNO'].apply(getFAlterno)\n",
    "df_xchange['CHANGE_END_ALTERNO'] = df_xchange['ALTERNO'].apply(getEAlterno)\n",
    "df_xchange['CHANGE_ALTERNO_MUCNID'] = df_xchange['ALTERNO'].apply(getMAlterno)\n"
   ]
  },
  {
   "cell_type": "code",
   "execution_count": 11,
   "metadata": {
    "collapsed": false
   },
   "outputs": [
    {
     "data": {
      "text/html": [
       "<div>\n",
       "<table border=\"1\" class=\"dataframe\">\n",
       "  <thead>\n",
       "    <tr style=\"text-align: right;\">\n",
       "      <th></th>\n",
       "      <th>EID</th>\n",
       "      <th>ALTERNO</th>\n",
       "      <th>ALTDATE</th>\n",
       "      <th>ALTBE</th>\n",
       "      <th>ALTAF</th>\n",
       "      <th>CHANGE_FIRST_ALTERNO</th>\n",
       "      <th>CHANGE_END_ALTERNO</th>\n",
       "      <th>CHANGE_ALTERNO_MUCNID</th>\n",
       "    </tr>\n",
       "  </thead>\n",
       "  <tbody>\n",
       "    <tr>\n",
       "      <th>0</th>\n",
       "      <td>524290.0</td>\n",
       "      <td>[A_015, 03, A_015, 03, A_015, A_015]</td>\n",
       "      <td>[2013-09, 2013-09, 2013-09, 2013-09, 2014-02, ...</td>\n",
       "      <td>[0, 0, 0, 0, 0, 0]</td>\n",
       "      <td>[0, 0, 0, 0, 0, 0]</td>\n",
       "      <td>15</td>\n",
       "      <td>15</td>\n",
       "      <td>15</td>\n",
       "    </tr>\n",
       "    <tr>\n",
       "      <th>1</th>\n",
       "      <td>5.0</td>\n",
       "      <td>[12]</td>\n",
       "      <td>[2015-04]</td>\n",
       "      <td>[0]</td>\n",
       "      <td>[0]</td>\n",
       "      <td>12</td>\n",
       "      <td>12</td>\n",
       "      <td>12</td>\n",
       "    </tr>\n",
       "    <tr>\n",
       "      <th>2</th>\n",
       "      <td>524293.0</td>\n",
       "      <td>[12]</td>\n",
       "      <td>[2013-11]</td>\n",
       "      <td>[0]</td>\n",
       "      <td>[0]</td>\n",
       "      <td>12</td>\n",
       "      <td>12</td>\n",
       "      <td>12</td>\n",
       "    </tr>\n",
       "    <tr>\n",
       "      <th>3</th>\n",
       "      <td>262153.0</td>\n",
       "      <td>[04, 10, 05]</td>\n",
       "      <td>[2014-12, 2014-12, 2014-12]</td>\n",
       "      <td>[0, 0, 50]</td>\n",
       "      <td>[0, 0, 200]</td>\n",
       "      <td>04</td>\n",
       "      <td>05</td>\n",
       "      <td>04</td>\n",
       "    </tr>\n",
       "    <tr>\n",
       "      <th>4</th>\n",
       "      <td>262154.0</td>\n",
       "      <td>[99, 12]</td>\n",
       "      <td>[2013-11, 2013-11]</td>\n",
       "      <td>[0, 0]</td>\n",
       "      <td>[0, 0]</td>\n",
       "      <td>99</td>\n",
       "      <td>12</td>\n",
       "      <td>99</td>\n",
       "    </tr>\n",
       "  </tbody>\n",
       "</table>\n",
       "</div>"
      ],
      "text/plain": [
       "        EID                               ALTERNO  \\\n",
       "0  524290.0  [A_015, 03, A_015, 03, A_015, A_015]   \n",
       "1       5.0                                  [12]   \n",
       "2  524293.0                                  [12]   \n",
       "3  262153.0                          [04, 10, 05]   \n",
       "4  262154.0                              [99, 12]   \n",
       "\n",
       "                                             ALTDATE               ALTBE  \\\n",
       "0  [2013-09, 2013-09, 2013-09, 2013-09, 2014-02, ...  [0, 0, 0, 0, 0, 0]   \n",
       "1                                          [2015-04]                 [0]   \n",
       "2                                          [2013-11]                 [0]   \n",
       "3                        [2014-12, 2014-12, 2014-12]          [0, 0, 50]   \n",
       "4                                 [2013-11, 2013-11]              [0, 0]   \n",
       "\n",
       "                ALTAF CHANGE_FIRST_ALTERNO CHANGE_END_ALTERNO  \\\n",
       "0  [0, 0, 0, 0, 0, 0]                   15                 15   \n",
       "1                 [0]                   12                 12   \n",
       "2                 [0]                   12                 12   \n",
       "3         [0, 0, 200]                   04                 05   \n",
       "4              [0, 0]                   99                 12   \n",
       "\n",
       "  CHANGE_ALTERNO_MUCNID  \n",
       "0                    15  \n",
       "1                    12  \n",
       "2                    12  \n",
       "3                    04  \n",
       "4                    99  "
      ]
     },
     "execution_count": 11,
     "metadata": {},
     "output_type": "execute_result"
    }
   ],
   "source": [
    "df_xchange.head()"
   ]
  },
  {
   "cell_type": "code",
   "execution_count": 12,
   "metadata": {
    "collapsed": true,
    "scrolled": true
   },
   "outputs": [],
   "source": [
    "k = len(set(df_change['ALTERNO']))"
   ]
  },
  {
   "cell_type": "code",
   "execution_count": 13,
   "metadata": {
    "collapsed": true,
    "scrolled": true
   },
   "outputs": [],
   "source": [
    "def totalcnt(x):\n",
    "    return len(x)\n",
    "\n",
    "df_xchange['ALTERNO_SUM'] = df_xchange['ALTERNO'].apply(totalcnt)\n",
    "\n",
    "def cnt(x):\n",
    "    return len(set(x))\n",
    "\n",
    "df_xchange['ALTERNO_CNT'] = df_xchange['ALTERNO'].apply(cnt)\n",
    "\n",
    "df_xchange['ALTERNO_CNT_RATE'] = df_xchange['ALTERNO_CNT'] / k\n",
    "\n",
    "def getFirst(x):\n",
    "    x.sort()\n",
    "    return x[0]\n",
    "\n",
    "df_xchange['FIRST_CHANGE_TIME'] = df_xchange['ALTDATE'].apply(getFirst)\n",
    "\n",
    "def getEnd(x):\n",
    "    x.sort()\n",
    "    return x[-1]\n",
    "\n",
    "df_xchange['END_CHANGE_TIME'] = df_xchange['ALTDATE'].apply(getEnd)\n",
    "\n",
    "def equal(x):\n",
    "    ok = 0\n",
    "    for d in x:\n",
    "        if d[:d.find(\":\")] != d[d.find(\":\")+1:]:\n",
    "            ok = 1\n",
    "    return ok\n",
    "df_xchange['IS_CHANGE'] = (df_xchange['ALTBE'] +':'+ df_xchange['ALTAF']).apply(equal)"
   ]
  },
  {
   "cell_type": "code",
   "execution_count": 13,
   "metadata": {
    "collapsed": true
   },
   "outputs": [],
   "source": [
    "df_xchange.to_csv('../data/public/2alter_1.csv',index=False,index_label=False)\n",
    "\n",
    "# df_xchange = pd.read_csv('../data/public/2alter_1.csv')"
   ]
  },
  {
   "cell_type": "code",
   "execution_count": 33,
   "metadata": {
    "collapsed": true,
    "scrolled": true
   },
   "outputs": [],
   "source": [
    "df_all = pd.merge(df_all,df_xchange[['EID', 'ALTERNO_SUM','ALTERNO_CNT', 'ALTERNO_CNT_RATE', 'FIRST_CHANGE_TIME',\n",
    "                            'END_CHANGE_TIME', 'IS_CHANGE','CHANGE_FIRST_ALTERNO','CHANGE_END_ALTERNO','CHANGE_ALTERNO_MUCNID']],how='left',on=['EID'])"
   ]
  },
  {
   "cell_type": "code",
   "execution_count": 34,
   "metadata": {
    "collapsed": false,
    "scrolled": true
   },
   "outputs": [
    {
     "name": "stdout",
     "output_type": "stream",
     "text": [
      "<class 'pandas.core.frame.DataFrame'>\n",
      "Int64Index: 255130 entries, 0 to 255129\n",
      "Data columns (total 41 columns):\n",
      "EID                      255130 non-null int64\n",
      "RGYEAR                   255130 non-null object\n",
      "HY                       255130 non-null int64\n",
      "ZCZB                     255130 non-null float64\n",
      "ETYPE                    255130 non-null int64\n",
      "MPNUM                    255130 non-null float64\n",
      "INUM                     255130 non-null float64\n",
      "FINZB                    255130 non-null float64\n",
      "FSTINUM                  255130 non-null float64\n",
      "TZINUM                   255130 non-null float64\n",
      "HY_ZCZB_AVG              255130 non-null float64\n",
      "HY_ZCZB_AVG_RATE         255130 non-null float64\n",
      "MPNUM_HY_AVG             255130 non-null float64\n",
      "INUM_HY_AVG              255130 non-null float64\n",
      "FINZB_HY_AVG             255130 non-null float64\n",
      "FSTINUM_HY_AVG           255130 non-null float64\n",
      "TZINUM_HY_AVG            255130 non-null float64\n",
      "ETYPE_ZCZB_AVG           255130 non-null float64\n",
      "ETYPE_ZCZB_AVG_RATE      255130 non-null float64\n",
      "RGYEAR_DIFF              255130 non-null int64\n",
      "ZCZB_RATE                255130 non-null float64\n",
      "ETYPE_RATE               255130 non-null float64\n",
      "MPNUM_HY_AVG_RATE        255130 non-null float64\n",
      "INUM_HY_AVG_RATE         255130 non-null float64\n",
      "FINZB_HY_AVG_RATE        255130 non-null float64\n",
      "FSTINUM_HY_AVG_RATE      255130 non-null float64\n",
      "TZINUM_HY_AVG_RATE       255130 non-null float64\n",
      "MPNUM_HY_RATE            255130 non-null float64\n",
      "INUM_HY_RATE             255130 non-null float64\n",
      "FINZB_HY_RATE            255130 non-null float64\n",
      "FSTINUM_HY_RATE          255130 non-null float64\n",
      "TZINUM_HY_RATE           255130 non-null float64\n",
      "ALTERNO_SUM              96967 non-null float64\n",
      "ALTERNO_CNT              96967 non-null float64\n",
      "ALTERNO_CNT_RATE         96967 non-null float64\n",
      "FIRST_CHANGE_TIME        96967 non-null object\n",
      "END_CHANGE_TIME          96967 non-null object\n",
      "IS_CHANGE                96967 non-null float64\n",
      "CHANGE_FIRST_ALTERNO     96967 non-null object\n",
      "CHANGE_END_ALTERNO       96967 non-null object\n",
      "CHANGE_ALTERNO_MUCNID    96967 non-null object\n",
      "dtypes: float64(31), int64(4), object(6)\n",
      "memory usage: 81.8+ MB\n"
     ]
    },
    {
     "data": {
      "text/html": [
       "<div>\n",
       "<table border=\"1\" class=\"dataframe\">\n",
       "  <thead>\n",
       "    <tr style=\"text-align: right;\">\n",
       "      <th></th>\n",
       "      <th>EID</th>\n",
       "      <th>RGYEAR</th>\n",
       "      <th>HY</th>\n",
       "      <th>ZCZB</th>\n",
       "      <th>ETYPE</th>\n",
       "      <th>MPNUM</th>\n",
       "      <th>INUM</th>\n",
       "      <th>FINZB</th>\n",
       "      <th>FSTINUM</th>\n",
       "      <th>TZINUM</th>\n",
       "      <th>...</th>\n",
       "      <th>TZINUM_HY_RATE</th>\n",
       "      <th>ALTERNO_SUM</th>\n",
       "      <th>ALTERNO_CNT</th>\n",
       "      <th>ALTERNO_CNT_RATE</th>\n",
       "      <th>FIRST_CHANGE_TIME</th>\n",
       "      <th>END_CHANGE_TIME</th>\n",
       "      <th>IS_CHANGE</th>\n",
       "      <th>CHANGE_FIRST_ALTERNO</th>\n",
       "      <th>CHANGE_END_ALTERNO</th>\n",
       "      <th>CHANGE_ALTERNO_MUCNID</th>\n",
       "    </tr>\n",
       "  </thead>\n",
       "  <tbody>\n",
       "    <tr>\n",
       "      <th>0</th>\n",
       "      <td>32741</td>\n",
       "      <td>2000-01</td>\n",
       "      <td>87</td>\n",
       "      <td>100.0</td>\n",
       "      <td>7</td>\n",
       "      <td>1.0</td>\n",
       "      <td>3.0</td>\n",
       "      <td>0.0</td>\n",
       "      <td>2.0</td>\n",
       "      <td>0.0</td>\n",
       "      <td>...</td>\n",
       "      <td>0.0</td>\n",
       "      <td>NaN</td>\n",
       "      <td>NaN</td>\n",
       "      <td>NaN</td>\n",
       "      <td>NaN</td>\n",
       "      <td>NaN</td>\n",
       "      <td>NaN</td>\n",
       "      <td>NaN</td>\n",
       "      <td>NaN</td>\n",
       "      <td>NaN</td>\n",
       "    </tr>\n",
       "    <tr>\n",
       "      <th>1</th>\n",
       "      <td>294220</td>\n",
       "      <td>2003-01</td>\n",
       "      <td>51</td>\n",
       "      <td>50.0</td>\n",
       "      <td>7</td>\n",
       "      <td>0.0</td>\n",
       "      <td>3.0</td>\n",
       "      <td>0.0</td>\n",
       "      <td>0.0</td>\n",
       "      <td>0.0</td>\n",
       "      <td>...</td>\n",
       "      <td>0.0</td>\n",
       "      <td>NaN</td>\n",
       "      <td>NaN</td>\n",
       "      <td>NaN</td>\n",
       "      <td>NaN</td>\n",
       "      <td>NaN</td>\n",
       "      <td>NaN</td>\n",
       "      <td>NaN</td>\n",
       "      <td>NaN</td>\n",
       "      <td>NaN</td>\n",
       "    </tr>\n",
       "    <tr>\n",
       "      <th>2</th>\n",
       "      <td>10526</td>\n",
       "      <td>2013-01</td>\n",
       "      <td>75</td>\n",
       "      <td>100.0</td>\n",
       "      <td>7</td>\n",
       "      <td>1.0</td>\n",
       "      <td>2.0</td>\n",
       "      <td>0.0</td>\n",
       "      <td>1.0</td>\n",
       "      <td>0.0</td>\n",
       "      <td>...</td>\n",
       "      <td>0.0</td>\n",
       "      <td>NaN</td>\n",
       "      <td>NaN</td>\n",
       "      <td>NaN</td>\n",
       "      <td>NaN</td>\n",
       "      <td>NaN</td>\n",
       "      <td>NaN</td>\n",
       "      <td>NaN</td>\n",
       "      <td>NaN</td>\n",
       "      <td>NaN</td>\n",
       "    </tr>\n",
       "    <tr>\n",
       "      <th>3</th>\n",
       "      <td>237382</td>\n",
       "      <td>2014-01</td>\n",
       "      <td>75</td>\n",
       "      <td>9900.0</td>\n",
       "      <td>7</td>\n",
       "      <td>3.0</td>\n",
       "      <td>4.0</td>\n",
       "      <td>0.0</td>\n",
       "      <td>2.0</td>\n",
       "      <td>0.0</td>\n",
       "      <td>...</td>\n",
       "      <td>0.0</td>\n",
       "      <td>NaN</td>\n",
       "      <td>NaN</td>\n",
       "      <td>NaN</td>\n",
       "      <td>NaN</td>\n",
       "      <td>NaN</td>\n",
       "      <td>NaN</td>\n",
       "      <td>NaN</td>\n",
       "      <td>NaN</td>\n",
       "      <td>NaN</td>\n",
       "    </tr>\n",
       "    <tr>\n",
       "      <th>4</th>\n",
       "      <td>473535</td>\n",
       "      <td>2008-01</td>\n",
       "      <td>75</td>\n",
       "      <td>50.0</td>\n",
       "      <td>7</td>\n",
       "      <td>3.0</td>\n",
       "      <td>5.0</td>\n",
       "      <td>0.0</td>\n",
       "      <td>1.0</td>\n",
       "      <td>0.0</td>\n",
       "      <td>...</td>\n",
       "      <td>0.0</td>\n",
       "      <td>NaN</td>\n",
       "      <td>NaN</td>\n",
       "      <td>NaN</td>\n",
       "      <td>NaN</td>\n",
       "      <td>NaN</td>\n",
       "      <td>NaN</td>\n",
       "      <td>NaN</td>\n",
       "      <td>NaN</td>\n",
       "      <td>NaN</td>\n",
       "    </tr>\n",
       "  </tbody>\n",
       "</table>\n",
       "<p>5 rows × 41 columns</p>\n",
       "</div>"
      ],
      "text/plain": [
       "      EID   RGYEAR  HY    ZCZB  ETYPE  MPNUM  INUM  FINZB  FSTINUM  TZINUM  \\\n",
       "0   32741  2000-01  87   100.0      7    1.0   3.0    0.0      2.0     0.0   \n",
       "1  294220  2003-01  51    50.0      7    0.0   3.0    0.0      0.0     0.0   \n",
       "2   10526  2013-01  75   100.0      7    1.0   2.0    0.0      1.0     0.0   \n",
       "3  237382  2014-01  75  9900.0      7    3.0   4.0    0.0      2.0     0.0   \n",
       "4  473535  2008-01  75    50.0      7    3.0   5.0    0.0      1.0     0.0   \n",
       "\n",
       "           ...            TZINUM_HY_RATE  ALTERNO_SUM  ALTERNO_CNT  \\\n",
       "0          ...                       0.0          NaN          NaN   \n",
       "1          ...                       0.0          NaN          NaN   \n",
       "2          ...                       0.0          NaN          NaN   \n",
       "3          ...                       0.0          NaN          NaN   \n",
       "4          ...                       0.0          NaN          NaN   \n",
       "\n",
       "   ALTERNO_CNT_RATE  FIRST_CHANGE_TIME  END_CHANGE_TIME  IS_CHANGE  \\\n",
       "0               NaN                NaN              NaN        NaN   \n",
       "1               NaN                NaN              NaN        NaN   \n",
       "2               NaN                NaN              NaN        NaN   \n",
       "3               NaN                NaN              NaN        NaN   \n",
       "4               NaN                NaN              NaN        NaN   \n",
       "\n",
       "   CHANGE_FIRST_ALTERNO  CHANGE_END_ALTERNO  CHANGE_ALTERNO_MUCNID  \n",
       "0                   NaN                 NaN                    NaN  \n",
       "1                   NaN                 NaN                    NaN  \n",
       "2                   NaN                 NaN                    NaN  \n",
       "3                   NaN                 NaN                    NaN  \n",
       "4                   NaN                 NaN                    NaN  \n",
       "\n",
       "[5 rows x 41 columns]"
      ]
     },
     "execution_count": 34,
     "metadata": {},
     "output_type": "execute_result"
    }
   ],
   "source": [
    "df_all.info()\n",
    "df_all.head()"
   ]
  },
  {
   "cell_type": "markdown",
   "metadata": {
    "collapsed": true
   },
   "source": [
    "> 空值填充，根据HY的类别的平均值或者众数进行填充\n",
    "   + ['ALTERNO_SUM','ALTERNO_CNT', 'ALTERNO_CNT_RATE',]使用同一个大类别的均值进行填充\n",
    "   + ['FIRST_CHANGE_TIME','END_CHANGE_TIME', 'IS_CHANGE' ]使用同一个大类别的众数进行填充\n",
    "\n"
   ]
  },
  {
   "cell_type": "code",
   "execution_count": 35,
   "metadata": {
    "collapsed": false
   },
   "outputs": [
    {
     "name": "stdout",
     "output_type": "stream",
     "text": [
      "{1, 2, 3, 4, 5, 6, 7, 8, 9, 10, 11, 12, 13, 14, 15, 17, 18, 19, 20, 21, 22, 23, 24, 25, 26, 27, 28, 29, 30, 31, 32, 33, 34, 35, 36, 37, 38, 39, 40, 41, 42, 43, 44, 45, 46, 47, 48, 49, 50, 51, 52, 53, 54, 55, 56, 58, 59, 60, 61, 62, 63, 64, 65, 66, 67, 68, 69, 70, 71, 72, 73, 74, 75, 76, 77, 78, 79, 80, 81, 82, 83, 84, 85, 86, 87, 88, 89, 93}\n"
     ]
    }
   ],
   "source": [
    "HYLIST = set(df_all['HY'])\n",
    "\n",
    "print(HYLIST)\n",
    "\n",
    "meanlist = ['ALTERNO_SUM','ALTERNO_CNT', 'ALTERNO_CNT_RATE']\n",
    "modelist = ['FIRST_CHANGE_TIME','END_CHANGE_TIME', 'IS_CHANGE','CHANGE_FIRST_ALTERNO','CHANGE_END_ALTERNO','CHANGE_ALTERNO_MUCNID' ]\n"
   ]
  },
  {
   "cell_type": "code",
   "execution_count": 36,
   "metadata": {
    "collapsed": false
   },
   "outputs": [
    {
     "data": {
      "text/plain": [
       "'02'"
      ]
     },
     "execution_count": 36,
     "metadata": {},
     "output_type": "execute_result"
    }
   ],
   "source": [
    "\n",
    "int(df_all[df_all['HY']==75]['ALTERNO_SUM'].mean())\n",
    "\n",
    "df_all[df_all['HY']==7]['CHANGE_FIRST_ALTERNO'].value_counts().index[0]\n",
    "\n"
   ]
  },
  {
   "cell_type": "code",
   "execution_count": 37,
   "metadata": {
    "collapsed": false
   },
   "outputs": [
    {
     "name": "stderr",
     "output_type": "stream",
     "text": [
      "/home/xiaoran/anaconda3/lib/python3.5/site-packages/ipykernel/__main__.py:4: UserWarning: Boolean Series key will be reindexed to match DataFrame index.\n",
      "/home/xiaoran/anaconda3/lib/python3.5/site-packages/ipykernel/__main__.py:8: UserWarning: Boolean Series key will be reindexed to match DataFrame index.\n"
     ]
    }
   ],
   "source": [
    "for HY in HYLIST:\n",
    "    # print(df_train['HY'].value_counts())\n",
    "    for d in meanlist:\n",
    "        df_all.loc[df_all[df_all[d].isnull()][df_all['HY']==HY].index,d] = df_all[df_all['HY']==HY][d].mean()\n",
    "    \n",
    "    for c in modelist:\n",
    "        if(len(df_all[df_all['HY']==HY][c].value_counts().index)==0): continue\n",
    "        df_all.loc[df_all[df_all[c].isnull()][df_all['HY']==HY].index,c] = df_all[df_all['HY']==HY][c].value_counts().index[0]\n"
   ]
  },
  {
   "cell_type": "code",
   "execution_count": 23,
   "metadata": {
    "collapsed": true
   },
   "outputs": [],
   "source": [
    "# df_all[df_all['FIRST_CHANGE_TIME'].isnull()]['FIRST_CHANGE_TIME'] = df_all[df_all['FIRST_CHANGE_TIME'].isnull()]['RGYEAR'] \n",
    "\n",
    "# df_all.loc[df_all['FIRST_CHANGE_TIME'].isnull(),'FIRST_CHANGE_TIME'] = df_all.loc[df_all['FIRST_CHANGE_TIME'].isnull(),'RGYEAR']\n",
    "# df_all.loc[df_all['END_CHANGE_TIME'].isnull(),'END_CHANGE_TIME'] = df_all.loc[df_all['END_CHANGE_TIME'].isnull(),'RGYEAR']"
   ]
  },
  {
   "cell_type": "code",
   "execution_count": null,
   "metadata": {
    "collapsed": true,
    "scrolled": true
   },
   "outputs": [],
   "source": []
  },
  {
   "cell_type": "code",
   "execution_count": 38,
   "metadata": {
    "collapsed": true
   },
   "outputs": [],
   "source": [
    "def timeDiff(x):\n",
    "    a = x[:x.find(':')]\n",
    "    b = x[x.find(':')+1:]\n",
    "    y = int(a[:a.find('-')]) - int(b[:b.find('-')])\n",
    "    m = int(a[a.find('-')+1:]) - int(b[b.find('-')+1:])\n",
    "    return y * 12 + m\n",
    "    \n",
    "df_all['FIRST_CHANGE_TIME_DIFF'] = (df_all['FIRST_CHANGE_TIME'] + ':' + df_all['RGYEAR']).apply(timeDiff)\n",
    "df_all['END_CHANGE_TIME_DIFF'] = (df_all['END_CHANGE_TIME'] + ':' + df_all['RGYEAR']).apply(timeDiff)\n",
    "\n",
    "df_all['END_FIRST_CHANGE_TIME_DIFF'] = (df_all['END_CHANGE_TIME'] + ':' + df_all['FIRST_CHANGE_TIME']).apply(timeDiff)\n"
   ]
  },
  {
   "cell_type": "code",
   "execution_count": 41,
   "metadata": {
    "collapsed": false
   },
   "outputs": [
    {
     "name": "stdout",
     "output_type": "stream",
     "text": [
      "<class 'pandas.core.frame.DataFrame'>\n",
      "Int64Index: 255130 entries, 0 to 255129\n",
      "Data columns (total 46 columns):\n",
      "EID                           255130 non-null int64\n",
      "RGYEAR                        255130 non-null object\n",
      "HY                            255130 non-null int64\n",
      "ZCZB                          255130 non-null float64\n",
      "ETYPE                         255130 non-null int64\n",
      "MPNUM                         255130 non-null float64\n",
      "INUM                          255130 non-null float64\n",
      "FINZB                         255130 non-null float64\n",
      "FSTINUM                       255130 non-null float64\n",
      "TZINUM                        255130 non-null float64\n",
      "HY_ZCZB_AVG                   255130 non-null float64\n",
      "HY_ZCZB_AVG_RATE              255130 non-null float64\n",
      "MPNUM_HY_AVG                  255130 non-null float64\n",
      "INUM_HY_AVG                   255130 non-null float64\n",
      "FINZB_HY_AVG                  255130 non-null float64\n",
      "FSTINUM_HY_AVG                255130 non-null float64\n",
      "TZINUM_HY_AVG                 255130 non-null float64\n",
      "ETYPE_ZCZB_AVG                255130 non-null float64\n",
      "ETYPE_ZCZB_AVG_RATE           255130 non-null float64\n",
      "RGYEAR_DIFF                   255130 non-null int64\n",
      "ZCZB_RATE                     255130 non-null float64\n",
      "ETYPE_RATE                    255130 non-null float64\n",
      "MPNUM_HY_AVG_RATE             255130 non-null float64\n",
      "INUM_HY_AVG_RATE              255130 non-null float64\n",
      "FINZB_HY_AVG_RATE             255130 non-null float64\n",
      "FSTINUM_HY_AVG_RATE           255130 non-null float64\n",
      "TZINUM_HY_AVG_RATE            255130 non-null float64\n",
      "MPNUM_HY_RATE                 255130 non-null float64\n",
      "INUM_HY_RATE                  255130 non-null float64\n",
      "FINZB_HY_RATE                 255130 non-null float64\n",
      "FSTINUM_HY_RATE               255130 non-null float64\n",
      "TZINUM_HY_RATE                255130 non-null float64\n",
      "ALTERNO_SUM                   255130 non-null float64\n",
      "ALTERNO_CNT                   255130 non-null float64\n",
      "ALTERNO_CNT_RATE              255130 non-null float64\n",
      "FIRST_CHANGE_TIME             255130 non-null object\n",
      "END_CHANGE_TIME               255130 non-null object\n",
      "IS_CHANGE                     255130 non-null float64\n",
      "CHANGE_FIRST_ALTERNO          255130 non-null object\n",
      "CHANGE_END_ALTERNO            255130 non-null object\n",
      "CHANGE_ALTERNO_MUCNID         255130 non-null object\n",
      "FIRST_CHANGE_TIME_DIFF        255130 non-null int64\n",
      "END_CHANGE_TIME_DIFF          255130 non-null int64\n",
      "END_FIRST_CHANGE_TIME_DIFF    255130 non-null int64\n",
      "CHANGE_PRE_CNT                255130 non-null float64\n",
      "CHANGE_CNT_RATE               255130 non-null float64\n",
      "dtypes: float64(33), int64(7), object(6)\n",
      "memory usage: 91.5+ MB\n"
     ]
    }
   ],
   "source": [
    "df_all.info()"
   ]
  },
  {
   "cell_type": "raw",
   "metadata": {},
   "source": [
    "13. 平均每几个月变更一次事件，CHANGE_PRE_CNT = ALTERNO_SUM / END_CHANGE_TIME_DIFF\n",
    "    14. 每个企业变更事件的个数占所有企业变更事件平均值的比例， CHANGE_CNT_RATE = ALTERNO_SUM / AVG \n",
    "    15. 企业对应大类HY的平均变更次数，CHANGE_HY_CNT_AVG\n",
    "    16. 企业对应大类HY的平均变更次数占所有变更时间的个数的平均值的比例，CHANGE_HY_CNT_ALL_AVG\n"
   ]
  },
  {
   "cell_type": "code",
   "execution_count": 40,
   "metadata": {
    "collapsed": true
   },
   "outputs": [],
   "source": [
    "df_all['CHANGE_PRE_CNT'] = df_all['ALTERNO_SUM'] / df_all['END_CHANGE_TIME_DIFF']\n",
    "df_all['CHANGE_CNT_RATE'] = df_all['ALTERNO_SUM'] / df_all['ALTERNO_SUM'].mean()\n"
   ]
  },
  {
   "cell_type": "code",
   "execution_count": 42,
   "metadata": {
    "collapsed": true
   },
   "outputs": [],
   "source": [
    "tmp = pd.DataFrame()\n",
    "\n",
    "tmp['CHANGE_HY_CNT_AVG'] = df_all.groupby(['HY'],as_index=True,axis=0)['ALTERNO_SUM'].mean()\n",
    "tmp['CHANGE_HY_CNT_ALL_AVG'] = tmp['CHANGE_HY_CNT_AVG'] / df_all['ALTERNO_SUM'].mean()\n",
    "tmp['HY'] = tmp.index\n",
    "\n",
    "\n",
    "\n"
   ]
  },
  {
   "cell_type": "code",
   "execution_count": 45,
   "metadata": {
    "collapsed": false
   },
   "outputs": [
    {
     "name": "stdout",
     "output_type": "stream",
     "text": [
      "<class 'pandas.core.frame.DataFrame'>\n",
      "Int64Index: 255130 entries, 0 to 255129\n",
      "Data columns (total 48 columns):\n",
      "EID                           255130 non-null int64\n",
      "RGYEAR                        255130 non-null object\n",
      "HY                            255130 non-null int64\n",
      "ZCZB                          255130 non-null float64\n",
      "ETYPE                         255130 non-null int64\n",
      "MPNUM                         255130 non-null float64\n",
      "INUM                          255130 non-null float64\n",
      "FINZB                         255130 non-null float64\n",
      "FSTINUM                       255130 non-null float64\n",
      "TZINUM                        255130 non-null float64\n",
      "HY_ZCZB_AVG                   255130 non-null float64\n",
      "HY_ZCZB_AVG_RATE              255130 non-null float64\n",
      "MPNUM_HY_AVG                  255130 non-null float64\n",
      "INUM_HY_AVG                   255130 non-null float64\n",
      "FINZB_HY_AVG                  255130 non-null float64\n",
      "FSTINUM_HY_AVG                255130 non-null float64\n",
      "TZINUM_HY_AVG                 255130 non-null float64\n",
      "ETYPE_ZCZB_AVG                255130 non-null float64\n",
      "ETYPE_ZCZB_AVG_RATE           255130 non-null float64\n",
      "RGYEAR_DIFF                   255130 non-null int64\n",
      "ZCZB_RATE                     255130 non-null float64\n",
      "ETYPE_RATE                    255130 non-null float64\n",
      "MPNUM_HY_AVG_RATE             255130 non-null float64\n",
      "INUM_HY_AVG_RATE              255130 non-null float64\n",
      "FINZB_HY_AVG_RATE             255130 non-null float64\n",
      "FSTINUM_HY_AVG_RATE           255130 non-null float64\n",
      "TZINUM_HY_AVG_RATE            255130 non-null float64\n",
      "MPNUM_HY_RATE                 255130 non-null float64\n",
      "INUM_HY_RATE                  255130 non-null float64\n",
      "FINZB_HY_RATE                 255130 non-null float64\n",
      "FSTINUM_HY_RATE               255130 non-null float64\n",
      "TZINUM_HY_RATE                255130 non-null float64\n",
      "ALTERNO_SUM                   255130 non-null float64\n",
      "ALTERNO_CNT                   255130 non-null float64\n",
      "ALTERNO_CNT_RATE              255130 non-null float64\n",
      "FIRST_CHANGE_TIME             255130 non-null object\n",
      "END_CHANGE_TIME               255130 non-null object\n",
      "IS_CHANGE                     255130 non-null float64\n",
      "CHANGE_FIRST_ALTERNO          255130 non-null object\n",
      "CHANGE_END_ALTERNO            255130 non-null object\n",
      "CHANGE_ALTERNO_MUCNID         255130 non-null object\n",
      "FIRST_CHANGE_TIME_DIFF        255130 non-null int64\n",
      "END_CHANGE_TIME_DIFF          255130 non-null int64\n",
      "END_FIRST_CHANGE_TIME_DIFF    255130 non-null int64\n",
      "CHANGE_PRE_CNT                255130 non-null float64\n",
      "CHANGE_CNT_RATE               255130 non-null float64\n",
      "CHANGE_HY_CNT_AVG             255130 non-null float64\n",
      "CHANGE_HY_CNT_ALL_AVG         255130 non-null float64\n",
      "dtypes: float64(35), int64(7), object(6)\n",
      "memory usage: 95.4+ MB\n"
     ]
    }
   ],
   "source": [
    "df_all1.info()"
   ]
  },
  {
   "cell_type": "code",
   "execution_count": 46,
   "metadata": {
    "collapsed": true
   },
   "outputs": [],
   "source": [
    "df_all = pd.merge(df_all,tmp,how='left',on=['HY'])\n"
   ]
  },
  {
   "cell_type": "code",
   "execution_count": 47,
   "metadata": {
    "collapsed": false
   },
   "outputs": [
    {
     "name": "stdout",
     "output_type": "stream",
     "text": [
      "<class 'pandas.core.frame.DataFrame'>\n",
      "Int64Index: 255130 entries, 0 to 255129\n",
      "Data columns (total 48 columns):\n",
      "EID                           255130 non-null int64\n",
      "RGYEAR                        255130 non-null object\n",
      "HY                            255130 non-null int64\n",
      "ZCZB                          255130 non-null float64\n",
      "ETYPE                         255130 non-null int64\n",
      "MPNUM                         255130 non-null float64\n",
      "INUM                          255130 non-null float64\n",
      "FINZB                         255130 non-null float64\n",
      "FSTINUM                       255130 non-null float64\n",
      "TZINUM                        255130 non-null float64\n",
      "HY_ZCZB_AVG                   255130 non-null float64\n",
      "HY_ZCZB_AVG_RATE              255130 non-null float64\n",
      "MPNUM_HY_AVG                  255130 non-null float64\n",
      "INUM_HY_AVG                   255130 non-null float64\n",
      "FINZB_HY_AVG                  255130 non-null float64\n",
      "FSTINUM_HY_AVG                255130 non-null float64\n",
      "TZINUM_HY_AVG                 255130 non-null float64\n",
      "ETYPE_ZCZB_AVG                255130 non-null float64\n",
      "ETYPE_ZCZB_AVG_RATE           255130 non-null float64\n",
      "RGYEAR_DIFF                   255130 non-null int64\n",
      "ZCZB_RATE                     255130 non-null float64\n",
      "ETYPE_RATE                    255130 non-null float64\n",
      "MPNUM_HY_AVG_RATE             255130 non-null float64\n",
      "INUM_HY_AVG_RATE              255130 non-null float64\n",
      "FINZB_HY_AVG_RATE             255130 non-null float64\n",
      "FSTINUM_HY_AVG_RATE           255130 non-null float64\n",
      "TZINUM_HY_AVG_RATE            255130 non-null float64\n",
      "MPNUM_HY_RATE                 255130 non-null float64\n",
      "INUM_HY_RATE                  255130 non-null float64\n",
      "FINZB_HY_RATE                 255130 non-null float64\n",
      "FSTINUM_HY_RATE               255130 non-null float64\n",
      "TZINUM_HY_RATE                255130 non-null float64\n",
      "ALTERNO_SUM                   255130 non-null float64\n",
      "ALTERNO_CNT                   255130 non-null float64\n",
      "ALTERNO_CNT_RATE              255130 non-null float64\n",
      "FIRST_CHANGE_TIME             255130 non-null object\n",
      "END_CHANGE_TIME               255130 non-null object\n",
      "IS_CHANGE                     255130 non-null float64\n",
      "CHANGE_FIRST_ALTERNO          255130 non-null object\n",
      "CHANGE_END_ALTERNO            255130 non-null object\n",
      "CHANGE_ALTERNO_MUCNID         255130 non-null object\n",
      "FIRST_CHANGE_TIME_DIFF        255130 non-null int64\n",
      "END_CHANGE_TIME_DIFF          255130 non-null int64\n",
      "END_FIRST_CHANGE_TIME_DIFF    255130 non-null int64\n",
      "CHANGE_PRE_CNT                255130 non-null float64\n",
      "CHANGE_CNT_RATE               255130 non-null float64\n",
      "CHANGE_HY_CNT_AVG             255130 non-null float64\n",
      "CHANGE_HY_CNT_ALL_AVG         255130 non-null float64\n",
      "dtypes: float64(35), int64(7), object(6)\n",
      "memory usage: 95.4+ MB\n"
     ]
    },
    {
     "data": {
      "text/html": [
       "<div>\n",
       "<table border=\"1\" class=\"dataframe\">\n",
       "  <thead>\n",
       "    <tr style=\"text-align: right;\">\n",
       "      <th></th>\n",
       "      <th>EID</th>\n",
       "      <th>RGYEAR</th>\n",
       "      <th>HY</th>\n",
       "      <th>ZCZB</th>\n",
       "      <th>ETYPE</th>\n",
       "      <th>MPNUM</th>\n",
       "      <th>INUM</th>\n",
       "      <th>FINZB</th>\n",
       "      <th>FSTINUM</th>\n",
       "      <th>TZINUM</th>\n",
       "      <th>...</th>\n",
       "      <th>CHANGE_FIRST_ALTERNO</th>\n",
       "      <th>CHANGE_END_ALTERNO</th>\n",
       "      <th>CHANGE_ALTERNO_MUCNID</th>\n",
       "      <th>FIRST_CHANGE_TIME_DIFF</th>\n",
       "      <th>END_CHANGE_TIME_DIFF</th>\n",
       "      <th>END_FIRST_CHANGE_TIME_DIFF</th>\n",
       "      <th>CHANGE_PRE_CNT</th>\n",
       "      <th>CHANGE_CNT_RATE</th>\n",
       "      <th>CHANGE_HY_CNT_AVG</th>\n",
       "      <th>CHANGE_HY_CNT_ALL_AVG</th>\n",
       "    </tr>\n",
       "  </thead>\n",
       "  <tbody>\n",
       "    <tr>\n",
       "      <th>0</th>\n",
       "      <td>32741</td>\n",
       "      <td>2000-01</td>\n",
       "      <td>87</td>\n",
       "      <td>100.0</td>\n",
       "      <td>7</td>\n",
       "      <td>1.0</td>\n",
       "      <td>3.0</td>\n",
       "      <td>0.0</td>\n",
       "      <td>2.0</td>\n",
       "      <td>0.0</td>\n",
       "      <td>...</td>\n",
       "      <td>12</td>\n",
       "      <td>12</td>\n",
       "      <td>12</td>\n",
       "      <td>182</td>\n",
       "      <td>182</td>\n",
       "      <td>0</td>\n",
       "      <td>0.015744</td>\n",
       "      <td>0.924004</td>\n",
       "      <td>2.865397</td>\n",
       "      <td>0.924004</td>\n",
       "    </tr>\n",
       "    <tr>\n",
       "      <th>1</th>\n",
       "      <td>294220</td>\n",
       "      <td>2003-01</td>\n",
       "      <td>51</td>\n",
       "      <td>50.0</td>\n",
       "      <td>7</td>\n",
       "      <td>0.0</td>\n",
       "      <td>3.0</td>\n",
       "      <td>0.0</td>\n",
       "      <td>0.0</td>\n",
       "      <td>0.0</td>\n",
       "      <td>...</td>\n",
       "      <td>12</td>\n",
       "      <td>12</td>\n",
       "      <td>12</td>\n",
       "      <td>146</td>\n",
       "      <td>146</td>\n",
       "      <td>0</td>\n",
       "      <td>0.020849</td>\n",
       "      <td>0.981587</td>\n",
       "      <td>3.043965</td>\n",
       "      <td>0.981587</td>\n",
       "    </tr>\n",
       "    <tr>\n",
       "      <th>2</th>\n",
       "      <td>10526</td>\n",
       "      <td>2013-01</td>\n",
       "      <td>75</td>\n",
       "      <td>100.0</td>\n",
       "      <td>7</td>\n",
       "      <td>1.0</td>\n",
       "      <td>2.0</td>\n",
       "      <td>0.0</td>\n",
       "      <td>1.0</td>\n",
       "      <td>0.0</td>\n",
       "      <td>...</td>\n",
       "      <td>12</td>\n",
       "      <td>12</td>\n",
       "      <td>12</td>\n",
       "      <td>26</td>\n",
       "      <td>26</td>\n",
       "      <td>0</td>\n",
       "      <td>0.124123</td>\n",
       "      <td>1.040675</td>\n",
       "      <td>3.227200</td>\n",
       "      <td>1.040675</td>\n",
       "    </tr>\n",
       "    <tr>\n",
       "      <th>3</th>\n",
       "      <td>237382</td>\n",
       "      <td>2014-01</td>\n",
       "      <td>75</td>\n",
       "      <td>9900.0</td>\n",
       "      <td>7</td>\n",
       "      <td>3.0</td>\n",
       "      <td>4.0</td>\n",
       "      <td>0.0</td>\n",
       "      <td>2.0</td>\n",
       "      <td>0.0</td>\n",
       "      <td>...</td>\n",
       "      <td>12</td>\n",
       "      <td>12</td>\n",
       "      <td>12</td>\n",
       "      <td>14</td>\n",
       "      <td>14</td>\n",
       "      <td>0</td>\n",
       "      <td>0.230514</td>\n",
       "      <td>1.040675</td>\n",
       "      <td>3.227200</td>\n",
       "      <td>1.040675</td>\n",
       "    </tr>\n",
       "    <tr>\n",
       "      <th>4</th>\n",
       "      <td>473535</td>\n",
       "      <td>2008-01</td>\n",
       "      <td>75</td>\n",
       "      <td>50.0</td>\n",
       "      <td>7</td>\n",
       "      <td>3.0</td>\n",
       "      <td>5.0</td>\n",
       "      <td>0.0</td>\n",
       "      <td>1.0</td>\n",
       "      <td>0.0</td>\n",
       "      <td>...</td>\n",
       "      <td>12</td>\n",
       "      <td>12</td>\n",
       "      <td>12</td>\n",
       "      <td>86</td>\n",
       "      <td>86</td>\n",
       "      <td>0</td>\n",
       "      <td>0.037526</td>\n",
       "      <td>1.040675</td>\n",
       "      <td>3.227200</td>\n",
       "      <td>1.040675</td>\n",
       "    </tr>\n",
       "  </tbody>\n",
       "</table>\n",
       "<p>5 rows × 48 columns</p>\n",
       "</div>"
      ],
      "text/plain": [
       "      EID   RGYEAR  HY    ZCZB  ETYPE  MPNUM  INUM  FINZB  FSTINUM  TZINUM  \\\n",
       "0   32741  2000-01  87   100.0      7    1.0   3.0    0.0      2.0     0.0   \n",
       "1  294220  2003-01  51    50.0      7    0.0   3.0    0.0      0.0     0.0   \n",
       "2   10526  2013-01  75   100.0      7    1.0   2.0    0.0      1.0     0.0   \n",
       "3  237382  2014-01  75  9900.0      7    3.0   4.0    0.0      2.0     0.0   \n",
       "4  473535  2008-01  75    50.0      7    3.0   5.0    0.0      1.0     0.0   \n",
       "\n",
       "           ...            CHANGE_FIRST_ALTERNO  CHANGE_END_ALTERNO  \\\n",
       "0          ...                              12                  12   \n",
       "1          ...                              12                  12   \n",
       "2          ...                              12                  12   \n",
       "3          ...                              12                  12   \n",
       "4          ...                              12                  12   \n",
       "\n",
       "   CHANGE_ALTERNO_MUCNID  FIRST_CHANGE_TIME_DIFF  END_CHANGE_TIME_DIFF  \\\n",
       "0                     12                     182                   182   \n",
       "1                     12                     146                   146   \n",
       "2                     12                      26                    26   \n",
       "3                     12                      14                    14   \n",
       "4                     12                      86                    86   \n",
       "\n",
       "   END_FIRST_CHANGE_TIME_DIFF  CHANGE_PRE_CNT  CHANGE_CNT_RATE  \\\n",
       "0                           0        0.015744         0.924004   \n",
       "1                           0        0.020849         0.981587   \n",
       "2                           0        0.124123         1.040675   \n",
       "3                           0        0.230514         1.040675   \n",
       "4                           0        0.037526         1.040675   \n",
       "\n",
       "   CHANGE_HY_CNT_AVG  CHANGE_HY_CNT_ALL_AVG  \n",
       "0           2.865397               0.924004  \n",
       "1           3.043965               0.981587  \n",
       "2           3.227200               1.040675  \n",
       "3           3.227200               1.040675  \n",
       "4           3.227200               1.040675  \n",
       "\n",
       "[5 rows x 48 columns]"
      ]
     },
     "execution_count": 47,
     "metadata": {},
     "output_type": "execute_result"
    }
   ],
   "source": [
    "df_all.info()\n",
    "df_all.head()"
   ]
  },
  {
   "cell_type": "code",
   "execution_count": null,
   "metadata": {
    "collapsed": true
   },
   "outputs": [],
   "source": []
  },
  {
   "cell_type": "code",
   "execution_count": 48,
   "metadata": {
    "collapsed": true
   },
   "outputs": [],
   "source": [
    "df_all.to_csv('../data/alldata/df_data12.csv',index=False,index_label=False)"
   ]
  },
  {
   "cell_type": "code",
   "execution_count": 30,
   "metadata": {
    "collapsed": false
   },
   "outputs": [
    {
     "name": "stdout",
     "output_type": "stream",
     "text": [
      "<class 'pandas.core.frame.DataFrame'>\n",
      "Int64Index: 255130 entries, 0 to 255129\n",
      "Data columns (total 24 columns):\n",
      "EID                           255130 non-null object\n",
      "RGYEAR                        255130 non-null object\n",
      "RGYEAR_DIFF                   255130 non-null int64\n",
      "ZCZB                          255130 non-null float64\n",
      "HY                            255130 non-null int64\n",
      "ETYPE                         255130 non-null int64\n",
      "ZCZB_RATE                     255130 non-null float64\n",
      "ETYPE_RATE                    255130 non-null float64\n",
      "MPNUM                         255130 non-null float64\n",
      "INUM                          255130 non-null float64\n",
      "FINZB                         255130 non-null float64\n",
      "FSTINUM                       255130 non-null float64\n",
      "TZINUM                        255130 non-null float64\n",
      "ALTERNO_SUM                   255130 non-null float64\n",
      "ALTERNO_CNT                   255130 non-null float64\n",
      "ALTERNO_CNT_RATE              255130 non-null float64\n",
      "FIRST_CHANGE_TIME             255130 non-null object\n",
      "END_CHANGE_TIME               255130 non-null object\n",
      "IS_CHANGE                     255130 non-null float64\n",
      "CHANGE_FIRST_ALTERNO          255130 non-null object\n",
      "CHANGE_END_ALTERNO            255130 non-null object\n",
      "CHANGE_ALTERNO_MUCNID         255130 non-null object\n",
      "FIRST_CHANGE_TIME_DIFF        255130 non-null int64\n",
      "END_FIRST_CHANGE_TIME_DIFF    255130 non-null int64\n",
      "dtypes: float64(12), int64(5), object(7)\n",
      "memory usage: 58.7+ MB\n"
     ]
    }
   ],
   "source": [
    "df_all.info()"
   ]
  },
  {
   "cell_type": "code",
   "execution_count": null,
   "metadata": {
    "collapsed": true
   },
   "outputs": [],
   "source": []
  },
  {
   "cell_type": "code",
   "execution_count": null,
   "metadata": {
    "collapsed": true
   },
   "outputs": [],
   "source": []
  },
  {
   "cell_type": "code",
   "execution_count": 39,
   "metadata": {
    "collapsed": true
   },
   "outputs": [],
   "source": [
    "# 得到在df_xchange的所有数据，\n",
    "# df_xall = df_all[df_all['EID'].isin(df_xchange['EID'])]\n"
   ]
  },
  {
   "cell_type": "code",
   "execution_count": 41,
   "metadata": {
    "collapsed": false,
    "scrolled": true
   },
   "outputs": [
    {
     "data": {
      "text/plain": [
       "96967"
      ]
     },
     "execution_count": 41,
     "metadata": {},
     "output_type": "execute_result"
    }
   ],
   "source": []
  },
  {
   "cell_type": "code",
   "execution_count": 42,
   "metadata": {
    "collapsed": true
   },
   "outputs": [],
   "source": [
    "# 分成训练和测试文件写入文件\n",
    "# df_train,df_test = pro_data.spliteData(df_xall)\n",
    "# df_train.to_csv('../data/newData/df_train01.csv',index=False,index_label=False)\n",
    "# df_test.to_csv('../data/newData/df_test01.csv',index=False,index_label=False)\n",
    "\n",
    "# df_all.to_csv('../data/alldata/df_data01.csv',index=False,index_label=False)"
   ]
  },
  {
   "cell_type": "code",
   "execution_count": 45,
   "metadata": {
    "collapsed": true
   },
   "outputs": [],
   "source": []
  },
  {
   "cell_type": "code",
   "execution_count": null,
   "metadata": {
    "collapsed": true
   },
   "outputs": [],
   "source": []
  },
  {
   "cell_type": "code",
   "execution_count": 46,
   "metadata": {
    "collapsed": true
   },
   "outputs": [],
   "source": []
  },
  {
   "cell_type": "code",
   "execution_count": null,
   "metadata": {
    "collapsed": true
   },
   "outputs": [],
   "source": []
  }
 ],
 "metadata": {
  "anaconda-cloud": {},
  "kernelspec": {
   "display_name": "Python [default]",
   "language": "python",
   "name": "python3"
  },
  "language_info": {
   "codemirror_mode": {
    "name": "ipython",
    "version": 3
   },
   "file_extension": ".py",
   "mimetype": "text/x-python",
   "name": "python",
   "nbconvert_exporter": "python",
   "pygments_lexer": "ipython3",
   "version": "3.5.3"
  }
 },
 "nbformat": 4,
 "nbformat_minor": 2
}
