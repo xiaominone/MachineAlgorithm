{
 "cells": [
  {
   "cell_type": "code",
   "execution_count": 1,
   "metadata": {
    "collapsed": true
   },
   "outputs": [],
   "source": [
    "import numpy as np\n",
    "import pandas as pd\n",
    "import seaborn as sns\n",
    "import matplotlib.pyplot as plt\n",
    "import pro_data"
   ]
  },
  {
   "cell_type": "markdown",
   "metadata": {},
   "source": [
    "# 权利数据5right.csv提取特征\n",
    "    1. 企业拥有权利的个数，RIGHT_CNT\n",
    "    2. 企业拥有权利类型的个数，RIGHT_TYPE_CNT\n",
    "    3. 企业拥有权利类型的比例，RIGHT_TYPE_RATE\n",
    "    4. 第一个获得的权利的类型，RIGHT_FIRST_TYPECODE\n",
    "    5. 最后一个获得的权利的类型，RIGHT_END_TYPECODE\n",
    "    6. 获得最多的权利的类型，RIGHT_TYPECODE_MUCHID\n",
    "\n",
    "    7. 第一个权利申请日期, RIGHT_FIRST_ASK_TIME\n",
    "    8. 第一个权利富于日期, RIGHT_FIRST_FB_TIME\n",
    "    9. 最后一个权利申请日期, RIGHT_END_ASK_TIME\n",
    "    10. 最后一个权利富于日期, RIGHT_END_FB_TIME\n",
    "    \n",
    "    11. 第一个权利申请日期和权利富于日期的差值，RIGHT_FIRST_ASK_FB_DIFF\n",
    "    12. 最后一个权利申请日期和权利富于日期的差值，RIGHT_END_ASK_FB_DIFF\n",
    "    13. 第一个和最后一个权利申请日期的差值，RIGHT_FIRST_END_ASK_DIFF\n",
    "    14. 第一个和最后一个权利富于日期的差值，RIGHT_FIRST_END_FB_DIFF\n",
    "    15. 第一个申请和最后一个权利富于日期的差值，RIGHT_FIRST_ASK_END_FB_DIFF\n",
    "    \n",
    "    16. 第一个权利的申请日期和公司注册时间的差值，RIGHT_FIRST_ASK_RGYEAR_DIFF\n",
    "    17. 第一个权利的富于日期和公司注册时间的差值，RIGHT_FIRST_FB_RGYEAR_DIFF\n",
    "    18. 最后一个权利的申请日期和公司注册时间的差值，RIGHT_END_ASK_RGYEAR_DIFF\n",
    "    19. 最后一个权利的富于日期和公司注册时间的差值，RIGHT_END_FB_RGYEAR_DIFF\n",
    "    \n",
    "    20. 第一个权利的申请日期和公司第一个变动时间的差值，RIGHT_FIRST_ASK_FIRST_CHANGE_DIFF\n",
    "    21. 第一个权利的富于日期和公司第一个变动时间的差值，RIGHT_FIRST_FB_FIRST_CHANGE_DIFF\n",
    "    22. 最后一个权利的申请日期和公司第一个变动时间的差值，RIGHT_END_ASK_FIRST_CHANGE_DIFF\n",
    "    23. 最后一个权利的富于日期和公司第一个变动时间的差值，RIGHT_END_FB_FIRST_CHANGE_DIFF\n",
    "    \n",
    "    24. 第一个权利的申请日期和公司最后一个变动时间的差值，RIGHT_FIRST_ASK_END_CHANGE_DIFF\n",
    "    25. 第一个权利的富于日期和公司最后一个变动时间的差值，RIGHT_FIRST_FB_END_CHANGE_DIFF\n",
    "    26. 最后一个权利的申请日期和公司最后一个变动时间的差值，RIGHT_END_ASK_END_CHANGE_DIFF\n",
    "    27. 最后一个权利的富于日期和公司最后一个变动时间的差值，RIGHT_END_FB_END_CHANGE_DIFF\n",
    "    \n",
    "    ---------------------------------------------------------------------------------------------------\n",
    "    28. 企业权利的个数占所有权利个数平均值的比例。RIGHT_CNT_ALL_RATE\n",
    "    \n",
    "    29. 企业对应的大类HY的平均权利的个数，RIGHT_HY_CNT_AVG\n",
    "    30. 企业对应大类HY的平均权利个数占所有权利平均个数的比例，RIGHT_HY_CNT_ALL_RATE\n",
    "    31. 企业权利的个数占其对应的大类HY的平均值的比例，RIGHT_CNT_HY_RATE\n",
    "\n"
   ]
  },
  {
   "cell_type": "code",
   "execution_count": 2,
   "metadata": {
    "collapsed": true
   },
   "outputs": [],
   "source": [
    "df_all = pd.read_csv(\"../data/alldata/df_data1234.csv\")\n",
    "df_right = pd.read_csv(\"../data/public/5right.csv\")"
   ]
  },
  {
   "cell_type": "code",
   "execution_count": 3,
   "metadata": {
    "collapsed": false
   },
   "outputs": [
    {
     "name": "stdout",
     "output_type": "stream",
     "text": [
      "<class 'pandas.core.frame.DataFrame'>\n",
      "RangeIndex: 255130 entries, 0 to 255129\n",
      "Columns: 107 entries, EID to TZ_BTBL_HY_AVG_RATE\n",
      "dtypes: float64(78), int64(20), object(9)\n",
      "memory usage: 208.3+ MB\n"
     ]
    },
    {
     "data": {
      "text/html": [
       "<div>\n",
       "<table border=\"1\" class=\"dataframe\">\n",
       "  <thead>\n",
       "    <tr style=\"text-align: right;\">\n",
       "      <th></th>\n",
       "      <th>EID</th>\n",
       "      <th>RGYEAR</th>\n",
       "      <th>HY</th>\n",
       "      <th>ZCZB</th>\n",
       "      <th>ETYPE</th>\n",
       "      <th>MPNUM</th>\n",
       "      <th>INUM</th>\n",
       "      <th>FINZB</th>\n",
       "      <th>FSTINUM</th>\n",
       "      <th>TZINUM</th>\n",
       "      <th>...</th>\n",
       "      <th>TZ_HY_CNT_AVG</th>\n",
       "      <th>TZ_HY_CNT_ALL_AVG_RATE</th>\n",
       "      <th>TZ_CLOSE_HY_CNT_AVG</th>\n",
       "      <th>TZ_HY_CLOSE_CNT_ALL_AVG_RATE</th>\n",
       "      <th>TZ_OPEN_HY_CNT_AVG</th>\n",
       "      <th>TZ_HY_OPEN_CNT_ALL_AVG_RATE</th>\n",
       "      <th>TZ_HY_BTBL_AVG</th>\n",
       "      <th>TZ_HY_BTBL_ALL_AVG_RATE</th>\n",
       "      <th>TZ_CNT_HY_AVG_RATE</th>\n",
       "      <th>TZ_BTBL_HY_AVG_RATE</th>\n",
       "    </tr>\n",
       "  </thead>\n",
       "  <tbody>\n",
       "    <tr>\n",
       "      <th>0</th>\n",
       "      <td>32741</td>\n",
       "      <td>2000-01</td>\n",
       "      <td>87</td>\n",
       "      <td>100.0</td>\n",
       "      <td>7</td>\n",
       "      <td>1.0</td>\n",
       "      <td>3.0</td>\n",
       "      <td>0.0</td>\n",
       "      <td>2.0</td>\n",
       "      <td>0.0</td>\n",
       "      <td>...</td>\n",
       "      <td>0.084015</td>\n",
       "      <td>0.386036</td>\n",
       "      <td>0.010065</td>\n",
       "      <td>0.315573</td>\n",
       "      <td>0.073950</td>\n",
       "      <td>0.398135</td>\n",
       "      <td>0.025430</td>\n",
       "      <td>0.609528</td>\n",
       "      <td>47.610799</td>\n",
       "      <td>12.780027</td>\n",
       "    </tr>\n",
       "    <tr>\n",
       "      <th>1</th>\n",
       "      <td>294220</td>\n",
       "      <td>2003-01</td>\n",
       "      <td>51</td>\n",
       "      <td>50.0</td>\n",
       "      <td>7</td>\n",
       "      <td>0.0</td>\n",
       "      <td>3.0</td>\n",
       "      <td>0.0</td>\n",
       "      <td>0.0</td>\n",
       "      <td>0.0</td>\n",
       "      <td>...</td>\n",
       "      <td>0.127995</td>\n",
       "      <td>0.588121</td>\n",
       "      <td>0.027904</td>\n",
       "      <td>0.874915</td>\n",
       "      <td>0.100091</td>\n",
       "      <td>0.538875</td>\n",
       "      <td>0.022578</td>\n",
       "      <td>0.541157</td>\n",
       "      <td>0.000000</td>\n",
       "      <td>0.000000</td>\n",
       "    </tr>\n",
       "    <tr>\n",
       "      <th>2</th>\n",
       "      <td>10526</td>\n",
       "      <td>2013-01</td>\n",
       "      <td>75</td>\n",
       "      <td>100.0</td>\n",
       "      <td>7</td>\n",
       "      <td>1.0</td>\n",
       "      <td>2.0</td>\n",
       "      <td>0.0</td>\n",
       "      <td>1.0</td>\n",
       "      <td>0.0</td>\n",
       "      <td>...</td>\n",
       "      <td>0.156538</td>\n",
       "      <td>0.719274</td>\n",
       "      <td>0.024424</td>\n",
       "      <td>0.765791</td>\n",
       "      <td>0.132115</td>\n",
       "      <td>0.711286</td>\n",
       "      <td>0.043025</td>\n",
       "      <td>1.031240</td>\n",
       "      <td>0.000000</td>\n",
       "      <td>0.000000</td>\n",
       "    </tr>\n",
       "    <tr>\n",
       "      <th>3</th>\n",
       "      <td>237382</td>\n",
       "      <td>2014-01</td>\n",
       "      <td>75</td>\n",
       "      <td>9900.0</td>\n",
       "      <td>7</td>\n",
       "      <td>3.0</td>\n",
       "      <td>4.0</td>\n",
       "      <td>0.0</td>\n",
       "      <td>2.0</td>\n",
       "      <td>0.0</td>\n",
       "      <td>...</td>\n",
       "      <td>0.156538</td>\n",
       "      <td>0.719274</td>\n",
       "      <td>0.024424</td>\n",
       "      <td>0.765791</td>\n",
       "      <td>0.132115</td>\n",
       "      <td>0.711286</td>\n",
       "      <td>0.043025</td>\n",
       "      <td>1.031240</td>\n",
       "      <td>0.000000</td>\n",
       "      <td>0.000000</td>\n",
       "    </tr>\n",
       "    <tr>\n",
       "      <th>4</th>\n",
       "      <td>473535</td>\n",
       "      <td>2008-01</td>\n",
       "      <td>75</td>\n",
       "      <td>50.0</td>\n",
       "      <td>7</td>\n",
       "      <td>3.0</td>\n",
       "      <td>5.0</td>\n",
       "      <td>0.0</td>\n",
       "      <td>1.0</td>\n",
       "      <td>0.0</td>\n",
       "      <td>...</td>\n",
       "      <td>0.156538</td>\n",
       "      <td>0.719274</td>\n",
       "      <td>0.024424</td>\n",
       "      <td>0.765791</td>\n",
       "      <td>0.132115</td>\n",
       "      <td>0.711286</td>\n",
       "      <td>0.043025</td>\n",
       "      <td>1.031240</td>\n",
       "      <td>0.000000</td>\n",
       "      <td>0.000000</td>\n",
       "    </tr>\n",
       "  </tbody>\n",
       "</table>\n",
       "<p>5 rows × 107 columns</p>\n",
       "</div>"
      ],
      "text/plain": [
       "      EID   RGYEAR  HY    ZCZB  ETYPE  MPNUM  INUM  FINZB  FSTINUM  TZINUM  \\\n",
       "0   32741  2000-01  87   100.0      7    1.0   3.0    0.0      2.0     0.0   \n",
       "1  294220  2003-01  51    50.0      7    0.0   3.0    0.0      0.0     0.0   \n",
       "2   10526  2013-01  75   100.0      7    1.0   2.0    0.0      1.0     0.0   \n",
       "3  237382  2014-01  75  9900.0      7    3.0   4.0    0.0      2.0     0.0   \n",
       "4  473535  2008-01  75    50.0      7    3.0   5.0    0.0      1.0     0.0   \n",
       "\n",
       "          ...           TZ_HY_CNT_AVG  TZ_HY_CNT_ALL_AVG_RATE  \\\n",
       "0         ...                0.084015                0.386036   \n",
       "1         ...                0.127995                0.588121   \n",
       "2         ...                0.156538                0.719274   \n",
       "3         ...                0.156538                0.719274   \n",
       "4         ...                0.156538                0.719274   \n",
       "\n",
       "   TZ_CLOSE_HY_CNT_AVG  TZ_HY_CLOSE_CNT_ALL_AVG_RATE  TZ_OPEN_HY_CNT_AVG  \\\n",
       "0             0.010065                      0.315573            0.073950   \n",
       "1             0.027904                      0.874915            0.100091   \n",
       "2             0.024424                      0.765791            0.132115   \n",
       "3             0.024424                      0.765791            0.132115   \n",
       "4             0.024424                      0.765791            0.132115   \n",
       "\n",
       "   TZ_HY_OPEN_CNT_ALL_AVG_RATE  TZ_HY_BTBL_AVG  TZ_HY_BTBL_ALL_AVG_RATE  \\\n",
       "0                     0.398135        0.025430                 0.609528   \n",
       "1                     0.538875        0.022578                 0.541157   \n",
       "2                     0.711286        0.043025                 1.031240   \n",
       "3                     0.711286        0.043025                 1.031240   \n",
       "4                     0.711286        0.043025                 1.031240   \n",
       "\n",
       "   TZ_CNT_HY_AVG_RATE  TZ_BTBL_HY_AVG_RATE  \n",
       "0           47.610799            12.780027  \n",
       "1            0.000000             0.000000  \n",
       "2            0.000000             0.000000  \n",
       "3            0.000000             0.000000  \n",
       "4            0.000000             0.000000  \n",
       "\n",
       "[5 rows x 107 columns]"
      ]
     },
     "execution_count": 3,
     "metadata": {},
     "output_type": "execute_result"
    }
   ],
   "source": [
    "df_all.info()\n",
    "df_all.head()"
   ]
  },
  {
   "cell_type": "code",
   "execution_count": 4,
   "metadata": {
    "collapsed": false,
    "scrolled": true
   },
   "outputs": [
    {
     "name": "stdout",
     "output_type": "stream",
     "text": [
      "<class 'pandas.core.frame.DataFrame'>\n",
      "RangeIndex: 1118501 entries, 0 to 1118500\n",
      "Data columns (total 5 columns):\n",
      "EID          1118501 non-null int64\n",
      "RIGHTTYPE    1118501 non-null int64\n",
      "TYPECODE     1118501 non-null object\n",
      "ASKDATE      1118501 non-null object\n",
      "FBDATE       1007478 non-null object\n",
      "dtypes: int64(2), object(3)\n",
      "memory usage: 42.7+ MB\n"
     ]
    }
   ],
   "source": [
    "df_right.info()\n",
    "df_right.head()\n",
    "\n",
    "df_right = df_right.sort_values(['ASKDATE','FBDATE'])"
   ]
  },
  {
   "cell_type": "code",
   "execution_count": 5,
   "metadata": {
    "collapsed": false,
    "scrolled": true
   },
   "outputs": [
    {
     "name": "stderr",
     "output_type": "stream",
     "text": [
      "/home/xiaoran/anaconda3/lib/python3.5/site-packages/ipykernel/__main__.py:18: UserWarning: Boolean Series key will be reindexed to match DataFrame index.\n",
      "/home/xiaoran/anaconda3/lib/python3.5/site-packages/ipykernel/__main__.py:20: UserWarning: Boolean Series key will be reindexed to match DataFrame index.\n",
      "/home/xiaoran/anaconda3/lib/python3.5/site-packages/ipykernel/__main__.py:21: UserWarning: Boolean Series key will be reindexed to match DataFrame index.\n"
     ]
    }
   ],
   "source": [
    "# set(df_right['RIGHTTYPE'])\n",
    "def settime(x):\n",
    "    y = int(x[:x.find('-')])\n",
    "    m = int(x[x.find('-')+1:])\n",
    "    m+=2\n",
    "    y = y+int(m/12)\n",
    "    if m%12 == 0:\n",
    "        m = 12\n",
    "    else:\n",
    "        m = m%12\n",
    "    \n",
    "    if(m<10):\n",
    "        return str(y)+\"-0\"+str(m)\n",
    "    \n",
    "    return str(y)+\"-\"+str(m)\n",
    "\n",
    "\n",
    "df_right.loc[df_right[df_right['RIGHTTYPE']==11][df_right['FBDATE'].isnull()].index,'FBDATE'] = df_right[df_right['RIGHTTYPE']==11][df_right['FBDATE'].isnull()]['ASKDATE']\n",
    "\n",
    "df_right.loc[df_right[df_right['RIGHTTYPE']==40][df_right['FBDATE'].isnull()].index,'FBDATE'] = df_right[df_right['RIGHTTYPE']==40][df_right['FBDATE'].isnull()]['ASKDATE'].apply(settime)\n",
    "df_right.loc[df_right[df_right['RIGHTTYPE']==50][df_right['FBDATE'].isnull()].index,'FBDATE'] = df_right[df_right['RIGHTTYPE']==50][df_right['FBDATE'].isnull()]['ASKDATE'].apply(settime)\n",
    "\n"
   ]
  },
  {
   "cell_type": "code",
   "execution_count": 6,
   "metadata": {
    "collapsed": false
   },
   "outputs": [
    {
     "data": {
      "text/plain": [
       "73005"
      ]
     },
     "execution_count": 6,
     "metadata": {},
     "output_type": "execute_result"
    }
   ],
   "source": [
    "EIDS = set(df_right['EID'])\n",
    "\n",
    "len(EIDS)"
   ]
  },
  {
   "cell_type": "code",
   "execution_count": 8,
   "metadata": {
    "collapsed": false
   },
   "outputs": [
    {
     "name": "stdout",
     "output_type": "stream",
     "text": [
      "Index(['EID', 'RIGHTTYPE', 'TYPECODE', 'ASKDATE', 'FBDATE'], dtype='object')\n"
     ]
    }
   ],
   "source": [
    "columns = df_right.columns\n",
    "df_xright = pd.DataFrame(columns=columns)\n",
    "\n",
    "print(columns)"
   ]
  },
  {
   "cell_type": "code",
   "execution_count": 9,
   "metadata": {
    "collapsed": false
   },
   "outputs": [
    {
     "name": "stdout",
     "output_type": "stream",
     "text": [
      "第%d次处理---------> 0\n",
      "第%d次处理---------> 3000\n",
      "第%d次处理---------> 6000\n",
      "第%d次处理---------> 9000\n",
      "第%d次处理---------> 12000\n",
      "第%d次处理---------> 15000\n",
      "第%d次处理---------> 18000\n",
      "第%d次处理---------> 21000\n",
      "第%d次处理---------> 24000\n",
      "第%d次处理---------> 27000\n",
      "第%d次处理---------> 30000\n",
      "第%d次处理---------> 33000\n",
      "第%d次处理---------> 36000\n",
      "第%d次处理---------> 39000\n",
      "第%d次处理---------> 42000\n",
      "第%d次处理---------> 45000\n",
      "第%d次处理---------> 48000\n",
      "第%d次处理---------> 51000\n",
      "第%d次处理---------> 54000\n",
      "第%d次处理---------> 57000\n",
      "第%d次处理---------> 60000\n",
      "第%d次处理---------> 63000\n",
      "第%d次处理---------> 66000\n",
      "第%d次处理---------> 69000\n",
      "第%d次处理---------> 72000\n"
     ]
    }
   ],
   "source": [
    "k = 0\n",
    "for EID in EIDS:\n",
    "    if k%3000 == 0:\n",
    "        print('第%d次处理--------->',k)\n",
    "    k+=1\n",
    "    tmp = df_right[df_right['EID'] == EID]\n",
    "    row = [EID,tmp['RIGHTTYPE'].values,tmp['TYPECODE'].values,tmp['ASKDATE'].values,tmp['FBDATE'].values]\n",
    "    \n",
    "    df_xright = df_xright.append(pd.Series(row,columns),ignore_index=True)\n",
    "    "
   ]
  },
  {
   "cell_type": "code",
   "execution_count": 10,
   "metadata": {
    "collapsed": false,
    "scrolled": true
   },
   "outputs": [
    {
     "name": "stdout",
     "output_type": "stream",
     "text": [
      "<class 'pandas.core.frame.DataFrame'>\n",
      "RangeIndex: 73005 entries, 0 to 73004\n",
      "Data columns (total 5 columns):\n",
      "EID          73005 non-null float64\n",
      "RIGHTTYPE    73005 non-null object\n",
      "TYPECODE     73005 non-null object\n",
      "ASKDATE      73005 non-null object\n",
      "FBDATE       73005 non-null object\n",
      "dtypes: float64(1), object(4)\n",
      "memory usage: 2.8+ MB\n"
     ]
    },
    {
     "data": {
      "text/html": [
       "<div>\n",
       "<table border=\"1\" class=\"dataframe\">\n",
       "  <thead>\n",
       "    <tr style=\"text-align: right;\">\n",
       "      <th></th>\n",
       "      <th>EID</th>\n",
       "      <th>RIGHTTYPE</th>\n",
       "      <th>TYPECODE</th>\n",
       "      <th>ASKDATE</th>\n",
       "      <th>FBDATE</th>\n",
       "    </tr>\n",
       "  </thead>\n",
       "  <tbody>\n",
       "    <tr>\n",
       "      <th>0</th>\n",
       "      <td>262148.0</td>\n",
       "      <td>[40, 40, 40]</td>\n",
       "      <td>[mno128550, mno625051, mno439189]</td>\n",
       "      <td>[2004-10, 2004-10, 2004-10]</td>\n",
       "      <td>[2007-11, 2007-12, 2007-12]</td>\n",
       "    </tr>\n",
       "    <tr>\n",
       "      <th>1</th>\n",
       "      <td>262154.0</td>\n",
       "      <td>[40, 40, 40]</td>\n",
       "      <td>[mno109684, mno92335, mno43906]</td>\n",
       "      <td>[1999-06, 2000-06, 2000-06]</td>\n",
       "      <td>[2000-10, 2001-07, 2011-10]</td>\n",
       "    </tr>\n",
       "    <tr>\n",
       "      <th>2</th>\n",
       "      <td>11.0</td>\n",
       "      <td>[50, 50, 50, 50, 50, 50, 50, 50, 50, 50, 40, 5...</td>\n",
       "      <td>[cno376354, cno376353, cno376355, cno378483, c...</td>\n",
       "      <td>[2006-04, 2006-04, 2006-04, 2007-01, 2007-05, ...</td>\n",
       "      <td>[2001-02, 2002-01, 2005-01, 2005-10, 2007-01, ...</td>\n",
       "    </tr>\n",
       "    <tr>\n",
       "      <th>3</th>\n",
       "      <td>524299.0</td>\n",
       "      <td>[60]</td>\n",
       "      <td>[GXB33829249]</td>\n",
       "      <td>[2013-01]</td>\n",
       "      <td>[2013-01]</td>\n",
       "    </tr>\n",
       "    <tr>\n",
       "      <th>4</th>\n",
       "      <td>262157.0</td>\n",
       "      <td>[40, 60, 60, 60]</td>\n",
       "      <td>[mno228558, 48745236, 48745231, 48745235]</td>\n",
       "      <td>[2009-05, 2014-09, 2014-09, 2014-09]</td>\n",
       "      <td>[2011-04, 2014-09, 2014-09, 2014-09]</td>\n",
       "    </tr>\n",
       "  </tbody>\n",
       "</table>\n",
       "</div>"
      ],
      "text/plain": [
       "        EID                                          RIGHTTYPE  \\\n",
       "0  262148.0                                       [40, 40, 40]   \n",
       "1  262154.0                                       [40, 40, 40]   \n",
       "2      11.0  [50, 50, 50, 50, 50, 50, 50, 50, 50, 50, 40, 5...   \n",
       "3  524299.0                                               [60]   \n",
       "4  262157.0                                   [40, 60, 60, 60]   \n",
       "\n",
       "                                            TYPECODE  \\\n",
       "0                  [mno128550, mno625051, mno439189]   \n",
       "1                    [mno109684, mno92335, mno43906]   \n",
       "2  [cno376354, cno376353, cno376355, cno378483, c...   \n",
       "3                                      [GXB33829249]   \n",
       "4          [mno228558, 48745236, 48745231, 48745235]   \n",
       "\n",
       "                                             ASKDATE  \\\n",
       "0                        [2004-10, 2004-10, 2004-10]   \n",
       "1                        [1999-06, 2000-06, 2000-06]   \n",
       "2  [2006-04, 2006-04, 2006-04, 2007-01, 2007-05, ...   \n",
       "3                                          [2013-01]   \n",
       "4               [2009-05, 2014-09, 2014-09, 2014-09]   \n",
       "\n",
       "                                              FBDATE  \n",
       "0                        [2007-11, 2007-12, 2007-12]  \n",
       "1                        [2000-10, 2001-07, 2011-10]  \n",
       "2  [2001-02, 2002-01, 2005-01, 2005-10, 2007-01, ...  \n",
       "3                                          [2013-01]  \n",
       "4               [2011-04, 2014-09, 2014-09, 2014-09]  "
      ]
     },
     "execution_count": 10,
     "metadata": {},
     "output_type": "execute_result"
    }
   ],
   "source": [
    "df_xright.info()\n",
    "df_xright.head()"
   ]
  },
  {
   "cell_type": "code",
   "execution_count": 11,
   "metadata": {
    "collapsed": false
   },
   "outputs": [
    {
     "name": "stdout",
     "output_type": "stream",
     "text": [
      "7\n"
     ]
    },
    {
     "data": {
      "text/plain": [
       "{11, 12, 20, 30, 40, 50, 60}"
      ]
     },
     "execution_count": 11,
     "metadata": {},
     "output_type": "execute_result"
    }
   ],
   "source": [
    "k = len(set(df_right['RIGHTTYPE']))\n",
    "print(k)\n",
    "\n",
    "set(df_right['RIGHTTYPE'])"
   ]
  },
  {
   "cell_type": "code",
   "execution_count": 12,
   "metadata": {
    "collapsed": true
   },
   "outputs": [],
   "source": [
    "def getTZCnt(x):\n",
    "    return len(x)\n",
    "    \n",
    "df_xright['RIGHT_CNT'] = df_xright['RIGHTTYPE'].apply(getTZCnt)\n",
    "\n",
    "def cnt(x):\n",
    "    return len(set(x))\n",
    "\n",
    "df_xright['RIGHT_TYPE_CNT'] = df_xright['RIGHTTYPE'].apply(getTZCnt)\n",
    "\n",
    "df_xright['RIGHT_TYPE_RATE'] = df_xright['RIGHT_TYPE_CNT'] / k"
   ]
  },
  {
   "cell_type": "code",
   "execution_count": 13,
   "metadata": {
    "collapsed": true
   },
   "outputs": [],
   "source": [
    "def getFAlterno(x):\n",
    "    return x[0]\n",
    "\n",
    "def getEAlterno(x):\n",
    "    return x[-1]\n",
    "\n",
    "def getMAlterno(x):\n",
    "    x = list(x)\n",
    "    x.sort()\n",
    "    m = x[0]\n",
    "    \n",
    "    mk = 0\n",
    "    mm = x[0]\n",
    "    \n",
    "    k = 1\n",
    "    n = len(x)\n",
    "    \n",
    "    for i in range(1,n):\n",
    "        if x[i] == x[i-1]:\n",
    "            k+=1\n",
    "        else:\n",
    "            if k>mk:\n",
    "                mk = k\n",
    "                mm = x[i-1]\n",
    "            \n",
    "            k = 1\n",
    "    return mm\n",
    "\n",
    "df_xright['RIGHT_FIRST_TYPECODE'] = df_xright['RIGHTTYPE'].apply(getFAlterno)\n",
    "df_xright['RIGHT_END_TYPECODE'] = df_xright['RIGHTTYPE'].apply(getEAlterno)\n",
    "df_xright['RIGHT_TYPECODE_MUCHID'] = df_xright['RIGHTTYPE'].apply(getMAlterno)\n"
   ]
  },
  {
   "cell_type": "code",
   "execution_count": 14,
   "metadata": {
    "collapsed": true
   },
   "outputs": [],
   "source": [
    "df_xright['RIGHT_FIRST_ASK_TIME'] = df_xright['ASKDATE'].apply(lambda x: x[0])\n",
    "df_xright['RIGHT_FIRST_FB_TIME'] = df_xright['FBDATE'].apply(lambda x: x[0])\n",
    "\n",
    "df_xright['RIGHT_END_ASK_TIME'] = df_xright['ASKDATE'].apply(lambda x: x[-1])\n",
    "df_xright['RIGHT_END_FB_TIME'] = df_xright['FBDATE'].apply(lambda x: x[-1])\n",
    "\n"
   ]
  },
  {
   "cell_type": "code",
   "execution_count": 15,
   "metadata": {
    "collapsed": false
   },
   "outputs": [
    {
     "data": {
      "text/plain": [
       "Index(['EID', 'RIGHTTYPE', 'TYPECODE', 'ASKDATE', 'FBDATE', 'RIGHT_CNT',\n",
       "       'RIGHT_TYPE_CNT', 'RIGHT_TYPE_RATE', 'RIGHT_FIRST_TYPECODE',\n",
       "       'RIGHT_END_TYPECODE', 'RIGHT_TYPECODE_MUCHID', 'RIGHT_FIRST_ASK_TIME',\n",
       "       'RIGHT_FIRST_FB_TIME', 'RIGHT_END_ASK_TIME', 'RIGHT_END_FB_TIME'],\n",
       "      dtype='object')"
      ]
     },
     "execution_count": 15,
     "metadata": {},
     "output_type": "execute_result"
    }
   ],
   "source": [
    "df_xright.to_csv('../data/public/5right_1.csv',index=False,index_label=False)\n",
    "df_xright.columns\n",
    "\n"
   ]
  },
  {
   "cell_type": "code",
   "execution_count": 16,
   "metadata": {
    "collapsed": true
   },
   "outputs": [],
   "source": [
    "df_all = pd.merge(df_all,df_xright[['EID', 'RIGHT_CNT','RIGHT_TYPE_CNT', 'RIGHT_TYPE_RATE', 'RIGHT_FIRST_TYPECODE',\n",
    "                                'RIGHT_END_TYPECODE', 'RIGHT_TYPECODE_MUCHID', 'RIGHT_FIRST_ASK_TIME',\n",
    "                                'RIGHT_FIRST_FB_TIME', 'RIGHT_END_ASK_TIME', 'RIGHT_END_FB_TIME']],how='left',on=['EID'])\n"
   ]
  },
  {
   "cell_type": "code",
   "execution_count": 17,
   "metadata": {
    "collapsed": false,
    "scrolled": true
   },
   "outputs": [
    {
     "name": "stdout",
     "output_type": "stream",
     "text": [
      "{1, 2, 3, 4, 5, 6, 7, 8, 9, 10, 11, 12, 13, 14, 15, 17, 18, 19, 20, 21, 22, 23, 24, 25, 26, 27, 28, 29, 30, 31, 32, 33, 34, 35, 36, 37, 38, 39, 40, 41, 42, 43, 44, 45, 46, 47, 48, 49, 50, 51, 52, 53, 54, 55, 56, 58, 59, 60, 61, 62, 63, 64, 65, 66, 67, 68, 69, 70, 71, 72, 73, 74, 75, 76, 77, 78, 79, 80, 81, 82, 83, 84, 85, 86, 87, 88, 89, 93}\n"
     ]
    }
   ],
   "source": [
    "# 空值填充，根据HY的类别的平均值或者众数进行填充\n",
    "# ['RIGHT_CNT','RIGHT_TYPE_CNT', 'RIGHT_TYPE_RATE']使用同一个大类别的均值进行填充\n",
    "# ['RIGHT_FIRST_TYPECODE','RIGHT_END_TYPECODE', 'RIGHT_TYPECODE_MUCHID', 'RIGHT_FIRST_ASK_TIME',\n",
    "#     'RIGHT_FIRST_FB_TIME', 'RIGHT_END_ASK_TIME', 'RIGHT_END_FB_TIME']使用同一个大类别的众数进行填充\n",
    "\n",
    "HYLIST = set(df_all['HY'])\n",
    "print(HYLIST)\n",
    "\n",
    "meanlist = ['RIGHT_CNT','RIGHT_TYPE_CNT', 'RIGHT_TYPE_RATE']\n",
    "modelist = ['RIGHT_FIRST_TYPECODE','RIGHT_END_TYPECODE', 'RIGHT_TYPECODE_MUCHID', 'RIGHT_FIRST_ASK_TIME',\n",
    "            'RIGHT_FIRST_FB_TIME', 'RIGHT_END_ASK_TIME', 'RIGHT_END_FB_TIME']"
   ]
  },
  {
   "cell_type": "code",
   "execution_count": 18,
   "metadata": {
    "collapsed": false
   },
   "outputs": [
    {
     "name": "stderr",
     "output_type": "stream",
     "text": [
      "/home/xiaoran/anaconda3/lib/python3.5/site-packages/ipykernel/__main__.py:4: UserWarning: Boolean Series key will be reindexed to match DataFrame index.\n",
      "/home/xiaoran/anaconda3/lib/python3.5/site-packages/ipykernel/__main__.py:8: UserWarning: Boolean Series key will be reindexed to match DataFrame index.\n"
     ]
    }
   ],
   "source": [
    "for HY in HYLIST:\n",
    "    # print(df_train['HY'].value_counts())\n",
    "    for d in meanlist:\n",
    "        df_all.loc[df_all[df_all[d].isnull()][df_all['HY']==HY].index,d] = df_all[df_all['HY']==HY][d].mean()\n",
    "    \n",
    "    for c in modelist:\n",
    "        if(len(df_all[df_all['HY']==HY][c].value_counts().index)==0): continue\n",
    "        df_all.loc[df_all[df_all[c].isnull()][df_all['HY']==HY].index,c] = df_all[df_all['HY']==HY][c].value_counts().index[0]\n"
   ]
  },
  {
   "cell_type": "code",
   "execution_count": 19,
   "metadata": {
    "collapsed": true,
    "scrolled": true
   },
   "outputs": [],
   "source": [
    "for d in meanlist:\n",
    "    df_all.loc[df_all[d].isnull(),d] = 0\n",
    "\n",
    "for c in modelist:\n",
    "    df_all.loc[df_all[c].isnull(),c] = df_all[c].value_counts().index[0]\n"
   ]
  },
  {
   "cell_type": "code",
   "execution_count": null,
   "metadata": {
    "collapsed": true
   },
   "outputs": [],
   "source": []
  },
  {
   "cell_type": "code",
   "execution_count": 20,
   "metadata": {
    "collapsed": true
   },
   "outputs": [],
   "source": [
    "def timeDiff(x):\n",
    "    a = x[:x.find(':')]\n",
    "    b = x[x.find(':')+1:]\n",
    "    y = int(a[:a.find('-')]) - int(b[:b.find('-')])\n",
    "    m = int(a[a.find('-')+1:]) - int(b[b.find('-')+1:])\n",
    "    return y * 12 + m\n",
    "\n"
   ]
  },
  {
   "cell_type": "code",
   "execution_count": 21,
   "metadata": {
    "collapsed": true
   },
   "outputs": [],
   "source": [
    "df_all['RIGHT_FIRST_ASK_FB_DIFF'] = (df_all['RIGHT_FIRST_FB_TIME'] + ':' + df_all['RIGHT_FIRST_ASK_TIME']).apply(timeDiff)\n",
    "df_all['RIGHT_END_ASK_FB_DIFF'] = (df_all['RIGHT_END_FB_TIME'] + ':' + df_all['RIGHT_END_ASK_TIME']).apply(timeDiff)\n",
    "df_all['RIGHT_FIRST_END_ASK_DIFF'] = (df_all['RIGHT_END_ASK_TIME'] + ':' + df_all['RIGHT_FIRST_ASK_TIME']).apply(timeDiff)\n",
    "df_all['RIGHT_FIRST_END_FB_DIFF'] = (df_all['RIGHT_END_FB_TIME'] + ':' + df_all['RIGHT_FIRST_FB_TIME']).apply(timeDiff)\n",
    "df_all['RIGHT_FIRST_ASK_END_FB_DIFF'] = (df_all['RIGHT_END_FB_TIME'] + ':' + df_all['RIGHT_FIRST_ASK_TIME']).apply(timeDiff)\n"
   ]
  },
  {
   "cell_type": "code",
   "execution_count": 22,
   "metadata": {
    "collapsed": true
   },
   "outputs": [],
   "source": [
    "df_all['RIGHT_FIRST_ASK_RGYEAR_DIFF'] = (df_all['RIGHT_FIRST_ASK_TIME'] + ':' + df_all['RGYEAR']).apply(timeDiff)\n",
    "df_all['RIGHT_FIRST_FB_RGYEAR_DIFF'] = (df_all['RIGHT_FIRST_FB_TIME'] + ':' + df_all['RGYEAR']).apply(timeDiff)\n",
    "\n",
    "df_all['RIGHT_END_ASK_RGYEAR_DIFF'] = (df_all['RIGHT_END_ASK_TIME'] + ':' + df_all['RGYEAR']).apply(timeDiff)\n",
    "df_all['RIGHT_END_FB_RGYEAR_DIFF'] = (df_all['RIGHT_END_FB_TIME'] + ':' + df_all['RGYEAR']).apply(timeDiff)\n",
    "\n"
   ]
  },
  {
   "cell_type": "code",
   "execution_count": 23,
   "metadata": {
    "collapsed": true
   },
   "outputs": [],
   "source": [
    "df_all['RIGHT_FIRST_ASK_FIRST_CHANGE_DIFF'] = (df_all['RIGHT_FIRST_ASK_TIME'] + ':' + df_all['FIRST_CHANGE_TIME']).apply(timeDiff)\n",
    "df_all['RIGHT_FIRST_FB_FIRST_CHANGE_DIFF'] = (df_all['RIGHT_FIRST_FB_TIME'] + ':' + df_all['FIRST_CHANGE_TIME']).apply(timeDiff)\n",
    "\n",
    "df_all['RIGHT_END_ASK_FIRST_CHANGE_DIFF'] = (df_all['RIGHT_END_ASK_TIME'] + ':' + df_all['FIRST_CHANGE_TIME']).apply(timeDiff)\n",
    "df_all['RIGHT_END_FB_FIRST_CHANGE_DIFF'] = (df_all['RIGHT_END_FB_TIME'] + ':' + df_all['FIRST_CHANGE_TIME']).apply(timeDiff)\n",
    "\n"
   ]
  },
  {
   "cell_type": "code",
   "execution_count": 24,
   "metadata": {
    "collapsed": true
   },
   "outputs": [],
   "source": [
    "df_all['RIGHT_FIRST_ASK_END_CHANGE_DIFF'] = (df_all['RIGHT_FIRST_ASK_TIME'] + ':' + df_all['END_CHANGE_TIME']).apply(timeDiff)\n",
    "df_all['RIGHT_FIRST_FB_END_CHANGE_DIFF'] = (df_all['RIGHT_FIRST_FB_TIME'] + ':' + df_all['END_CHANGE_TIME']).apply(timeDiff)\n",
    "\n",
    "df_all['RIGHT_END_ASK_END_CHANGE_DIFF'] = (df_all['RIGHT_END_ASK_TIME'] + ':' + df_all['END_CHANGE_TIME']).apply(timeDiff)\n",
    "df_all['RIGHT_END_FB_END_CHANGE_DIFF'] = (df_all['RIGHT_END_FB_TIME'] + ':' + df_all['END_CHANGE_TIME']).apply(timeDiff)\n"
   ]
  },
  {
   "cell_type": "raw",
   "metadata": {},
   "source": [
    "    ---------------------------------------------------------------------------------------------------\n",
    "    28. 企业权利的个数占所有权利个数平均值的比例。RIGHT_CNT_ALL_RATE\n",
    "    \n",
    "    29. 企业对应的大类HY的平均权利的个数，RIGHT_HY_CNT_AVG\n",
    "    30. 企业对应大类HY的平均权利个数占所有权利平均个数的比例，RIGHT_HY_CNT_ALL_RATE\n",
    "    31. 企业权利的个数占其对应的大类HY的平均值的比例，RIGHT_CNT_HY_RATE\n"
   ]
  },
  {
   "cell_type": "code",
   "execution_count": 26,
   "metadata": {
    "collapsed": true
   },
   "outputs": [],
   "source": [
    "df_all['RIGHT_CNT_ALL_RATE'] = df_all['RIGHT_CNT'] / df_all['RIGHT_CNT'].mean()\n",
    "\n"
   ]
  },
  {
   "cell_type": "code",
   "execution_count": 27,
   "metadata": {
    "collapsed": true
   },
   "outputs": [],
   "source": [
    "tmp = pd.DataFrame()\n",
    "\n",
    "tmp['RIGHT_HY_CNT_AVG'] = df_all.groupby(['HY'],as_index=True,axis=0)['RIGHT_CNT'].mean()\n",
    "tmp['RIGHT_HY_CNT_ALL_RATE'] = tmp['RIGHT_HY_CNT_AVG'] / df_all['RIGHT_CNT'].mean()\n",
    "\n",
    "tmp['HY'] = tmp.index\n",
    "\n",
    "df_all = pd.merge(df_all,tmp,how='left',on=['HY'])\n"
   ]
  },
  {
   "cell_type": "code",
   "execution_count": 28,
   "metadata": {
    "collapsed": true
   },
   "outputs": [],
   "source": [
    "df_all['RIGHT_CNT_HY_RATE'] = df_all['RIGHT_CNT'] / df_all['RIGHT_HY_CNT_AVG']\n",
    "\n"
   ]
  },
  {
   "cell_type": "code",
   "execution_count": 29,
   "metadata": {
    "collapsed": false,
    "scrolled": true
   },
   "outputs": [
    {
     "name": "stdout",
     "output_type": "stream",
     "text": [
      "<class 'pandas.core.frame.DataFrame'>\n",
      "Int64Index: 255130 entries, 0 to 255129\n",
      "Columns: 138 entries, EID to RIGHT_CNT_HY_RATE\n",
      "dtypes: float64(88), int64(37), object(13)\n",
      "memory usage: 270.6+ MB\n"
     ]
    },
    {
     "data": {
      "text/html": [
       "<div>\n",
       "<table border=\"1\" class=\"dataframe\">\n",
       "  <thead>\n",
       "    <tr style=\"text-align: right;\">\n",
       "      <th></th>\n",
       "      <th>EID</th>\n",
       "      <th>RGYEAR</th>\n",
       "      <th>HY</th>\n",
       "      <th>ZCZB</th>\n",
       "      <th>ETYPE</th>\n",
       "      <th>MPNUM</th>\n",
       "      <th>INUM</th>\n",
       "      <th>FINZB</th>\n",
       "      <th>FSTINUM</th>\n",
       "      <th>TZINUM</th>\n",
       "      <th>...</th>\n",
       "      <th>RIGHT_END_ASK_FIRST_CHANGE_DIFF</th>\n",
       "      <th>RIGHT_END_FB_FIRST_CHANGE_DIFF</th>\n",
       "      <th>RIGHT_FIRST_ASK_END_CHANGE_DIFF</th>\n",
       "      <th>RIGHT_FIRST_FB_END_CHANGE_DIFF</th>\n",
       "      <th>RIGHT_END_ASK_END_CHANGE_DIFF</th>\n",
       "      <th>RIGHT_END_FB_END_CHANGE_DIFF</th>\n",
       "      <th>RIGHT_CNT_ALL_RATE</th>\n",
       "      <th>RIGHT_HY_CNT_AVG</th>\n",
       "      <th>RIGHT_HY_CNT_ALL_RATE</th>\n",
       "      <th>RIGHT_CNT_HY_RATE</th>\n",
       "    </tr>\n",
       "  </thead>\n",
       "  <tbody>\n",
       "    <tr>\n",
       "      <th>0</th>\n",
       "      <td>32741</td>\n",
       "      <td>2000-01</td>\n",
       "      <td>87</td>\n",
       "      <td>100.0</td>\n",
       "      <td>7</td>\n",
       "      <td>1.0</td>\n",
       "      <td>3.0</td>\n",
       "      <td>0.0</td>\n",
       "      <td>2.0</td>\n",
       "      <td>0.0</td>\n",
       "      <td>...</td>\n",
       "      <td>5</td>\n",
       "      <td>5</td>\n",
       "      <td>-6</td>\n",
       "      <td>-6</td>\n",
       "      <td>5</td>\n",
       "      <td>5</td>\n",
       "      <td>0.571313</td>\n",
       "      <td>7.014960</td>\n",
       "      <td>0.571313</td>\n",
       "      <td>1.000000</td>\n",
       "    </tr>\n",
       "    <tr>\n",
       "      <th>1</th>\n",
       "      <td>294220</td>\n",
       "      <td>2003-01</td>\n",
       "      <td>51</td>\n",
       "      <td>50.0</td>\n",
       "      <td>7</td>\n",
       "      <td>0.0</td>\n",
       "      <td>3.0</td>\n",
       "      <td>0.0</td>\n",
       "      <td>0.0</td>\n",
       "      <td>0.0</td>\n",
       "      <td>...</td>\n",
       "      <td>-124</td>\n",
       "      <td>-94</td>\n",
       "      <td>-124</td>\n",
       "      <td>-104</td>\n",
       "      <td>-124</td>\n",
       "      <td>-94</td>\n",
       "      <td>0.162884</td>\n",
       "      <td>4.423446</td>\n",
       "      <td>0.360254</td>\n",
       "      <td>0.452136</td>\n",
       "    </tr>\n",
       "    <tr>\n",
       "      <th>2</th>\n",
       "      <td>10526</td>\n",
       "      <td>2013-01</td>\n",
       "      <td>75</td>\n",
       "      <td>100.0</td>\n",
       "      <td>7</td>\n",
       "      <td>1.0</td>\n",
       "      <td>2.0</td>\n",
       "      <td>0.0</td>\n",
       "      <td>1.0</td>\n",
       "      <td>0.0</td>\n",
       "      <td>...</td>\n",
       "      <td>5</td>\n",
       "      <td>5</td>\n",
       "      <td>-6</td>\n",
       "      <td>-10</td>\n",
       "      <td>5</td>\n",
       "      <td>5</td>\n",
       "      <td>2.533139</td>\n",
       "      <td>31.103584</td>\n",
       "      <td>2.533139</td>\n",
       "      <td>1.000000</td>\n",
       "    </tr>\n",
       "    <tr>\n",
       "      <th>3</th>\n",
       "      <td>237382</td>\n",
       "      <td>2014-01</td>\n",
       "      <td>75</td>\n",
       "      <td>9900.0</td>\n",
       "      <td>7</td>\n",
       "      <td>3.0</td>\n",
       "      <td>4.0</td>\n",
       "      <td>0.0</td>\n",
       "      <td>2.0</td>\n",
       "      <td>0.0</td>\n",
       "      <td>...</td>\n",
       "      <td>2</td>\n",
       "      <td>4</td>\n",
       "      <td>2</td>\n",
       "      <td>16</td>\n",
       "      <td>2</td>\n",
       "      <td>4</td>\n",
       "      <td>0.244326</td>\n",
       "      <td>31.103584</td>\n",
       "      <td>2.533139</td>\n",
       "      <td>0.096452</td>\n",
       "    </tr>\n",
       "    <tr>\n",
       "      <th>4</th>\n",
       "      <td>473535</td>\n",
       "      <td>2008-01</td>\n",
       "      <td>75</td>\n",
       "      <td>50.0</td>\n",
       "      <td>7</td>\n",
       "      <td>3.0</td>\n",
       "      <td>5.0</td>\n",
       "      <td>0.0</td>\n",
       "      <td>1.0</td>\n",
       "      <td>0.0</td>\n",
       "      <td>...</td>\n",
       "      <td>5</td>\n",
       "      <td>5</td>\n",
       "      <td>-6</td>\n",
       "      <td>-10</td>\n",
       "      <td>5</td>\n",
       "      <td>5</td>\n",
       "      <td>2.533139</td>\n",
       "      <td>31.103584</td>\n",
       "      <td>2.533139</td>\n",
       "      <td>1.000000</td>\n",
       "    </tr>\n",
       "  </tbody>\n",
       "</table>\n",
       "<p>5 rows × 138 columns</p>\n",
       "</div>"
      ],
      "text/plain": [
       "      EID   RGYEAR  HY    ZCZB  ETYPE  MPNUM  INUM  FINZB  FSTINUM  TZINUM  \\\n",
       "0   32741  2000-01  87   100.0      7    1.0   3.0    0.0      2.0     0.0   \n",
       "1  294220  2003-01  51    50.0      7    0.0   3.0    0.0      0.0     0.0   \n",
       "2   10526  2013-01  75   100.0      7    1.0   2.0    0.0      1.0     0.0   \n",
       "3  237382  2014-01  75  9900.0      7    3.0   4.0    0.0      2.0     0.0   \n",
       "4  473535  2008-01  75    50.0      7    3.0   5.0    0.0      1.0     0.0   \n",
       "\n",
       "         ...          RIGHT_END_ASK_FIRST_CHANGE_DIFF  \\\n",
       "0        ...                                        5   \n",
       "1        ...                                     -124   \n",
       "2        ...                                        5   \n",
       "3        ...                                        2   \n",
       "4        ...                                        5   \n",
       "\n",
       "   RIGHT_END_FB_FIRST_CHANGE_DIFF  RIGHT_FIRST_ASK_END_CHANGE_DIFF  \\\n",
       "0                               5                               -6   \n",
       "1                             -94                             -124   \n",
       "2                               5                               -6   \n",
       "3                               4                                2   \n",
       "4                               5                               -6   \n",
       "\n",
       "   RIGHT_FIRST_FB_END_CHANGE_DIFF  RIGHT_END_ASK_END_CHANGE_DIFF  \\\n",
       "0                              -6                              5   \n",
       "1                            -104                           -124   \n",
       "2                             -10                              5   \n",
       "3                              16                              2   \n",
       "4                             -10                              5   \n",
       "\n",
       "   RIGHT_END_FB_END_CHANGE_DIFF  RIGHT_CNT_ALL_RATE  RIGHT_HY_CNT_AVG  \\\n",
       "0                             5            0.571313          7.014960   \n",
       "1                           -94            0.162884          4.423446   \n",
       "2                             5            2.533139         31.103584   \n",
       "3                             4            0.244326         31.103584   \n",
       "4                             5            2.533139         31.103584   \n",
       "\n",
       "   RIGHT_HY_CNT_ALL_RATE  RIGHT_CNT_HY_RATE  \n",
       "0               0.571313           1.000000  \n",
       "1               0.360254           0.452136  \n",
       "2               2.533139           1.000000  \n",
       "3               2.533139           0.096452  \n",
       "4               2.533139           1.000000  \n",
       "\n",
       "[5 rows x 138 columns]"
      ]
     },
     "execution_count": 29,
     "metadata": {},
     "output_type": "execute_result"
    }
   ],
   "source": [
    "df_all.info()\n",
    "df_all.head()"
   ]
  },
  {
   "cell_type": "code",
   "execution_count": 30,
   "metadata": {
    "collapsed": true
   },
   "outputs": [],
   "source": [
    "# 得到在df_xchange的所有数据，\n",
    "df_all = df_all.fillna(0)\n",
    "df_all.to_csv('../data/alldata/df_data12345.csv',index=False,index_label=False)\n",
    "\n"
   ]
  },
  {
   "cell_type": "code",
   "execution_count": null,
   "metadata": {
    "collapsed": true
   },
   "outputs": [],
   "source": []
  }
 ],
 "metadata": {
  "anaconda-cloud": {},
  "kernelspec": {
   "display_name": "Python [default]",
   "language": "python",
   "name": "python3"
  },
  "language_info": {
   "codemirror_mode": {
    "name": "ipython",
    "version": 3
   },
   "file_extension": ".py",
   "mimetype": "text/x-python",
   "name": "python",
   "nbconvert_exporter": "python",
   "pygments_lexer": "ipython3",
   "version": "3.5.3"
  }
 },
 "nbformat": 4,
 "nbformat_minor": 1
}
